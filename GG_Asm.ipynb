{
  "nbformat": 4,
  "nbformat_minor": 0,
  "metadata": {
    "colab": {
      "provenance": [],
      "authorship_tag": "ABX9TyMs7AB2d5mJpGD4SXxwPvQV",
      "include_colab_link": true
    },
    "kernelspec": {
      "name": "python3",
      "display_name": "Python 3"
    },
    "language_info": {
      "name": "python"
    }
  },
  "cells": [
    {
      "cell_type": "markdown",
      "metadata": {
        "id": "view-in-github",
        "colab_type": "text"
      },
      "source": [
        "<a href=\"https://colab.research.google.com/github/RAHULRAJ666DX/Gsm/blob/main/GG_Asm.ipynb\" target=\"_parent\"><img src=\"https://colab.research.google.com/assets/colab-badge.svg\" alt=\"Open In Colab\"/></a>"
      ]
    },
    {
      "cell_type": "markdown",
      "source": [
        "## **Importing all necessary packages**"
      ],
      "metadata": {
        "id": "N1bkntA8pNcz"
      }
    },
    {
      "cell_type": "code",
      "execution_count": null,
      "metadata": {
        "id": "hfkhE0VKJvh1"
      },
      "outputs": [],
      "source": [
        "import numpy as np\n",
        "import pandas as pd \n",
        "import matplotlib.pyplot as plt\n",
        "import seaborn as sns"
      ]
    },
    {
      "cell_type": "markdown",
      "source": [
        "## **Importing all 6 Datasets**"
      ],
      "metadata": {
        "id": "l0JdpdvIm2rs"
      }
    },
    {
      "cell_type": "code",
      "source": [
        "User_offer_completion_data= pd.read_csv(\"https://raw.githubusercontent.com/RAHULRAJ666DX/Gsm/main/Q2_User%20offer%20completion%20data.csv\")\n",
        "User_Offer_df = pd.read_csv(\"https://raw.githubusercontent.com/RAHULRAJ666DX/Gsm/main/Q2_User%20offer%20data.csv\")\n",
        "Rewards_details= pd.read_csv(\"https://raw.githubusercontent.com/RAHULRAJ666DX/Gsm/main/Q2_rewards%20details.csv\")\n",
        "User_Signup_data= pd.read_csv(\"https://raw.githubusercontent.com/RAHULRAJ666DX/Gsm/main/Q2_users%20signup.csv\")\n",
        "sikka_data_df= pd.read_csv(\"https://raw.githubusercontent.com/RAHULRAJ666DX/Gsm/main/Q3_Sikka%20data.csv\")\n",
        "adx_df= pd.read_csv(\"https://raw.githubusercontent.com/RAHULRAJ666DX/Gsm/main/Q4_ADX_Sample_data.csv\")"
      ],
      "metadata": {
        "id": "YQvA0dd1nYLK"
      },
      "execution_count": null,
      "outputs": []
    },
    {
      "cell_type": "markdown",
      "source": [
        "### **Data format correction**"
      ],
      "metadata": {
        "id": "Ig9sykzHqouH"
      }
    },
    {
      "cell_type": "code",
      "source": [
        "User_Signup_data.info(),User_Offer_df.info(),User_offer_completion_data.info()"
      ],
      "metadata": {
        "colab": {
          "base_uri": "https://localhost:8080/"
        },
        "id": "VXnz-5Ospniq",
        "outputId": "aefc11de-1971-4be5-c727-38d9a2f65763"
      },
      "execution_count": null,
      "outputs": [
        {
          "output_type": "stream",
          "name": "stdout",
          "text": [
            "<class 'pandas.core.frame.DataFrame'>\n",
            "RangeIndex: 100 entries, 0 to 99\n",
            "Data columns (total 4 columns):\n",
            " #   Column           Non-Null Count  Dtype \n",
            "---  ------           --------------  ----- \n",
            " 0   user_id          100 non-null    object\n",
            " 1   app_id           100 non-null    object\n",
            " 2   signed_up_on     100 non-null    object\n",
            " 3   last_login_date  100 non-null    object\n",
            "dtypes: object(4)\n",
            "memory usage: 3.2+ KB\n",
            "<class 'pandas.core.frame.DataFrame'>\n",
            "RangeIndex: 499 entries, 0 to 498\n",
            "Data columns (total 7 columns):\n",
            " #   Column        Non-Null Count  Dtype \n",
            "---  ------        --------------  ----- \n",
            " 0   Unnamed: 0    499 non-null    int64 \n",
            " 1   user_id       499 non-null    object\n",
            " 2   offer_id      499 non-null    int64 \n",
            " 3   status        499 non-null    object\n",
            " 4   started_at    499 non-null    object\n",
            " 5   completed_at  63 non-null     object\n",
            " 6   expires_at    436 non-null    object\n",
            "dtypes: int64(2), object(5)\n",
            "memory usage: 27.4+ KB\n",
            "<class 'pandas.core.frame.DataFrame'>\n",
            "RangeIndex: 70 entries, 0 to 69\n",
            "Data columns (total 5 columns):\n",
            " #   Column      Non-Null Count  Dtype \n",
            "---  ------      --------------  ----- \n",
            " 0   Unnamed: 0  70 non-null     int64 \n",
            " 1   reward_id   70 non-null     int64 \n",
            " 2   user_id     70 non-null     object\n",
            " 3   date        70 non-null     object\n",
            " 4   app_id      70 non-null     object\n",
            "dtypes: int64(2), object(3)\n",
            "memory usage: 2.9+ KB\n"
          ]
        },
        {
          "output_type": "execute_result",
          "data": {
            "text/plain": [
              "(None, None, None)"
            ]
          },
          "metadata": {},
          "execution_count": 80
        }
      ]
    },
    {
      "cell_type": "code",
      "source": [
        "# Converting all date columns format to datetime \n",
        "User_Signup_data['last_login_date'] = pd.to_datetime(User_Signup_data['last_login_date']).dt.date\n",
        "User_Signup_data['signed_up_on'] = pd.to_datetime(User_Signup_data['signed_up_on'])\n",
        "User_Offer_df['started_at'] = pd.to_datetime(User_Offer_df['started_at'])\n",
        "User_offer_completion_data['date'] = pd.to_datetime(User_offer_completion_data['date'])\n",
        "User_Signup_data['last_login_date'] = pd.to_datetime(User_Signup_data['last_login_date'])\n",
        "sikka_data['Date'] = pd.to_datetime(sikka_data['Date']).dt.date\n"
      ],
      "metadata": {
        "id": "lK7k2hhnpP8p"
      },
      "execution_count": null,
      "outputs": []
    },
    {
      "cell_type": "code",
      "source": [
        "print(list(User_Signup_data.columns))\n",
        "print(list(User_offer_completion_data.columns))\n",
        "print(list(Rewards_details.columns))"
      ],
      "metadata": {
        "colab": {
          "base_uri": "https://localhost:8080/"
        },
        "id": "psHgywtqS09I",
        "outputId": "3af9f244-76b7-49f8-d523-cd00cde52144"
      },
      "execution_count": null,
      "outputs": [
        {
          "output_type": "stream",
          "name": "stdout",
          "text": [
            "['user_id', 'app_id', 'signed_up_on', 'last_login_date']\n",
            "['Unnamed: 0', 'reward_id', 'user_id', 'date', 'app_id']\n",
            "['Unnamed: 0', 'offer_id', 'reward_id', 'label_in_english', 'total_payout_in_paise', 'total_revenue_in_paise']\n"
          ]
        }
      ]
    },
    {
      "cell_type": "code",
      "source": [
        "User_Offer_df.isnull().sum()"
      ],
      "metadata": {
        "colab": {
          "base_uri": "https://localhost:8080/"
        },
        "id": "1nA1seSFhveN",
        "outputId": "71160a1a-a95e-4d98-aca8-367542cbb254"
      },
      "execution_count": null,
      "outputs": [
        {
          "output_type": "execute_result",
          "data": {
            "text/plain": [
              "Unnamed: 0        0\n",
              "user_id           0\n",
              "offer_id          0\n",
              "status            0\n",
              "started_at        0\n",
              "completed_at    436\n",
              "expires_at       63\n",
              "dtype: int64"
            ]
          },
          "metadata": {},
          "execution_count": 83
        }
      ]
    },
    {
      "cell_type": "code",
      "source": [
        "User_Signup_data.isnull().sum()"
      ],
      "metadata": {
        "colab": {
          "base_uri": "https://localhost:8080/"
        },
        "id": "GCo1x7rNUuBk",
        "outputId": "472763c3-11ab-4c05-f894-e078dccd0587"
      },
      "execution_count": null,
      "outputs": [
        {
          "output_type": "execute_result",
          "data": {
            "text/plain": [
              "user_id            0\n",
              "app_id             0\n",
              "signed_up_on       0\n",
              "last_login_date    0\n",
              "dtype: int64"
            ]
          },
          "metadata": {},
          "execution_count": 84
        }
      ]
    },
    {
      "cell_type": "code",
      "source": [
        "User_offer_completion_data.isnull().sum()"
      ],
      "metadata": {
        "colab": {
          "base_uri": "https://localhost:8080/"
        },
        "id": "Y4uGj071UbGa",
        "outputId": "86814052-26dc-4b42-f62d-13da21212310"
      },
      "execution_count": null,
      "outputs": [
        {
          "output_type": "execute_result",
          "data": {
            "text/plain": [
              "Unnamed: 0    0\n",
              "reward_id     0\n",
              "user_id       0\n",
              "date          0\n",
              "app_id        0\n",
              "dtype: int64"
            ]
          },
          "metadata": {},
          "execution_count": 85
        }
      ]
    },
    {
      "cell_type": "code",
      "source": [
        "Rewards_details.isnull().sum()"
      ],
      "metadata": {
        "colab": {
          "base_uri": "https://localhost:8080/"
        },
        "id": "32kwtGWbUyDX",
        "outputId": "1bb95805-7e02-454d-d264-f09bbc50b9ea"
      },
      "execution_count": null,
      "outputs": [
        {
          "output_type": "execute_result",
          "data": {
            "text/plain": [
              "Unnamed: 0                 0\n",
              "offer_id                   0\n",
              "reward_id                  0\n",
              "label_in_english          15\n",
              "total_payout_in_paise      0\n",
              "total_revenue_in_paise     0\n",
              "dtype: int64"
            ]
          },
          "metadata": {},
          "execution_count": 86
        }
      ]
    },
    {
      "cell_type": "code",
      "source": [
        "User_Offer_df['status'].value_counts()"
      ],
      "metadata": {
        "colab": {
          "base_uri": "https://localhost:8080/"
        },
        "id": "zhxinW1ymdiV",
        "outputId": "c0bbbfd1-d81a-4971-98b5-555a163c3833"
      },
      "execution_count": null,
      "outputs": [
        {
          "output_type": "execute_result",
          "data": {
            "text/plain": [
              "ONGOING      436\n",
              "COMPLETED     63\n",
              "Name: status, dtype: int64"
            ]
          },
          "metadata": {},
          "execution_count": 87
        }
      ]
    },
    {
      "cell_type": "code",
      "source": [
        "User_Offer_df.columns"
      ],
      "metadata": {
        "colab": {
          "base_uri": "https://localhost:8080/"
        },
        "id": "n4NNgUFEnKZm",
        "outputId": "48c3bad3-d974-49a3-a610-7ec28d4008a3"
      },
      "execution_count": null,
      "outputs": [
        {
          "output_type": "execute_result",
          "data": {
            "text/plain": [
              "Index(['Unnamed: 0', 'user_id', 'offer_id', 'status', 'started_at',\n",
              "       'completed_at', 'expires_at'],\n",
              "      dtype='object')"
            ]
          },
          "metadata": {},
          "execution_count": 88
        }
      ]
    },
    {
      "cell_type": "markdown",
      "source": [
        "**User_Offer_df** has **436** ongoing tasks which explains **436 null values** in completed_at column"
      ],
      "metadata": {
        "id": "bhtmw-pgml6W"
      }
    },
    {
      "cell_type": "markdown",
      "source": [
        "## Q1"
      ],
      "metadata": {
        "id": "2LuX1iIuRA6z"
      }
    },
    {
      "cell_type": "markdown",
      "source": [
        "1. User Signup data: User_Signup_data\n",
        "2. User offer completion data: User_offer_completion_data \n",
        "3. Rewards details: Rewards_details"
      ],
      "metadata": {
        "id": "zYy6DgoSSOyv"
      }
    },
    {
      "cell_type": "markdown",
      "source": [
        "## Starting the solution"
      ],
      "metadata": {
        "id": "R0lxwuoJYKbO"
      }
    },
    {
      "cell_type": "markdown",
      "source": [
        "### **Data Preprocessing and Joining the data tables**"
      ],
      "metadata": {
        "id": "zRg0qV6mdtOF"
      }
    },
    {
      "cell_type": "code",
      "source": [
        "# Joining User_Offer_df with User_Signup_data on user_id\n",
        "Table_UOD_US = User_Offer_df.merge(User_Signup_data, on='user_id', how= 'left')\n",
        "\n",
        "#replacing all the nan value with null string\n",
        "Table_UOD_US = Table_UOD_US.replace(np.nan,'',regex=True)\n"
      ],
      "metadata": {
        "id": "0eyl_RRqcorC"
      },
      "execution_count": null,
      "outputs": []
    },
    {
      "cell_type": "markdown",
      "source": [
        "### **Creating Columns**\n"
      ],
      "metadata": {
        "id": "BbcEo99GjXOa"
      }
    },
    {
      "cell_type": "code",
      "source": [
        "Table_UOD_US['started'] = np.where(Table_UOD_US['started_at'] == '' ,0,1)\n",
        "Table_UOD_US['completed'] = np.where(Table_UOD_US['completed_at'] =='' ,0,1)"
      ],
      "metadata": {
        "id": "4BHWogqMjVmR"
      },
      "execution_count": null,
      "outputs": []
    },
    {
      "cell_type": "markdown",
      "source": [
        "### **Left joining 'Rewards_details' with 'User_offer_completion_data' on 'user_id'**\n"
      ],
      "metadata": {
        "id": "8-ueEk8Hjpjq"
      }
    },
    {
      "cell_type": "code",
      "source": [
        "Raj1 = pd.merge(User_offer_completion_data,Rewards_details,on='reward_id',how='left')\n",
        "Raj1.head(1)"
      ],
      "metadata": {
        "id": "2kZ3kS3QpDvf",
        "colab": {
          "base_uri": "https://localhost:8080/",
          "height": 159
        },
        "outputId": "53e2cb31-dcd2-44e7-c598-d1ace50df89a"
      },
      "execution_count": null,
      "outputs": [
        {
          "output_type": "execute_result",
          "data": {
            "text/plain": [
              "   Unnamed: 0_x  reward_id                               user_id       date  \\\n",
              "0             0       3712  4cb29e43-9f23-42fe-bab8-2422f42e7a91 2022-11-29   \n",
              "\n",
              "  app_id  Unnamed: 0_y  offer_id       label_in_english  \\\n",
              "0  sikka          2678      3520  Complete Registration   \n",
              "\n",
              "   total_payout_in_paise  total_revenue_in_paise  \n",
              "0                    500                    1758  "
            ],
            "text/html": [
              "\n",
              "  <div id=\"df-78ff916a-633c-405c-864d-347051f2a65e\">\n",
              "    <div class=\"colab-df-container\">\n",
              "      <div>\n",
              "<style scoped>\n",
              "    .dataframe tbody tr th:only-of-type {\n",
              "        vertical-align: middle;\n",
              "    }\n",
              "\n",
              "    .dataframe tbody tr th {\n",
              "        vertical-align: top;\n",
              "    }\n",
              "\n",
              "    .dataframe thead th {\n",
              "        text-align: right;\n",
              "    }\n",
              "</style>\n",
              "<table border=\"1\" class=\"dataframe\">\n",
              "  <thead>\n",
              "    <tr style=\"text-align: right;\">\n",
              "      <th></th>\n",
              "      <th>Unnamed: 0_x</th>\n",
              "      <th>reward_id</th>\n",
              "      <th>user_id</th>\n",
              "      <th>date</th>\n",
              "      <th>app_id</th>\n",
              "      <th>Unnamed: 0_y</th>\n",
              "      <th>offer_id</th>\n",
              "      <th>label_in_english</th>\n",
              "      <th>total_payout_in_paise</th>\n",
              "      <th>total_revenue_in_paise</th>\n",
              "    </tr>\n",
              "  </thead>\n",
              "  <tbody>\n",
              "    <tr>\n",
              "      <th>0</th>\n",
              "      <td>0</td>\n",
              "      <td>3712</td>\n",
              "      <td>4cb29e43-9f23-42fe-bab8-2422f42e7a91</td>\n",
              "      <td>2022-11-29</td>\n",
              "      <td>sikka</td>\n",
              "      <td>2678</td>\n",
              "      <td>3520</td>\n",
              "      <td>Complete Registration</td>\n",
              "      <td>500</td>\n",
              "      <td>1758</td>\n",
              "    </tr>\n",
              "  </tbody>\n",
              "</table>\n",
              "</div>\n",
              "      <button class=\"colab-df-convert\" onclick=\"convertToInteractive('df-78ff916a-633c-405c-864d-347051f2a65e')\"\n",
              "              title=\"Convert this dataframe to an interactive table.\"\n",
              "              style=\"display:none;\">\n",
              "        \n",
              "  <svg xmlns=\"http://www.w3.org/2000/svg\" height=\"24px\"viewBox=\"0 0 24 24\"\n",
              "       width=\"24px\">\n",
              "    <path d=\"M0 0h24v24H0V0z\" fill=\"none\"/>\n",
              "    <path d=\"M18.56 5.44l.94 2.06.94-2.06 2.06-.94-2.06-.94-.94-2.06-.94 2.06-2.06.94zm-11 1L8.5 8.5l.94-2.06 2.06-.94-2.06-.94L8.5 2.5l-.94 2.06-2.06.94zm10 10l.94 2.06.94-2.06 2.06-.94-2.06-.94-.94-2.06-.94 2.06-2.06.94z\"/><path d=\"M17.41 7.96l-1.37-1.37c-.4-.4-.92-.59-1.43-.59-.52 0-1.04.2-1.43.59L10.3 9.45l-7.72 7.72c-.78.78-.78 2.05 0 2.83L4 21.41c.39.39.9.59 1.41.59.51 0 1.02-.2 1.41-.59l7.78-7.78 2.81-2.81c.8-.78.8-2.07 0-2.86zM5.41 20L4 18.59l7.72-7.72 1.47 1.35L5.41 20z\"/>\n",
              "  </svg>\n",
              "      </button>\n",
              "      \n",
              "  <style>\n",
              "    .colab-df-container {\n",
              "      display:flex;\n",
              "      flex-wrap:wrap;\n",
              "      gap: 12px;\n",
              "    }\n",
              "\n",
              "    .colab-df-convert {\n",
              "      background-color: #E8F0FE;\n",
              "      border: none;\n",
              "      border-radius: 50%;\n",
              "      cursor: pointer;\n",
              "      display: none;\n",
              "      fill: #1967D2;\n",
              "      height: 32px;\n",
              "      padding: 0 0 0 0;\n",
              "      width: 32px;\n",
              "    }\n",
              "\n",
              "    .colab-df-convert:hover {\n",
              "      background-color: #E2EBFA;\n",
              "      box-shadow: 0px 1px 2px rgba(60, 64, 67, 0.3), 0px 1px 3px 1px rgba(60, 64, 67, 0.15);\n",
              "      fill: #174EA6;\n",
              "    }\n",
              "\n",
              "    [theme=dark] .colab-df-convert {\n",
              "      background-color: #3B4455;\n",
              "      fill: #D2E3FC;\n",
              "    }\n",
              "\n",
              "    [theme=dark] .colab-df-convert:hover {\n",
              "      background-color: #434B5C;\n",
              "      box-shadow: 0px 1px 3px 1px rgba(0, 0, 0, 0.15);\n",
              "      filter: drop-shadow(0px 1px 2px rgba(0, 0, 0, 0.3));\n",
              "      fill: #FFFFFF;\n",
              "    }\n",
              "  </style>\n",
              "\n",
              "      <script>\n",
              "        const buttonEl =\n",
              "          document.querySelector('#df-78ff916a-633c-405c-864d-347051f2a65e button.colab-df-convert');\n",
              "        buttonEl.style.display =\n",
              "          google.colab.kernel.accessAllowed ? 'block' : 'none';\n",
              "\n",
              "        async function convertToInteractive(key) {\n",
              "          const element = document.querySelector('#df-78ff916a-633c-405c-864d-347051f2a65e');\n",
              "          const dataTable =\n",
              "            await google.colab.kernel.invokeFunction('convertToInteractive',\n",
              "                                                     [key], {});\n",
              "          if (!dataTable) return;\n",
              "\n",
              "          const docLinkHtml = 'Like what you see? Visit the ' +\n",
              "            '<a target=\"_blank\" href=https://colab.research.google.com/notebooks/data_table.ipynb>data table notebook</a>'\n",
              "            + ' to learn more about interactive tables.';\n",
              "          element.innerHTML = '';\n",
              "          dataTable['output_type'] = 'display_data';\n",
              "          await google.colab.output.renderOutput(dataTable, element);\n",
              "          const docLink = document.createElement('div');\n",
              "          docLink.innerHTML = docLinkHtml;\n",
              "          element.appendChild(docLink);\n",
              "        }\n",
              "      </script>\n",
              "    </div>\n",
              "  </div>\n",
              "  "
            ]
          },
          "metadata": {},
          "execution_count": 293
        }
      ]
    },
    {
      "cell_type": "markdown",
      "source": [
        "## Users who has completed offers"
      ],
      "metadata": {
        "id": "f7ipJb1wcvFv"
      }
    },
    {
      "cell_type": "code",
      "source": [
        "Raj1.groupby(['app_id'])['user_id'].count().reset_index()"
      ],
      "metadata": {
        "colab": {
          "base_uri": "https://localhost:8080/",
          "height": 112
        },
        "id": "Znx4MH3_remO",
        "outputId": "33d9c3ed-f18d-4361-e728-feab0d6341db"
      },
      "execution_count": null,
      "outputs": [
        {
          "output_type": "execute_result",
          "data": {
            "text/plain": [
              "      app_id  user_id\n",
              "0      sikka       27\n",
              "1  sikka_pro       43"
            ],
            "text/html": [
              "\n",
              "  <div id=\"df-60cd083b-d92a-4a5a-a50c-f617b5dc890b\">\n",
              "    <div class=\"colab-df-container\">\n",
              "      <div>\n",
              "<style scoped>\n",
              "    .dataframe tbody tr th:only-of-type {\n",
              "        vertical-align: middle;\n",
              "    }\n",
              "\n",
              "    .dataframe tbody tr th {\n",
              "        vertical-align: top;\n",
              "    }\n",
              "\n",
              "    .dataframe thead th {\n",
              "        text-align: right;\n",
              "    }\n",
              "</style>\n",
              "<table border=\"1\" class=\"dataframe\">\n",
              "  <thead>\n",
              "    <tr style=\"text-align: right;\">\n",
              "      <th></th>\n",
              "      <th>app_id</th>\n",
              "      <th>user_id</th>\n",
              "    </tr>\n",
              "  </thead>\n",
              "  <tbody>\n",
              "    <tr>\n",
              "      <th>0</th>\n",
              "      <td>sikka</td>\n",
              "      <td>27</td>\n",
              "    </tr>\n",
              "    <tr>\n",
              "      <th>1</th>\n",
              "      <td>sikka_pro</td>\n",
              "      <td>43</td>\n",
              "    </tr>\n",
              "  </tbody>\n",
              "</table>\n",
              "</div>\n",
              "      <button class=\"colab-df-convert\" onclick=\"convertToInteractive('df-60cd083b-d92a-4a5a-a50c-f617b5dc890b')\"\n",
              "              title=\"Convert this dataframe to an interactive table.\"\n",
              "              style=\"display:none;\">\n",
              "        \n",
              "  <svg xmlns=\"http://www.w3.org/2000/svg\" height=\"24px\"viewBox=\"0 0 24 24\"\n",
              "       width=\"24px\">\n",
              "    <path d=\"M0 0h24v24H0V0z\" fill=\"none\"/>\n",
              "    <path d=\"M18.56 5.44l.94 2.06.94-2.06 2.06-.94-2.06-.94-.94-2.06-.94 2.06-2.06.94zm-11 1L8.5 8.5l.94-2.06 2.06-.94-2.06-.94L8.5 2.5l-.94 2.06-2.06.94zm10 10l.94 2.06.94-2.06 2.06-.94-2.06-.94-.94-2.06-.94 2.06-2.06.94z\"/><path d=\"M17.41 7.96l-1.37-1.37c-.4-.4-.92-.59-1.43-.59-.52 0-1.04.2-1.43.59L10.3 9.45l-7.72 7.72c-.78.78-.78 2.05 0 2.83L4 21.41c.39.39.9.59 1.41.59.51 0 1.02-.2 1.41-.59l7.78-7.78 2.81-2.81c.8-.78.8-2.07 0-2.86zM5.41 20L4 18.59l7.72-7.72 1.47 1.35L5.41 20z\"/>\n",
              "  </svg>\n",
              "      </button>\n",
              "      \n",
              "  <style>\n",
              "    .colab-df-container {\n",
              "      display:flex;\n",
              "      flex-wrap:wrap;\n",
              "      gap: 12px;\n",
              "    }\n",
              "\n",
              "    .colab-df-convert {\n",
              "      background-color: #E8F0FE;\n",
              "      border: none;\n",
              "      border-radius: 50%;\n",
              "      cursor: pointer;\n",
              "      display: none;\n",
              "      fill: #1967D2;\n",
              "      height: 32px;\n",
              "      padding: 0 0 0 0;\n",
              "      width: 32px;\n",
              "    }\n",
              "\n",
              "    .colab-df-convert:hover {\n",
              "      background-color: #E2EBFA;\n",
              "      box-shadow: 0px 1px 2px rgba(60, 64, 67, 0.3), 0px 1px 3px 1px rgba(60, 64, 67, 0.15);\n",
              "      fill: #174EA6;\n",
              "    }\n",
              "\n",
              "    [theme=dark] .colab-df-convert {\n",
              "      background-color: #3B4455;\n",
              "      fill: #D2E3FC;\n",
              "    }\n",
              "\n",
              "    [theme=dark] .colab-df-convert:hover {\n",
              "      background-color: #434B5C;\n",
              "      box-shadow: 0px 1px 3px 1px rgba(0, 0, 0, 0.15);\n",
              "      filter: drop-shadow(0px 1px 2px rgba(0, 0, 0, 0.3));\n",
              "      fill: #FFFFFF;\n",
              "    }\n",
              "  </style>\n",
              "\n",
              "      <script>\n",
              "        const buttonEl =\n",
              "          document.querySelector('#df-60cd083b-d92a-4a5a-a50c-f617b5dc890b button.colab-df-convert');\n",
              "        buttonEl.style.display =\n",
              "          google.colab.kernel.accessAllowed ? 'block' : 'none';\n",
              "\n",
              "        async function convertToInteractive(key) {\n",
              "          const element = document.querySelector('#df-60cd083b-d92a-4a5a-a50c-f617b5dc890b');\n",
              "          const dataTable =\n",
              "            await google.colab.kernel.invokeFunction('convertToInteractive',\n",
              "                                                     [key], {});\n",
              "          if (!dataTable) return;\n",
              "\n",
              "          const docLinkHtml = 'Like what you see? Visit the ' +\n",
              "            '<a target=\"_blank\" href=https://colab.research.google.com/notebooks/data_table.ipynb>data table notebook</a>'\n",
              "            + ' to learn more about interactive tables.';\n",
              "          element.innerHTML = '';\n",
              "          dataTable['output_type'] = 'display_data';\n",
              "          await google.colab.output.renderOutput(dataTable, element);\n",
              "          const docLink = document.createElement('div');\n",
              "          docLink.innerHTML = docLinkHtml;\n",
              "          element.appendChild(docLink);\n",
              "        }\n",
              "      </script>\n",
              "    </div>\n",
              "  </div>\n",
              "  "
            ]
          },
          "metadata": {},
          "execution_count": 292
        }
      ]
    },
    {
      "cell_type": "code",
      "source": [
        "Raj1.groupby(['app_id'])['total_payout_in_paise','total_revenue_in_paise'].sum().reset_index()"
      ],
      "metadata": {
        "colab": {
          "base_uri": "https://localhost:8080/",
          "height": 167
        },
        "id": "sCG69wCLskYL",
        "outputId": "794447ed-2a7e-4d61-e962-5082e5e14ac6"
      },
      "execution_count": null,
      "outputs": [
        {
          "output_type": "stream",
          "name": "stderr",
          "text": [
            "<ipython-input-294-06b749017cee>:1: FutureWarning: Indexing with multiple keys (implicitly converted to a tuple of keys) will be deprecated, use a list instead.\n",
            "  Raj1.groupby(['app_id'])['total_payout_in_paise','total_revenue_in_paise'].sum().reset_index()\n"
          ]
        },
        {
          "output_type": "execute_result",
          "data": {
            "text/plain": [
              "      app_id  total_payout_in_paise  total_revenue_in_paise\n",
              "0      sikka                  18466                   39687\n",
              "1  sikka_pro                  19618                   40457"
            ],
            "text/html": [
              "\n",
              "  <div id=\"df-25f9861b-3c79-40ba-a832-b67dc8d57b07\">\n",
              "    <div class=\"colab-df-container\">\n",
              "      <div>\n",
              "<style scoped>\n",
              "    .dataframe tbody tr th:only-of-type {\n",
              "        vertical-align: middle;\n",
              "    }\n",
              "\n",
              "    .dataframe tbody tr th {\n",
              "        vertical-align: top;\n",
              "    }\n",
              "\n",
              "    .dataframe thead th {\n",
              "        text-align: right;\n",
              "    }\n",
              "</style>\n",
              "<table border=\"1\" class=\"dataframe\">\n",
              "  <thead>\n",
              "    <tr style=\"text-align: right;\">\n",
              "      <th></th>\n",
              "      <th>app_id</th>\n",
              "      <th>total_payout_in_paise</th>\n",
              "      <th>total_revenue_in_paise</th>\n",
              "    </tr>\n",
              "  </thead>\n",
              "  <tbody>\n",
              "    <tr>\n",
              "      <th>0</th>\n",
              "      <td>sikka</td>\n",
              "      <td>18466</td>\n",
              "      <td>39687</td>\n",
              "    </tr>\n",
              "    <tr>\n",
              "      <th>1</th>\n",
              "      <td>sikka_pro</td>\n",
              "      <td>19618</td>\n",
              "      <td>40457</td>\n",
              "    </tr>\n",
              "  </tbody>\n",
              "</table>\n",
              "</div>\n",
              "      <button class=\"colab-df-convert\" onclick=\"convertToInteractive('df-25f9861b-3c79-40ba-a832-b67dc8d57b07')\"\n",
              "              title=\"Convert this dataframe to an interactive table.\"\n",
              "              style=\"display:none;\">\n",
              "        \n",
              "  <svg xmlns=\"http://www.w3.org/2000/svg\" height=\"24px\"viewBox=\"0 0 24 24\"\n",
              "       width=\"24px\">\n",
              "    <path d=\"M0 0h24v24H0V0z\" fill=\"none\"/>\n",
              "    <path d=\"M18.56 5.44l.94 2.06.94-2.06 2.06-.94-2.06-.94-.94-2.06-.94 2.06-2.06.94zm-11 1L8.5 8.5l.94-2.06 2.06-.94-2.06-.94L8.5 2.5l-.94 2.06-2.06.94zm10 10l.94 2.06.94-2.06 2.06-.94-2.06-.94-.94-2.06-.94 2.06-2.06.94z\"/><path d=\"M17.41 7.96l-1.37-1.37c-.4-.4-.92-.59-1.43-.59-.52 0-1.04.2-1.43.59L10.3 9.45l-7.72 7.72c-.78.78-.78 2.05 0 2.83L4 21.41c.39.39.9.59 1.41.59.51 0 1.02-.2 1.41-.59l7.78-7.78 2.81-2.81c.8-.78.8-2.07 0-2.86zM5.41 20L4 18.59l7.72-7.72 1.47 1.35L5.41 20z\"/>\n",
              "  </svg>\n",
              "      </button>\n",
              "      \n",
              "  <style>\n",
              "    .colab-df-container {\n",
              "      display:flex;\n",
              "      flex-wrap:wrap;\n",
              "      gap: 12px;\n",
              "    }\n",
              "\n",
              "    .colab-df-convert {\n",
              "      background-color: #E8F0FE;\n",
              "      border: none;\n",
              "      border-radius: 50%;\n",
              "      cursor: pointer;\n",
              "      display: none;\n",
              "      fill: #1967D2;\n",
              "      height: 32px;\n",
              "      padding: 0 0 0 0;\n",
              "      width: 32px;\n",
              "    }\n",
              "\n",
              "    .colab-df-convert:hover {\n",
              "      background-color: #E2EBFA;\n",
              "      box-shadow: 0px 1px 2px rgba(60, 64, 67, 0.3), 0px 1px 3px 1px rgba(60, 64, 67, 0.15);\n",
              "      fill: #174EA6;\n",
              "    }\n",
              "\n",
              "    [theme=dark] .colab-df-convert {\n",
              "      background-color: #3B4455;\n",
              "      fill: #D2E3FC;\n",
              "    }\n",
              "\n",
              "    [theme=dark] .colab-df-convert:hover {\n",
              "      background-color: #434B5C;\n",
              "      box-shadow: 0px 1px 3px 1px rgba(0, 0, 0, 0.15);\n",
              "      filter: drop-shadow(0px 1px 2px rgba(0, 0, 0, 0.3));\n",
              "      fill: #FFFFFF;\n",
              "    }\n",
              "  </style>\n",
              "\n",
              "      <script>\n",
              "        const buttonEl =\n",
              "          document.querySelector('#df-25f9861b-3c79-40ba-a832-b67dc8d57b07 button.colab-df-convert');\n",
              "        buttonEl.style.display =\n",
              "          google.colab.kernel.accessAllowed ? 'block' : 'none';\n",
              "\n",
              "        async function convertToInteractive(key) {\n",
              "          const element = document.querySelector('#df-25f9861b-3c79-40ba-a832-b67dc8d57b07');\n",
              "          const dataTable =\n",
              "            await google.colab.kernel.invokeFunction('convertToInteractive',\n",
              "                                                     [key], {});\n",
              "          if (!dataTable) return;\n",
              "\n",
              "          const docLinkHtml = 'Like what you see? Visit the ' +\n",
              "            '<a target=\"_blank\" href=https://colab.research.google.com/notebooks/data_table.ipynb>data table notebook</a>'\n",
              "            + ' to learn more about interactive tables.';\n",
              "          element.innerHTML = '';\n",
              "          dataTable['output_type'] = 'display_data';\n",
              "          await google.colab.output.renderOutput(dataTable, element);\n",
              "          const docLink = document.createElement('div');\n",
              "          docLink.innerHTML = docLinkHtml;\n",
              "          element.appendChild(docLink);\n",
              "        }\n",
              "      </script>\n",
              "    </div>\n",
              "  </div>\n",
              "  "
            ]
          },
          "metadata": {},
          "execution_count": 294
        }
      ]
    },
    {
      "cell_type": "code",
      "execution_count": null,
      "metadata": {
        "id": "YaJOM1qZfnwP"
      },
      "outputs": [],
      "source": [
        "User_completed_offers = User_offer_completion_data.groupby('app_id')['user_id'].count().reset_index()"
      ]
    },
    {
      "cell_type": "code",
      "execution_count": null,
      "metadata": {
        "colab": {
          "base_uri": "https://localhost:8080/",
          "height": 112
        },
        "id": "EiOcJnRmj2zo",
        "outputId": "03bb4c95-632f-454b-e79e-20cc1e4871f3"
      },
      "outputs": [
        {
          "output_type": "execute_result",
          "data": {
            "text/plain": [
              "      app_id  user_id\n",
              "0      sikka       27\n",
              "1  sikka_pro       43"
            ],
            "text/html": [
              "\n",
              "  <div id=\"df-b0c962fc-468c-4245-a2ca-b8f81f100430\">\n",
              "    <div class=\"colab-df-container\">\n",
              "      <div>\n",
              "<style scoped>\n",
              "    .dataframe tbody tr th:only-of-type {\n",
              "        vertical-align: middle;\n",
              "    }\n",
              "\n",
              "    .dataframe tbody tr th {\n",
              "        vertical-align: top;\n",
              "    }\n",
              "\n",
              "    .dataframe thead th {\n",
              "        text-align: right;\n",
              "    }\n",
              "</style>\n",
              "<table border=\"1\" class=\"dataframe\">\n",
              "  <thead>\n",
              "    <tr style=\"text-align: right;\">\n",
              "      <th></th>\n",
              "      <th>app_id</th>\n",
              "      <th>user_id</th>\n",
              "    </tr>\n",
              "  </thead>\n",
              "  <tbody>\n",
              "    <tr>\n",
              "      <th>0</th>\n",
              "      <td>sikka</td>\n",
              "      <td>27</td>\n",
              "    </tr>\n",
              "    <tr>\n",
              "      <th>1</th>\n",
              "      <td>sikka_pro</td>\n",
              "      <td>43</td>\n",
              "    </tr>\n",
              "  </tbody>\n",
              "</table>\n",
              "</div>\n",
              "      <button class=\"colab-df-convert\" onclick=\"convertToInteractive('df-b0c962fc-468c-4245-a2ca-b8f81f100430')\"\n",
              "              title=\"Convert this dataframe to an interactive table.\"\n",
              "              style=\"display:none;\">\n",
              "        \n",
              "  <svg xmlns=\"http://www.w3.org/2000/svg\" height=\"24px\"viewBox=\"0 0 24 24\"\n",
              "       width=\"24px\">\n",
              "    <path d=\"M0 0h24v24H0V0z\" fill=\"none\"/>\n",
              "    <path d=\"M18.56 5.44l.94 2.06.94-2.06 2.06-.94-2.06-.94-.94-2.06-.94 2.06-2.06.94zm-11 1L8.5 8.5l.94-2.06 2.06-.94-2.06-.94L8.5 2.5l-.94 2.06-2.06.94zm10 10l.94 2.06.94-2.06 2.06-.94-2.06-.94-.94-2.06-.94 2.06-2.06.94z\"/><path d=\"M17.41 7.96l-1.37-1.37c-.4-.4-.92-.59-1.43-.59-.52 0-1.04.2-1.43.59L10.3 9.45l-7.72 7.72c-.78.78-.78 2.05 0 2.83L4 21.41c.39.39.9.59 1.41.59.51 0 1.02-.2 1.41-.59l7.78-7.78 2.81-2.81c.8-.78.8-2.07 0-2.86zM5.41 20L4 18.59l7.72-7.72 1.47 1.35L5.41 20z\"/>\n",
              "  </svg>\n",
              "      </button>\n",
              "      \n",
              "  <style>\n",
              "    .colab-df-container {\n",
              "      display:flex;\n",
              "      flex-wrap:wrap;\n",
              "      gap: 12px;\n",
              "    }\n",
              "\n",
              "    .colab-df-convert {\n",
              "      background-color: #E8F0FE;\n",
              "      border: none;\n",
              "      border-radius: 50%;\n",
              "      cursor: pointer;\n",
              "      display: none;\n",
              "      fill: #1967D2;\n",
              "      height: 32px;\n",
              "      padding: 0 0 0 0;\n",
              "      width: 32px;\n",
              "    }\n",
              "\n",
              "    .colab-df-convert:hover {\n",
              "      background-color: #E2EBFA;\n",
              "      box-shadow: 0px 1px 2px rgba(60, 64, 67, 0.3), 0px 1px 3px 1px rgba(60, 64, 67, 0.15);\n",
              "      fill: #174EA6;\n",
              "    }\n",
              "\n",
              "    [theme=dark] .colab-df-convert {\n",
              "      background-color: #3B4455;\n",
              "      fill: #D2E3FC;\n",
              "    }\n",
              "\n",
              "    [theme=dark] .colab-df-convert:hover {\n",
              "      background-color: #434B5C;\n",
              "      box-shadow: 0px 1px 3px 1px rgba(0, 0, 0, 0.15);\n",
              "      filter: drop-shadow(0px 1px 2px rgba(0, 0, 0, 0.3));\n",
              "      fill: #FFFFFF;\n",
              "    }\n",
              "  </style>\n",
              "\n",
              "      <script>\n",
              "        const buttonEl =\n",
              "          document.querySelector('#df-b0c962fc-468c-4245-a2ca-b8f81f100430 button.colab-df-convert');\n",
              "        buttonEl.style.display =\n",
              "          google.colab.kernel.accessAllowed ? 'block' : 'none';\n",
              "\n",
              "        async function convertToInteractive(key) {\n",
              "          const element = document.querySelector('#df-b0c962fc-468c-4245-a2ca-b8f81f100430');\n",
              "          const dataTable =\n",
              "            await google.colab.kernel.invokeFunction('convertToInteractive',\n",
              "                                                     [key], {});\n",
              "          if (!dataTable) return;\n",
              "\n",
              "          const docLinkHtml = 'Like what you see? Visit the ' +\n",
              "            '<a target=\"_blank\" href=https://colab.research.google.com/notebooks/data_table.ipynb>data table notebook</a>'\n",
              "            + ' to learn more about interactive tables.';\n",
              "          element.innerHTML = '';\n",
              "          dataTable['output_type'] = 'display_data';\n",
              "          await google.colab.output.renderOutput(dataTable, element);\n",
              "          const docLink = document.createElement('div');\n",
              "          docLink.innerHTML = docLinkHtml;\n",
              "          element.appendChild(docLink);\n",
              "        }\n",
              "      </script>\n",
              "    </div>\n",
              "  </div>\n",
              "  "
            ]
          },
          "metadata": {},
          "execution_count": 296
        }
      ],
      "source": [
        "User_completed_offers"
      ]
    },
    {
      "cell_type": "code",
      "source": [
        "Full_Table = Rewards_details.merge(User_offer_completion_data[['reward_id','app_id']],on='reward_id',how='left')\n",
        "Full_Table = Full_Table.replace(np.nan,'',regex=True)"
      ],
      "metadata": {
        "id": "bF1sdTU2pB_6"
      },
      "execution_count": null,
      "outputs": []
    },
    {
      "cell_type": "code",
      "source": [
        "#dropping unnamed column which is of no use\n",
        "Full_Table = Full_Table.drop('Unnamed: 0',axis=1)"
      ],
      "metadata": {
        "id": "T5ekedCpiNGF"
      },
      "execution_count": null,
      "outputs": []
    },
    {
      "cell_type": "code",
      "source": [
        "Full_Table.columns"
      ],
      "metadata": {
        "colab": {
          "base_uri": "https://localhost:8080/"
        },
        "id": "15QTUx5QilFf",
        "outputId": "46a13b25-4bca-4191-f0b8-530f9dae5fcb"
      },
      "execution_count": null,
      "outputs": [
        {
          "output_type": "execute_result",
          "data": {
            "text/plain": [
              "Index(['offer_id', 'reward_id', 'label_in_english', 'total_payout_in_paise',\n",
              "       'total_revenue_in_paise', 'app_id'],\n",
              "      dtype='object')"
            ]
          },
          "metadata": {},
          "execution_count": 91
        }
      ]
    },
    {
      "cell_type": "markdown",
      "source": [
        "### To get the total number of Initiations in both versions of the app we will group wrt to the app_id and we will get the sum of tasks started and Completed so that we will know how many are completed "
      ],
      "metadata": {
        "id": "F4l82boLks0P"
      }
    },
    {
      "cell_type": "code",
      "source": [
        "Task_status_table= Table_UOD_US[['app_id','started','completed']].groupby('app_id').sum(['started','completed'])\n",
        "Task_status_table"
      ],
      "metadata": {
        "id": "IA5wYPuPpCkb",
        "colab": {
          "base_uri": "https://localhost:8080/",
          "height": 143
        },
        "outputId": "4755689a-8d70-4d68-a89e-5f835b248bdb"
      },
      "execution_count": null,
      "outputs": [
        {
          "output_type": "execute_result",
          "data": {
            "text/plain": [
              "           started  completed\n",
              "app_id                       \n",
              "sikka          262         23\n",
              "sikka_pro      237         40"
            ],
            "text/html": [
              "\n",
              "  <div id=\"df-7e19b14e-e592-4658-8a8a-8385060039ae\">\n",
              "    <div class=\"colab-df-container\">\n",
              "      <div>\n",
              "<style scoped>\n",
              "    .dataframe tbody tr th:only-of-type {\n",
              "        vertical-align: middle;\n",
              "    }\n",
              "\n",
              "    .dataframe tbody tr th {\n",
              "        vertical-align: top;\n",
              "    }\n",
              "\n",
              "    .dataframe thead th {\n",
              "        text-align: right;\n",
              "    }\n",
              "</style>\n",
              "<table border=\"1\" class=\"dataframe\">\n",
              "  <thead>\n",
              "    <tr style=\"text-align: right;\">\n",
              "      <th></th>\n",
              "      <th>started</th>\n",
              "      <th>completed</th>\n",
              "    </tr>\n",
              "    <tr>\n",
              "      <th>app_id</th>\n",
              "      <th></th>\n",
              "      <th></th>\n",
              "    </tr>\n",
              "  </thead>\n",
              "  <tbody>\n",
              "    <tr>\n",
              "      <th>sikka</th>\n",
              "      <td>262</td>\n",
              "      <td>23</td>\n",
              "    </tr>\n",
              "    <tr>\n",
              "      <th>sikka_pro</th>\n",
              "      <td>237</td>\n",
              "      <td>40</td>\n",
              "    </tr>\n",
              "  </tbody>\n",
              "</table>\n",
              "</div>\n",
              "      <button class=\"colab-df-convert\" onclick=\"convertToInteractive('df-7e19b14e-e592-4658-8a8a-8385060039ae')\"\n",
              "              title=\"Convert this dataframe to an interactive table.\"\n",
              "              style=\"display:none;\">\n",
              "        \n",
              "  <svg xmlns=\"http://www.w3.org/2000/svg\" height=\"24px\"viewBox=\"0 0 24 24\"\n",
              "       width=\"24px\">\n",
              "    <path d=\"M0 0h24v24H0V0z\" fill=\"none\"/>\n",
              "    <path d=\"M18.56 5.44l.94 2.06.94-2.06 2.06-.94-2.06-.94-.94-2.06-.94 2.06-2.06.94zm-11 1L8.5 8.5l.94-2.06 2.06-.94-2.06-.94L8.5 2.5l-.94 2.06-2.06.94zm10 10l.94 2.06.94-2.06 2.06-.94-2.06-.94-.94-2.06-.94 2.06-2.06.94z\"/><path d=\"M17.41 7.96l-1.37-1.37c-.4-.4-.92-.59-1.43-.59-.52 0-1.04.2-1.43.59L10.3 9.45l-7.72 7.72c-.78.78-.78 2.05 0 2.83L4 21.41c.39.39.9.59 1.41.59.51 0 1.02-.2 1.41-.59l7.78-7.78 2.81-2.81c.8-.78.8-2.07 0-2.86zM5.41 20L4 18.59l7.72-7.72 1.47 1.35L5.41 20z\"/>\n",
              "  </svg>\n",
              "      </button>\n",
              "      \n",
              "  <style>\n",
              "    .colab-df-container {\n",
              "      display:flex;\n",
              "      flex-wrap:wrap;\n",
              "      gap: 12px;\n",
              "    }\n",
              "\n",
              "    .colab-df-convert {\n",
              "      background-color: #E8F0FE;\n",
              "      border: none;\n",
              "      border-radius: 50%;\n",
              "      cursor: pointer;\n",
              "      display: none;\n",
              "      fill: #1967D2;\n",
              "      height: 32px;\n",
              "      padding: 0 0 0 0;\n",
              "      width: 32px;\n",
              "    }\n",
              "\n",
              "    .colab-df-convert:hover {\n",
              "      background-color: #E2EBFA;\n",
              "      box-shadow: 0px 1px 2px rgba(60, 64, 67, 0.3), 0px 1px 3px 1px rgba(60, 64, 67, 0.15);\n",
              "      fill: #174EA6;\n",
              "    }\n",
              "\n",
              "    [theme=dark] .colab-df-convert {\n",
              "      background-color: #3B4455;\n",
              "      fill: #D2E3FC;\n",
              "    }\n",
              "\n",
              "    [theme=dark] .colab-df-convert:hover {\n",
              "      background-color: #434B5C;\n",
              "      box-shadow: 0px 1px 3px 1px rgba(0, 0, 0, 0.15);\n",
              "      filter: drop-shadow(0px 1px 2px rgba(0, 0, 0, 0.3));\n",
              "      fill: #FFFFFF;\n",
              "    }\n",
              "  </style>\n",
              "\n",
              "      <script>\n",
              "        const buttonEl =\n",
              "          document.querySelector('#df-7e19b14e-e592-4658-8a8a-8385060039ae button.colab-df-convert');\n",
              "        buttonEl.style.display =\n",
              "          google.colab.kernel.accessAllowed ? 'block' : 'none';\n",
              "\n",
              "        async function convertToInteractive(key) {\n",
              "          const element = document.querySelector('#df-7e19b14e-e592-4658-8a8a-8385060039ae');\n",
              "          const dataTable =\n",
              "            await google.colab.kernel.invokeFunction('convertToInteractive',\n",
              "                                                     [key], {});\n",
              "          if (!dataTable) return;\n",
              "\n",
              "          const docLinkHtml = 'Like what you see? Visit the ' +\n",
              "            '<a target=\"_blank\" href=https://colab.research.google.com/notebooks/data_table.ipynb>data table notebook</a>'\n",
              "            + ' to learn more about interactive tables.';\n",
              "          element.innerHTML = '';\n",
              "          dataTable['output_type'] = 'display_data';\n",
              "          await google.colab.output.renderOutput(dataTable, element);\n",
              "          const docLink = document.createElement('div');\n",
              "          docLink.innerHTML = docLinkHtml;\n",
              "          element.appendChild(docLink);\n",
              "        }\n",
              "      </script>\n",
              "    </div>\n",
              "  </div>\n",
              "  "
            ]
          },
          "metadata": {},
          "execution_count": 124
        }
      ]
    },
    {
      "cell_type": "code",
      "source": [
        "# plotting a pie chart\n",
        "# plt.figure(figsize = [4,4])\n",
        "sns.color_palette(palette=\"Set2\")\n",
        "plt.pie(Task_status_table['started'],labels = ['Sikka',\"Sikka Pro\"], autopct='%1.2f%%',colors = ['#d24dff','#ffcc66'])\n",
        "plt.title('User Count per App')\n",
        "plt.show()"
      ],
      "metadata": {
        "colab": {
          "base_uri": "https://localhost:8080/",
          "height": 428
        },
        "id": "kx1TOoQAKsRb",
        "outputId": "24c7e98d-3cd0-4794-bc3b-6fffc3112450"
      },
      "execution_count": null,
      "outputs": [
        {
          "output_type": "display_data",
          "data": {
            "text/plain": [
              "<Figure size 640x480 with 1 Axes>"
            ],
            "image/png": "[encoded data removed]"
          },
          "metadata": {}
        }
      ]
    },
    {
      "cell_type": "code",
      "source": [
        "Full_Table = Full_Table.loc[Full_Table['app_id'] != '']\n",
        "Payout_Revenue = Full_Table[['app_id','total_payout_in_paise','total_revenue_in_paise']].groupby('app_id').sum(['total_payout_in_paise','total_revenue_in_paise'])\n",
        "\n",
        "Payout_Revenue\n"
      ],
      "metadata": {
        "id": "TWcyXg4TpCwr",
        "colab": {
          "base_uri": "https://localhost:8080/",
          "height": 143
        },
        "outputId": "d7994d3a-44e7-404c-d788-f05ba355bab0"
      },
      "execution_count": null,
      "outputs": [
        {
          "output_type": "execute_result",
          "data": {
            "text/plain": [
              "           total_payout_in_paise  total_revenue_in_paise\n",
              "app_id                                                  \n",
              "sikka                      18466                   39687\n",
              "sikka_pro                  19618                   40457"
            ],
            "text/html": [
              "\n",
              "  <div id=\"df-776b128d-00f1-4b3e-9004-5bb3fb970ea6\">\n",
              "    <div class=\"colab-df-container\">\n",
              "      <div>\n",
              "<style scoped>\n",
              "    .dataframe tbody tr th:only-of-type {\n",
              "        vertical-align: middle;\n",
              "    }\n",
              "\n",
              "    .dataframe tbody tr th {\n",
              "        vertical-align: top;\n",
              "    }\n",
              "\n",
              "    .dataframe thead th {\n",
              "        text-align: right;\n",
              "    }\n",
              "</style>\n",
              "<table border=\"1\" class=\"dataframe\">\n",
              "  <thead>\n",
              "    <tr style=\"text-align: right;\">\n",
              "      <th></th>\n",
              "      <th>total_payout_in_paise</th>\n",
              "      <th>total_revenue_in_paise</th>\n",
              "    </tr>\n",
              "    <tr>\n",
              "      <th>app_id</th>\n",
              "      <th></th>\n",
              "      <th></th>\n",
              "    </tr>\n",
              "  </thead>\n",
              "  <tbody>\n",
              "    <tr>\n",
              "      <th>sikka</th>\n",
              "      <td>18466</td>\n",
              "      <td>39687</td>\n",
              "    </tr>\n",
              "    <tr>\n",
              "      <th>sikka_pro</th>\n",
              "      <td>19618</td>\n",
              "      <td>40457</td>\n",
              "    </tr>\n",
              "  </tbody>\n",
              "</table>\n",
              "</div>\n",
              "      <button class=\"colab-df-convert\" onclick=\"convertToInteractive('df-776b128d-00f1-4b3e-9004-5bb3fb970ea6')\"\n",
              "              title=\"Convert this dataframe to an interactive table.\"\n",
              "              style=\"display:none;\">\n",
              "        \n",
              "  <svg xmlns=\"http://www.w3.org/2000/svg\" height=\"24px\"viewBox=\"0 0 24 24\"\n",
              "       width=\"24px\">\n",
              "    <path d=\"M0 0h24v24H0V0z\" fill=\"none\"/>\n",
              "    <path d=\"M18.56 5.44l.94 2.06.94-2.06 2.06-.94-2.06-.94-.94-2.06-.94 2.06-2.06.94zm-11 1L8.5 8.5l.94-2.06 2.06-.94-2.06-.94L8.5 2.5l-.94 2.06-2.06.94zm10 10l.94 2.06.94-2.06 2.06-.94-2.06-.94-.94-2.06-.94 2.06-2.06.94z\"/><path d=\"M17.41 7.96l-1.37-1.37c-.4-.4-.92-.59-1.43-.59-.52 0-1.04.2-1.43.59L10.3 9.45l-7.72 7.72c-.78.78-.78 2.05 0 2.83L4 21.41c.39.39.9.59 1.41.59.51 0 1.02-.2 1.41-.59l7.78-7.78 2.81-2.81c.8-.78.8-2.07 0-2.86zM5.41 20L4 18.59l7.72-7.72 1.47 1.35L5.41 20z\"/>\n",
              "  </svg>\n",
              "      </button>\n",
              "      \n",
              "  <style>\n",
              "    .colab-df-container {\n",
              "      display:flex;\n",
              "      flex-wrap:wrap;\n",
              "      gap: 12px;\n",
              "    }\n",
              "\n",
              "    .colab-df-convert {\n",
              "      background-color: #E8F0FE;\n",
              "      border: none;\n",
              "      border-radius: 50%;\n",
              "      cursor: pointer;\n",
              "      display: none;\n",
              "      fill: #1967D2;\n",
              "      height: 32px;\n",
              "      padding: 0 0 0 0;\n",
              "      width: 32px;\n",
              "    }\n",
              "\n",
              "    .colab-df-convert:hover {\n",
              "      background-color: #E2EBFA;\n",
              "      box-shadow: 0px 1px 2px rgba(60, 64, 67, 0.3), 0px 1px 3px 1px rgba(60, 64, 67, 0.15);\n",
              "      fill: #174EA6;\n",
              "    }\n",
              "\n",
              "    [theme=dark] .colab-df-convert {\n",
              "      background-color: #3B4455;\n",
              "      fill: #D2E3FC;\n",
              "    }\n",
              "\n",
              "    [theme=dark] .colab-df-convert:hover {\n",
              "      background-color: #434B5C;\n",
              "      box-shadow: 0px 1px 3px 1px rgba(0, 0, 0, 0.15);\n",
              "      filter: drop-shadow(0px 1px 2px rgba(0, 0, 0, 0.3));\n",
              "      fill: #FFFFFF;\n",
              "    }\n",
              "  </style>\n",
              "\n",
              "      <script>\n",
              "        const buttonEl =\n",
              "          document.querySelector('#df-776b128d-00f1-4b3e-9004-5bb3fb970ea6 button.colab-df-convert');\n",
              "        buttonEl.style.display =\n",
              "          google.colab.kernel.accessAllowed ? 'block' : 'none';\n",
              "\n",
              "        async function convertToInteractive(key) {\n",
              "          const element = document.querySelector('#df-776b128d-00f1-4b3e-9004-5bb3fb970ea6');\n",
              "          const dataTable =\n",
              "            await google.colab.kernel.invokeFunction('convertToInteractive',\n",
              "                                                     [key], {});\n",
              "          if (!dataTable) return;\n",
              "\n",
              "          const docLinkHtml = 'Like what you see? Visit the ' +\n",
              "            '<a target=\"_blank\" href=https://colab.research.google.com/notebooks/data_table.ipynb>data table notebook</a>'\n",
              "            + ' to learn more about interactive tables.';\n",
              "          element.innerHTML = '';\n",
              "          dataTable['output_type'] = 'display_data';\n",
              "          await google.colab.output.renderOutput(dataTable, element);\n",
              "          const docLink = document.createElement('div');\n",
              "          docLink.innerHTML = docLinkHtml;\n",
              "          element.appendChild(docLink);\n",
              "        }\n",
              "      </script>\n",
              "    </div>\n",
              "  </div>\n",
              "  "
            ]
          },
          "metadata": {},
          "execution_count": 210
        }
      ]
    },
    {
      "cell_type": "code",
      "source": [
        "Payout_Revenue.columns"
      ],
      "metadata": {
        "colab": {
          "base_uri": "https://localhost:8080/"
        },
        "id": "USZEIPfeYDOT",
        "outputId": "3099ff05-82ad-40ce-ecda-dbbc26031411"
      },
      "execution_count": null,
      "outputs": [
        {
          "output_type": "execute_result",
          "data": {
            "text/plain": [
              "Index(['total_payout_in_paise', 'total_revenue_in_paise'], dtype='object')"
            ]
          },
          "metadata": {},
          "execution_count": 208
        }
      ]
    },
    {
      "cell_type": "code",
      "source": [
        "Payout_Revenue['Payout_rupees'] = Payout_Revenue['total_payout_in_paise']/100\n",
        "Payout_Revenue['Total_revenue_rupees'] = Payout_Revenue['total_revenue_in_paise']/100"
      ],
      "metadata": {
        "id": "-4X_RuPwC74e"
      },
      "execution_count": null,
      "outputs": []
    },
    {
      "cell_type": "code",
      "source": [
        "Payout_Revenue"
      ],
      "metadata": {
        "colab": {
          "base_uri": "https://localhost:8080/",
          "height": 143
        },
        "id": "wjPkvhtrDlrJ",
        "outputId": "6a4e7a15-58c3-48af-d583-9a5d62548ecd"
      },
      "execution_count": null,
      "outputs": [
        {
          "output_type": "execute_result",
          "data": {
            "text/plain": [
              "           total_payout_in_paise  total_revenue_in_paise  Payout_rupees  \\\n",
              "app_id                                                                    \n",
              "sikka                      18466                   39687         184.66   \n",
              "sikka_pro                  19618                   40457         196.18   \n",
              "\n",
              "           Total_revenue_rupees  \n",
              "app_id                           \n",
              "sikka                    396.87  \n",
              "sikka_pro                404.57  "
            ],
            "text/html": [
              "\n",
              "  <div id=\"df-29f65225-f5c4-439a-a632-06042cda6a25\">\n",
              "    <div class=\"colab-df-container\">\n",
              "      <div>\n",
              "<style scoped>\n",
              "    .dataframe tbody tr th:only-of-type {\n",
              "        vertical-align: middle;\n",
              "    }\n",
              "\n",
              "    .dataframe tbody tr th {\n",
              "        vertical-align: top;\n",
              "    }\n",
              "\n",
              "    .dataframe thead th {\n",
              "        text-align: right;\n",
              "    }\n",
              "</style>\n",
              "<table border=\"1\" class=\"dataframe\">\n",
              "  <thead>\n",
              "    <tr style=\"text-align: right;\">\n",
              "      <th></th>\n",
              "      <th>total_payout_in_paise</th>\n",
              "      <th>total_revenue_in_paise</th>\n",
              "      <th>Payout_rupees</th>\n",
              "      <th>Total_revenue_rupees</th>\n",
              "    </tr>\n",
              "    <tr>\n",
              "      <th>app_id</th>\n",
              "      <th></th>\n",
              "      <th></th>\n",
              "      <th></th>\n",
              "      <th></th>\n",
              "    </tr>\n",
              "  </thead>\n",
              "  <tbody>\n",
              "    <tr>\n",
              "      <th>sikka</th>\n",
              "      <td>18466</td>\n",
              "      <td>39687</td>\n",
              "      <td>184.66</td>\n",
              "      <td>396.87</td>\n",
              "    </tr>\n",
              "    <tr>\n",
              "      <th>sikka_pro</th>\n",
              "      <td>19618</td>\n",
              "      <td>40457</td>\n",
              "      <td>196.18</td>\n",
              "      <td>404.57</td>\n",
              "    </tr>\n",
              "  </tbody>\n",
              "</table>\n",
              "</div>\n",
              "      <button class=\"colab-df-convert\" onclick=\"convertToInteractive('df-29f65225-f5c4-439a-a632-06042cda6a25')\"\n",
              "              title=\"Convert this dataframe to an interactive table.\"\n",
              "              style=\"display:none;\">\n",
              "        \n",
              "  <svg xmlns=\"http://www.w3.org/2000/svg\" height=\"24px\"viewBox=\"0 0 24 24\"\n",
              "       width=\"24px\">\n",
              "    <path d=\"M0 0h24v24H0V0z\" fill=\"none\"/>\n",
              "    <path d=\"M18.56 5.44l.94 2.06.94-2.06 2.06-.94-2.06-.94-.94-2.06-.94 2.06-2.06.94zm-11 1L8.5 8.5l.94-2.06 2.06-.94-2.06-.94L8.5 2.5l-.94 2.06-2.06.94zm10 10l.94 2.06.94-2.06 2.06-.94-2.06-.94-.94-2.06-.94 2.06-2.06.94z\"/><path d=\"M17.41 7.96l-1.37-1.37c-.4-.4-.92-.59-1.43-.59-.52 0-1.04.2-1.43.59L10.3 9.45l-7.72 7.72c-.78.78-.78 2.05 0 2.83L4 21.41c.39.39.9.59 1.41.59.51 0 1.02-.2 1.41-.59l7.78-7.78 2.81-2.81c.8-.78.8-2.07 0-2.86zM5.41 20L4 18.59l7.72-7.72 1.47 1.35L5.41 20z\"/>\n",
              "  </svg>\n",
              "      </button>\n",
              "      \n",
              "  <style>\n",
              "    .colab-df-container {\n",
              "      display:flex;\n",
              "      flex-wrap:wrap;\n",
              "      gap: 12px;\n",
              "    }\n",
              "\n",
              "    .colab-df-convert {\n",
              "      background-color: #E8F0FE;\n",
              "      border: none;\n",
              "      border-radius: 50%;\n",
              "      cursor: pointer;\n",
              "      display: none;\n",
              "      fill: #1967D2;\n",
              "      height: 32px;\n",
              "      padding: 0 0 0 0;\n",
              "      width: 32px;\n",
              "    }\n",
              "\n",
              "    .colab-df-convert:hover {\n",
              "      background-color: #E2EBFA;\n",
              "      box-shadow: 0px 1px 2px rgba(60, 64, 67, 0.3), 0px 1px 3px 1px rgba(60, 64, 67, 0.15);\n",
              "      fill: #174EA6;\n",
              "    }\n",
              "\n",
              "    [theme=dark] .colab-df-convert {\n",
              "      background-color: #3B4455;\n",
              "      fill: #D2E3FC;\n",
              "    }\n",
              "\n",
              "    [theme=dark] .colab-df-convert:hover {\n",
              "      background-color: #434B5C;\n",
              "      box-shadow: 0px 1px 3px 1px rgba(0, 0, 0, 0.15);\n",
              "      filter: drop-shadow(0px 1px 2px rgba(0, 0, 0, 0.3));\n",
              "      fill: #FFFFFF;\n",
              "    }\n",
              "  </style>\n",
              "\n",
              "      <script>\n",
              "        const buttonEl =\n",
              "          document.querySelector('#df-29f65225-f5c4-439a-a632-06042cda6a25 button.colab-df-convert');\n",
              "        buttonEl.style.display =\n",
              "          google.colab.kernel.accessAllowed ? 'block' : 'none';\n",
              "\n",
              "        async function convertToInteractive(key) {\n",
              "          const element = document.querySelector('#df-29f65225-f5c4-439a-a632-06042cda6a25');\n",
              "          const dataTable =\n",
              "            await google.colab.kernel.invokeFunction('convertToInteractive',\n",
              "                                                     [key], {});\n",
              "          if (!dataTable) return;\n",
              "\n",
              "          const docLinkHtml = 'Like what you see? Visit the ' +\n",
              "            '<a target=\"_blank\" href=https://colab.research.google.com/notebooks/data_table.ipynb>data table notebook</a>'\n",
              "            + ' to learn more about interactive tables.';\n",
              "          element.innerHTML = '';\n",
              "          dataTable['output_type'] = 'display_data';\n",
              "          await google.colab.output.renderOutput(dataTable, element);\n",
              "          const docLink = document.createElement('div');\n",
              "          docLink.innerHTML = docLinkHtml;\n",
              "          element.appendChild(docLink);\n",
              "        }\n",
              "      </script>\n",
              "    </div>\n",
              "  </div>\n",
              "  "
            ]
          },
          "metadata": {},
          "execution_count": 199
        }
      ]
    },
    {
      "cell_type": "code",
      "source": [
        "ax = sns.barplot(x=Payout_Revenue.index, y='Payout_rupees', palette='Set2', data=Payout_Revenue)\n",
        "plt.title(\"Payout for Sikka and Sikka Pro\", fontsize=12)\n",
        "plt.xlabel(\"App \", fontsize=10)\n",
        "plt.ylabel(\"Payout\", fontsize=10)\n",
        "# Add the actual numbers on top of the bars\n",
        "for p in ax.patches:\n",
        "    ax.annotate(format(p.get_height(), '.2f'), \n",
        "                (p.get_x() + p.get_width() / 2., p.get_height()), \n",
        "                ha = 'center', va = 'center', \n",
        "                xytext = (0, 9), \n",
        "                textcoords = 'offset points')"
      ],
      "metadata": {
        "colab": {
          "base_uri": "https://localhost:8080/",
          "height": 472
        },
        "id": "P_6wsKQdYxAX",
        "outputId": "f046da90-d669-4d49-a980-838b8c7bd313"
      },
      "execution_count": null,
      "outputs": [
        {
          "output_type": "display_data",
          "data": {
            "text/plain": [
              "<Figure size 640x480 with 1 Axes>"
            ],
            "image/png": "[encoded data removed]"
          },
          "metadata": {}
        }
      ]
    },
    {
      "cell_type": "code",
      "source": [
        "ax = sns.barplot(x=Payout_Revenue.index, y='Total_revenue_rupees', palette='Set2', data=Payout_Revenue)\n",
        "plt.title(\"Revenue for Sikka and Sikka Pro\", fontsize=12)\n",
        "plt.xlabel(\"App \", fontsize=10)\n",
        "plt.ylabel(\"Revenue\", fontsize=10)\n",
        "# Add the actual numbers on top of the bars\n",
        "for p in ax.patches:\n",
        "    ax.annotate(format(p.get_height(), '.2f'), \n",
        "                (p.get_x() + p.get_width() / 2., p.get_height()), \n",
        "                ha = 'center', va = 'center', \n",
        "                xytext = (0, 9), \n",
        "                textcoords = 'offset points')"
      ],
      "metadata": {
        "colab": {
          "base_uri": "https://localhost:8080/",
          "height": 472
        },
        "id": "JTBBVAIgbPG6",
        "outputId": "cf836b56-bc39-4cd6-b9c8-0442a1422e29"
      },
      "execution_count": null,
      "outputs": [
        {
          "output_type": "display_data",
          "data": {
            "text/plain": [
              "<Figure size 640x480 with 1 Axes>"
            ],
            "image/png": "[encoded data removed]"
          },
          "metadata": {}
        }
      ]
    },
    {
      "cell_type": "code",
      "source": [
        "Payout_Revenue.columns"
      ],
      "metadata": {
        "colab": {
          "base_uri": "https://localhost:8080/"
        },
        "id": "Ra6GmBAIX8K6",
        "outputId": "08f24a79-7349-4a2a-b981-a74c0304afad"
      },
      "execution_count": null,
      "outputs": [
        {
          "output_type": "execute_result",
          "data": {
            "text/plain": [
              "Index(['total_payout_in_paise', 'total_revenue_in_paise', 'Payout_rupees',\n",
              "       'Total_revenue_rupees'],\n",
              "      dtype='object')"
            ]
          },
          "metadata": {},
          "execution_count": 206
        }
      ]
    },
    {
      "cell_type": "code",
      "source": [
        "sns.barplot(x='App', y='Total_revenue_rupees', palette='flare', data=Payout_Revenue)"
      ],
      "metadata": {
        "id": "slc_1eZsVKcl"
      },
      "execution_count": null,
      "outputs": []
    },
    {
      "cell_type": "code",
      "source": [
        "sns.color_palette(palette=\"Set2\")\n",
        "plt.pie(Payout_Revenue['Payout_rupees'],labels = ['Sikka',\"Sikka Pro\"], autopct='%1.2f%%',colors = ['#add8e6','#3b79a2'])\n",
        "plt.title(\"Payout for Sikka and Sikka Pro\", fontsize=12)\n",
        "plt.show()"
      ],
      "metadata": {
        "colab": {
          "base_uri": "https://localhost:8080/",
          "height": 428
        },
        "id": "_RH32iOQTqoY",
        "outputId": "d26cb7d4-8f7d-4dd1-9357-43a0c0cd5ca6"
      },
      "execution_count": null,
      "outputs": [
        {
          "output_type": "display_data",
          "data": {
            "text/plain": [
              "<Figure size 640x480 with 1 Axes>"
            ],
            "image/png": "[encoded data removed]"
          },
          "metadata": {}
        }
      ]
    },
    {
      "cell_type": "markdown",
      "source": [
        "## **So the Total Revenue generated and the total payout is almost equal to one another**\n"
      ],
      "metadata": {
        "id": "0muviiQiCqUK"
      }
    },
    {
      "cell_type": "code",
      "source": [
        "Rewards_details.columns"
      ],
      "metadata": {
        "colab": {
          "base_uri": "https://localhost:8080/"
        },
        "id": "Myrk6YKZ_fpM",
        "outputId": "ee474632-4d62-40b3-d01e-03ae56497c70"
      },
      "execution_count": null,
      "outputs": [
        {
          "output_type": "execute_result",
          "data": {
            "text/plain": [
              "Index(['Unnamed: 0', 'offer_id', 'reward_id', 'label_in_english',\n",
              "       'total_payout_in_paise', 'total_revenue_in_paise'],\n",
              "      dtype='object')"
            ]
          },
          "metadata": {},
          "execution_count": 225
        }
      ]
    },
    {
      "cell_type": "markdown",
      "metadata": {
        "id": "z7Mn-8-Ov8vk"
      },
      "source": [
        "## Revenue generated for Sikka and Sikka pro"
      ]
    },
    {
      "cell_type": "code",
      "source": [
        "#Merging User_offer_completion_data and Rewards_details\n",
        "\n",
        "Reward = pd.merge(User_offer_completion_data,Rewards_details, on = 'reward_id')"
      ],
      "metadata": {
        "id": "hLQzB4Rgduut"
      },
      "execution_count": null,
      "outputs": []
    },
    {
      "cell_type": "code",
      "source": [
        "Reward = Reward.drop(['Unnamed: 0_x'],axis =1)"
      ],
      "metadata": {
        "id": "gluH9pgreEsB"
      },
      "execution_count": null,
      "outputs": []
    },
    {
      "cell_type": "code",
      "execution_count": null,
      "metadata": {
        "id": "Mhxo_nArvK1u"
      },
      "outputs": [],
      "source": [
        "#Merging User_Signup_data and Reward\n",
        "\n",
        "Revenue =pd.merge(User_Signup_data,Reward, on = ['user_id','app_id'])"
      ]
    },
    {
      "cell_type": "code",
      "execution_count": null,
      "metadata": {
        "colab": {
          "base_uri": "https://localhost:8080/",
          "height": 214
        },
        "id": "zXS4MuSKw4Ur",
        "outputId": "478fad49-d36e-4ffe-8331-e7d1a383b899"
      },
      "outputs": [
        {
          "output_type": "execute_result",
          "data": {
            "text/plain": [
              "                                user_id app_id signed_up_on last_login_date  \\\n",
              "0  c925ccad-98e7-4500-833e-a49aa066aeec  sikka   2022-11-26      2022-11-26   \n",
              "\n",
              "   reward_id       date  Unnamed: 0_y  offer_id       label_in_english  \\\n",
              "0        935 2022-11-26           441       792  Complete Registration   \n",
              "\n",
              "   total_payout_in_paise  total_revenue_in_paise  \n",
              "0                    200                       0  "
            ],
            "text/html": [
              "\n",
              "  <div id=\"df-433fe060-b328-43e8-8d25-bba94d03e833\">\n",
              "    <div class=\"colab-df-container\">\n",
              "      <div>\n",
              "<style scoped>\n",
              "    .dataframe tbody tr th:only-of-type {\n",
              "        vertical-align: middle;\n",
              "    }\n",
              "\n",
              "    .dataframe tbody tr th {\n",
              "        vertical-align: top;\n",
              "    }\n",
              "\n",
              "    .dataframe thead th {\n",
              "        text-align: right;\n",
              "    }\n",
              "</style>\n",
              "<table border=\"1\" class=\"dataframe\">\n",
              "  <thead>\n",
              "    <tr style=\"text-align: right;\">\n",
              "      <th></th>\n",
              "      <th>user_id</th>\n",
              "      <th>app_id</th>\n",
              "      <th>signed_up_on</th>\n",
              "      <th>last_login_date</th>\n",
              "      <th>reward_id</th>\n",
              "      <th>date</th>\n",
              "      <th>Unnamed: 0_y</th>\n",
              "      <th>offer_id</th>\n",
              "      <th>label_in_english</th>\n",
              "      <th>total_payout_in_paise</th>\n",
              "      <th>total_revenue_in_paise</th>\n",
              "    </tr>\n",
              "  </thead>\n",
              "  <tbody>\n",
              "    <tr>\n",
              "      <th>0</th>\n",
              "      <td>c925ccad-98e7-4500-833e-a49aa066aeec</td>\n",
              "      <td>sikka</td>\n",
              "      <td>2022-11-26</td>\n",
              "      <td>2022-11-26</td>\n",
              "      <td>935</td>\n",
              "      <td>2022-11-26</td>\n",
              "      <td>441</td>\n",
              "      <td>792</td>\n",
              "      <td>Complete Registration</td>\n",
              "      <td>200</td>\n",
              "      <td>0</td>\n",
              "    </tr>\n",
              "  </tbody>\n",
              "</table>\n",
              "</div>\n",
              "      <button class=\"colab-df-convert\" onclick=\"convertToInteractive('df-433fe060-b328-43e8-8d25-bba94d03e833')\"\n",
              "              title=\"Convert this dataframe to an interactive table.\"\n",
              "              style=\"display:none;\">\n",
              "        \n",
              "  <svg xmlns=\"http://www.w3.org/2000/svg\" height=\"24px\"viewBox=\"0 0 24 24\"\n",
              "       width=\"24px\">\n",
              "    <path d=\"M0 0h24v24H0V0z\" fill=\"none\"/>\n",
              "    <path d=\"M18.56 5.44l.94 2.06.94-2.06 2.06-.94-2.06-.94-.94-2.06-.94 2.06-2.06.94zm-11 1L8.5 8.5l.94-2.06 2.06-.94-2.06-.94L8.5 2.5l-.94 2.06-2.06.94zm10 10l.94 2.06.94-2.06 2.06-.94-2.06-.94-.94-2.06-.94 2.06-2.06.94z\"/><path d=\"M17.41 7.96l-1.37-1.37c-.4-.4-.92-.59-1.43-.59-.52 0-1.04.2-1.43.59L10.3 9.45l-7.72 7.72c-.78.78-.78 2.05 0 2.83L4 21.41c.39.39.9.59 1.41.59.51 0 1.02-.2 1.41-.59l7.78-7.78 2.81-2.81c.8-.78.8-2.07 0-2.86zM5.41 20L4 18.59l7.72-7.72 1.47 1.35L5.41 20z\"/>\n",
              "  </svg>\n",
              "      </button>\n",
              "      \n",
              "  <style>\n",
              "    .colab-df-container {\n",
              "      display:flex;\n",
              "      flex-wrap:wrap;\n",
              "      gap: 12px;\n",
              "    }\n",
              "\n",
              "    .colab-df-convert {\n",
              "      background-color: #E8F0FE;\n",
              "      border: none;\n",
              "      border-radius: 50%;\n",
              "      cursor: pointer;\n",
              "      display: none;\n",
              "      fill: #1967D2;\n",
              "      height: 32px;\n",
              "      padding: 0 0 0 0;\n",
              "      width: 32px;\n",
              "    }\n",
              "\n",
              "    .colab-df-convert:hover {\n",
              "      background-color: #E2EBFA;\n",
              "      box-shadow: 0px 1px 2px rgba(60, 64, 67, 0.3), 0px 1px 3px 1px rgba(60, 64, 67, 0.15);\n",
              "      fill: #174EA6;\n",
              "    }\n",
              "\n",
              "    [theme=dark] .colab-df-convert {\n",
              "      background-color: #3B4455;\n",
              "      fill: #D2E3FC;\n",
              "    }\n",
              "\n",
              "    [theme=dark] .colab-df-convert:hover {\n",
              "      background-color: #434B5C;\n",
              "      box-shadow: 0px 1px 3px 1px rgba(0, 0, 0, 0.15);\n",
              "      filter: drop-shadow(0px 1px 2px rgba(0, 0, 0, 0.3));\n",
              "      fill: #FFFFFF;\n",
              "    }\n",
              "  </style>\n",
              "\n",
              "      <script>\n",
              "        const buttonEl =\n",
              "          document.querySelector('#df-433fe060-b328-43e8-8d25-bba94d03e833 button.colab-df-convert');\n",
              "        buttonEl.style.display =\n",
              "          google.colab.kernel.accessAllowed ? 'block' : 'none';\n",
              "\n",
              "        async function convertToInteractive(key) {\n",
              "          const element = document.querySelector('#df-433fe060-b328-43e8-8d25-bba94d03e833');\n",
              "          const dataTable =\n",
              "            await google.colab.kernel.invokeFunction('convertToInteractive',\n",
              "                                                     [key], {});\n",
              "          if (!dataTable) return;\n",
              "\n",
              "          const docLinkHtml = 'Like what you see? Visit the ' +\n",
              "            '<a target=\"_blank\" href=https://colab.research.google.com/notebooks/data_table.ipynb>data table notebook</a>'\n",
              "            + ' to learn more about interactive tables.';\n",
              "          element.innerHTML = '';\n",
              "          dataTable['output_type'] = 'display_data';\n",
              "          await google.colab.output.renderOutput(dataTable, element);\n",
              "          const docLink = document.createElement('div');\n",
              "          docLink.innerHTML = docLinkHtml;\n",
              "          element.appendChild(docLink);\n",
              "        }\n",
              "      </script>\n",
              "    </div>\n",
              "  </div>\n",
              "  "
            ]
          },
          "metadata": {},
          "execution_count": 245
        }
      ],
      "source": [
        "Revenue.head(1)"
      ]
    },
    {
      "cell_type": "code",
      "execution_count": null,
      "metadata": {
        "id": "VNTC1XFCwm8P"
      },
      "outputs": [],
      "source": [
        "#Group by on app_id to find total revenue earned by each app\n",
        "revenue_per_app = Revenue.groupby(\"app_id\")['total_revenue_in_paise'].sum().reset_index()"
      ]
    },
    {
      "cell_type": "code",
      "execution_count": null,
      "metadata": {
        "id": "3ECKxGQnyEzU"
      },
      "outputs": [],
      "source": [
        "#Grouping by \"app_id\",\"last_login_date\" to find total revenue generated by each app per day\n",
        "revenue_per_app_per_day = Revenue.groupby([\"app_id\",\"last_login_date\"])['total_revenue_in_paise'].sum().reset_index()"
      ]
    },
    {
      "cell_type": "code",
      "execution_count": null,
      "metadata": {
        "id": "TVcY1nucykXI"
      },
      "outputs": [],
      "source": [
        "#paise to rupees\n",
        "revenue_per_app_per_day['total_revenue'] = revenue_per_app_per_day['total_revenue_in_paise']/100"
      ]
    },
    {
      "cell_type": "code",
      "source": [
        "revenue_per_app_per_day.info()"
      ],
      "metadata": {
        "colab": {
          "base_uri": "https://localhost:8080/"
        },
        "id": "XreqtOmpu2_r",
        "outputId": "3e051a3f-fda2-4ce3-916a-f30bb60ac93a"
      },
      "execution_count": null,
      "outputs": [
        {
          "output_type": "stream",
          "name": "stdout",
          "text": [
            "<class 'pandas.core.frame.DataFrame'>\n",
            "RangeIndex: 8 entries, 0 to 7\n",
            "Data columns (total 4 columns):\n",
            " #   Column                  Non-Null Count  Dtype  \n",
            "---  ------                  --------------  -----  \n",
            " 0   app_id                  8 non-null      object \n",
            " 1   last_login_date         8 non-null      object \n",
            " 2   total_revenue_in_paise  8 non-null      int64  \n",
            " 3   total_revenue           8 non-null      float64\n",
            "dtypes: float64(1), int64(1), object(2)\n",
            "memory usage: 384.0+ bytes\n"
          ]
        }
      ]
    },
    {
      "cell_type": "code",
      "source": [
        "revenue_per_app_per_day['last_login_date'] = pd.to_datetime(revenue_per_app_per_day['last_login_date'])\n"
      ],
      "metadata": {
        "id": "ddhKa-TuvRue"
      },
      "execution_count": null,
      "outputs": []
    },
    {
      "cell_type": "code",
      "source": [
        "revenue_per_app_per_day['Month'] = revenue_per_app_per_day['last_login_date'].dt.month"
      ],
      "metadata": {
        "id": "7Zqj5GCrutaA"
      },
      "execution_count": null,
      "outputs": []
    },
    {
      "cell_type": "code",
      "execution_count": null,
      "metadata": {
        "id": "lGTiIIuC0gfF"
      },
      "outputs": [],
      "source": [
        "revenue_per_app_per_day"
      ]
    },
    {
      "cell_type": "code",
      "source": [
        "revenue_per_app_per_day.groupby(['Month'])['total_revenue'].sum()"
      ],
      "metadata": {
        "colab": {
          "base_uri": "https://localhost:8080/"
        },
        "id": "S24VH7w_uZAs",
        "outputId": "8c16dbd7-448d-4fa9-b4da-af764332a93d"
      },
      "execution_count": null,
      "outputs": [
        {
          "output_type": "execute_result",
          "data": {
            "text/plain": [
              "Month\n",
              "11    801.44\n",
              "Name: total_revenue, dtype: float64"
            ]
          },
          "metadata": {},
          "execution_count": 304
        }
      ]
    },
    {
      "cell_type": "code",
      "execution_count": null,
      "metadata": {
        "colab": {
          "base_uri": "https://localhost:8080/",
          "height": 641
        },
        "id": "pfP9EXacymX9",
        "outputId": "a65c8405-84d4-4dfe-a5d0-276cd0b4983c"
      },
      "outputs": [
        {
          "output_type": "display_data",
          "data": {
            "text/plain": [
              "<Figure size 800x700 with 1 Axes>"
            ],
            "image/png": "[encoded data removed]"
          },
          "metadata": {}
        }
      ],
      "source": [
        "#Plotting a bar chart\n",
        "plt.figure(figsize= (8,7))\n",
        "sns.barplot(y='total_revenue', x='last_login_date', data=revenue_per_app_per_day, hue='app_id', palette ='flare')\n",
        "plt.xlabel('Date')\n",
        "plt.ylabel('Total Revenue')\n",
        "plt.title('Comparison of App by revenue')\n",
        "plt.show()"
      ]
    },
    {
      "cell_type": "code",
      "source": [
        "Rewards_details.columns"
      ],
      "metadata": {
        "colab": {
          "base_uri": "https://localhost:8080/"
        },
        "id": "0g3ziEsYhR3J",
        "outputId": "44ea2f9d-16f7-4a54-81d2-598e4564d0e5"
      },
      "execution_count": null,
      "outputs": [
        {
          "output_type": "execute_result",
          "data": {
            "text/plain": [
              "Index(['Unnamed: 0', 'offer_id', 'reward_id', 'label_in_english',\n",
              "       'total_payout_in_paise', 'total_revenue_in_paise'],\n",
              "      dtype='object')"
            ]
          },
          "metadata": {},
          "execution_count": 261
        }
      ]
    },
    {
      "cell_type": "code",
      "source": [
        "Rewards_details.total_payout_in_paise.sum()"
      ],
      "metadata": {
        "id": "FvOb12hepDet",
        "colab": {
          "base_uri": "https://localhost:8080/"
        },
        "outputId": "06cb00ba-662c-4a3f-e087-ab204a2db4dd"
      },
      "execution_count": null,
      "outputs": [
        {
          "output_type": "execute_result",
          "data": {
            "text/plain": [
              "5593302"
            ]
          },
          "metadata": {},
          "execution_count": 259
        }
      ]
    },
    {
      "cell_type": "code",
      "source": [
        "Rewards_details.total_revenue_in_paise.sum()"
      ],
      "metadata": {
        "id": "lSzNAoBkpDhg",
        "colab": {
          "base_uri": "https://localhost:8080/"
        },
        "outputId": "f6351941-fa07-40ed-d55f-a331328d2450"
      },
      "execution_count": null,
      "outputs": [
        {
          "output_type": "execute_result",
          "data": {
            "text/plain": [
              "5256082"
            ]
          },
          "metadata": {},
          "execution_count": 262
        }
      ]
    },
    {
      "cell_type": "code",
      "source": [
        "User_offer_completion_data= pd.read_csv(\"https://raw.githubusercontent.com/RAHULRAJ666DX/Gsm/main/Q2_User%20offer%20completion%20data.csv\")\n",
        "User_Offer_df = pd.read_csv(\"https://raw.githubusercontent.com/RAHULRAJ666DX/Gsm/main/Q2_User%20offer%20data.csv\")\n",
        "Rewards_details= pd.read_csv(\"https://raw.githubusercontent.com/RAHULRAJ666DX/Gsm/main/Q2_rewards%20details.csv\")\n",
        "User_Signup_data= pd.read_csv(\"https://raw.githubusercontent.com/RAHULRAJ666DX/Gsm/main/Q2_users%20signup.csv\")\n",
        "sikka_data= pd.read_csv(\"https://raw.githubusercontent.com/RAHULRAJ666DX/Gsm/main/Q3_Sikka%20data.csv\")\n",
        "adx_df= pd.read_csv(\"https://raw.githubusercontent.com/RAHULRAJ666DX/Gsm/main/Q4_ADX_Sample_data.csv\")"
      ],
      "metadata": {
        "id": "tU1a3UGFdd5Y"
      },
      "execution_count": null,
      "outputs": []
    },
    {
      "cell_type": "code",
      "source": [
        "sikka_data_df.sample(5)"
      ],
      "metadata": {
        "colab": {
          "base_uri": "https://localhost:8080/",
          "height": 206
        },
        "id": "huAXmHRbyxfD",
        "outputId": "c29f77f7-f48b-4666-f9f0-8051291b633c"
      },
      "execution_count": null,
      "outputs": [
        {
          "output_type": "execute_result",
          "data": {
            "text/plain": [
              "          Date    DAU  Installs  Uninstalls  Signups  Referrals\n",
              "14  2022-10-15  20829      5659        6519     2967      772.0\n",
              "0   2022-10-01  24071      6630        6994     3511      962.0\n",
              "38  2022-11-08  12988      4468        4143     1808        NaN\n",
              "10  2022-10-11  24497      7308        7532     4347     1161.0\n",
              "25  2022-10-26  14659      3885        4564     1740      491.0"
            ],
            "text/html": [
              "\n",
              "  <div id=\"df-2ccf6618-1044-4f64-a1d4-2ddd96978673\">\n",
              "    <div class=\"colab-df-container\">\n",
              "      <div>\n",
              "<style scoped>\n",
              "    .dataframe tbody tr th:only-of-type {\n",
              "        vertical-align: middle;\n",
              "    }\n",
              "\n",
              "    .dataframe tbody tr th {\n",
              "        vertical-align: top;\n",
              "    }\n",
              "\n",
              "    .dataframe thead th {\n",
              "        text-align: right;\n",
              "    }\n",
              "</style>\n",
              "<table border=\"1\" class=\"dataframe\">\n",
              "  <thead>\n",
              "    <tr style=\"text-align: right;\">\n",
              "      <th></th>\n",
              "      <th>Date</th>\n",
              "      <th>DAU</th>\n",
              "      <th>Installs</th>\n",
              "      <th>Uninstalls</th>\n",
              "      <th>Signups</th>\n",
              "      <th>Referrals</th>\n",
              "    </tr>\n",
              "  </thead>\n",
              "  <tbody>\n",
              "    <tr>\n",
              "      <th>14</th>\n",
              "      <td>2022-10-15</td>\n",
              "      <td>20829</td>\n",
              "      <td>5659</td>\n",
              "      <td>6519</td>\n",
              "      <td>2967</td>\n",
              "      <td>772.0</td>\n",
              "    </tr>\n",
              "    <tr>\n",
              "      <th>0</th>\n",
              "      <td>2022-10-01</td>\n",
              "      <td>24071</td>\n",
              "      <td>6630</td>\n",
              "      <td>6994</td>\n",
              "      <td>3511</td>\n",
              "      <td>962.0</td>\n",
              "    </tr>\n",
              "    <tr>\n",
              "      <th>38</th>\n",
              "      <td>2022-11-08</td>\n",
              "      <td>12988</td>\n",
              "      <td>4468</td>\n",
              "      <td>4143</td>\n",
              "      <td>1808</td>\n",
              "      <td>NaN</td>\n",
              "    </tr>\n",
              "    <tr>\n",
              "      <th>10</th>\n",
              "      <td>2022-10-11</td>\n",
              "      <td>24497</td>\n",
              "      <td>7308</td>\n",
              "      <td>7532</td>\n",
              "      <td>4347</td>\n",
              "      <td>1161.0</td>\n",
              "    </tr>\n",
              "    <tr>\n",
              "      <th>25</th>\n",
              "      <td>2022-10-26</td>\n",
              "      <td>14659</td>\n",
              "      <td>3885</td>\n",
              "      <td>4564</td>\n",
              "      <td>1740</td>\n",
              "      <td>491.0</td>\n",
              "    </tr>\n",
              "  </tbody>\n",
              "</table>\n",
              "</div>\n",
              "      <button class=\"colab-df-convert\" onclick=\"convertToInteractive('df-2ccf6618-1044-4f64-a1d4-2ddd96978673')\"\n",
              "              title=\"Convert this dataframe to an interactive table.\"\n",
              "              style=\"display:none;\">\n",
              "        \n",
              "  <svg xmlns=\"http://www.w3.org/2000/svg\" height=\"24px\"viewBox=\"0 0 24 24\"\n",
              "       width=\"24px\">\n",
              "    <path d=\"M0 0h24v24H0V0z\" fill=\"none\"/>\n",
              "    <path d=\"M18.56 5.44l.94 2.06.94-2.06 2.06-.94-2.06-.94-.94-2.06-.94 2.06-2.06.94zm-11 1L8.5 8.5l.94-2.06 2.06-.94-2.06-.94L8.5 2.5l-.94 2.06-2.06.94zm10 10l.94 2.06.94-2.06 2.06-.94-2.06-.94-.94-2.06-.94 2.06-2.06.94z\"/><path d=\"M17.41 7.96l-1.37-1.37c-.4-.4-.92-.59-1.43-.59-.52 0-1.04.2-1.43.59L10.3 9.45l-7.72 7.72c-.78.78-.78 2.05 0 2.83L4 21.41c.39.39.9.59 1.41.59.51 0 1.02-.2 1.41-.59l7.78-7.78 2.81-2.81c.8-.78.8-2.07 0-2.86zM5.41 20L4 18.59l7.72-7.72 1.47 1.35L5.41 20z\"/>\n",
              "  </svg>\n",
              "      </button>\n",
              "      \n",
              "  <style>\n",
              "    .colab-df-container {\n",
              "      display:flex;\n",
              "      flex-wrap:wrap;\n",
              "      gap: 12px;\n",
              "    }\n",
              "\n",
              "    .colab-df-convert {\n",
              "      background-color: #E8F0FE;\n",
              "      border: none;\n",
              "      border-radius: 50%;\n",
              "      cursor: pointer;\n",
              "      display: none;\n",
              "      fill: #1967D2;\n",
              "      height: 32px;\n",
              "      padding: 0 0 0 0;\n",
              "      width: 32px;\n",
              "    }\n",
              "\n",
              "    .colab-df-convert:hover {\n",
              "      background-color: #E2EBFA;\n",
              "      box-shadow: 0px 1px 2px rgba(60, 64, 67, 0.3), 0px 1px 3px 1px rgba(60, 64, 67, 0.15);\n",
              "      fill: #174EA6;\n",
              "    }\n",
              "\n",
              "    [theme=dark] .colab-df-convert {\n",
              "      background-color: #3B4455;\n",
              "      fill: #D2E3FC;\n",
              "    }\n",
              "\n",
              "    [theme=dark] .colab-df-convert:hover {\n",
              "      background-color: #434B5C;\n",
              "      box-shadow: 0px 1px 3px 1px rgba(0, 0, 0, 0.15);\n",
              "      filter: drop-shadow(0px 1px 2px rgba(0, 0, 0, 0.3));\n",
              "      fill: #FFFFFF;\n",
              "    }\n",
              "  </style>\n",
              "\n",
              "      <script>\n",
              "        const buttonEl =\n",
              "          document.querySelector('#df-2ccf6618-1044-4f64-a1d4-2ddd96978673 button.colab-df-convert');\n",
              "        buttonEl.style.display =\n",
              "          google.colab.kernel.accessAllowed ? 'block' : 'none';\n",
              "\n",
              "        async function convertToInteractive(key) {\n",
              "          const element = document.querySelector('#df-2ccf6618-1044-4f64-a1d4-2ddd96978673');\n",
              "          const dataTable =\n",
              "            await google.colab.kernel.invokeFunction('convertToInteractive',\n",
              "                                                     [key], {});\n",
              "          if (!dataTable) return;\n",
              "\n",
              "          const docLinkHtml = 'Like what you see? Visit the ' +\n",
              "            '<a target=\"_blank\" href=https://colab.research.google.com/notebooks/data_table.ipynb>data table notebook</a>'\n",
              "            + ' to learn more about interactive tables.';\n",
              "          element.innerHTML = '';\n",
              "          dataTable['output_type'] = 'display_data';\n",
              "          await google.colab.output.renderOutput(dataTable, element);\n",
              "          const docLink = document.createElement('div');\n",
              "          docLink.innerHTML = docLinkHtml;\n",
              "          element.appendChild(docLink);\n",
              "        }\n",
              "      </script>\n",
              "    </div>\n",
              "  </div>\n",
              "  "
            ]
          },
          "metadata": {},
          "execution_count": 326
        }
      ]
    },
    {
      "cell_type": "code",
      "source": [
        "Rewards_details.head(1)"
      ],
      "metadata": {
        "id": "BHNV11twpDqM",
        "colab": {
          "base_uri": "https://localhost:8080/",
          "height": 81
        },
        "outputId": "d58e7306-7f77-4f10-8d16-b165e9e62891"
      },
      "execution_count": null,
      "outputs": [
        {
          "output_type": "execute_result",
          "data": {
            "text/plain": [
              "   Unnamed: 0  offer_id  reward_id label_in_english  total_payout_in_paise  \\\n",
              "0           0       369        451     Download APK                    500   \n",
              "\n",
              "   total_revenue_in_paise  \n",
              "0                       0  "
            ],
            "text/html": [
              "\n",
              "  <div id=\"df-38001e28-f144-49c8-b42b-7982fb5533ac\">\n",
              "    <div class=\"colab-df-container\">\n",
              "      <div>\n",
              "<style scoped>\n",
              "    .dataframe tbody tr th:only-of-type {\n",
              "        vertical-align: middle;\n",
              "    }\n",
              "\n",
              "    .dataframe tbody tr th {\n",
              "        vertical-align: top;\n",
              "    }\n",
              "\n",
              "    .dataframe thead th {\n",
              "        text-align: right;\n",
              "    }\n",
              "</style>\n",
              "<table border=\"1\" class=\"dataframe\">\n",
              "  <thead>\n",
              "    <tr style=\"text-align: right;\">\n",
              "      <th></th>\n",
              "      <th>Unnamed: 0</th>\n",
              "      <th>offer_id</th>\n",
              "      <th>reward_id</th>\n",
              "      <th>label_in_english</th>\n",
              "      <th>total_payout_in_paise</th>\n",
              "      <th>total_revenue_in_paise</th>\n",
              "    </tr>\n",
              "  </thead>\n",
              "  <tbody>\n",
              "    <tr>\n",
              "      <th>0</th>\n",
              "      <td>0</td>\n",
              "      <td>369</td>\n",
              "      <td>451</td>\n",
              "      <td>Download APK</td>\n",
              "      <td>500</td>\n",
              "      <td>0</td>\n",
              "    </tr>\n",
              "  </tbody>\n",
              "</table>\n",
              "</div>\n",
              "      <button class=\"colab-df-convert\" onclick=\"convertToInteractive('df-38001e28-f144-49c8-b42b-7982fb5533ac')\"\n",
              "              title=\"Convert this dataframe to an interactive table.\"\n",
              "              style=\"display:none;\">\n",
              "        \n",
              "  <svg xmlns=\"http://www.w3.org/2000/svg\" height=\"24px\"viewBox=\"0 0 24 24\"\n",
              "       width=\"24px\">\n",
              "    <path d=\"M0 0h24v24H0V0z\" fill=\"none\"/>\n",
              "    <path d=\"M18.56 5.44l.94 2.06.94-2.06 2.06-.94-2.06-.94-.94-2.06-.94 2.06-2.06.94zm-11 1L8.5 8.5l.94-2.06 2.06-.94-2.06-.94L8.5 2.5l-.94 2.06-2.06.94zm10 10l.94 2.06.94-2.06 2.06-.94-2.06-.94-.94-2.06-.94 2.06-2.06.94z\"/><path d=\"M17.41 7.96l-1.37-1.37c-.4-.4-.92-.59-1.43-.59-.52 0-1.04.2-1.43.59L10.3 9.45l-7.72 7.72c-.78.78-.78 2.05 0 2.83L4 21.41c.39.39.9.59 1.41.59.51 0 1.02-.2 1.41-.59l7.78-7.78 2.81-2.81c.8-.78.8-2.07 0-2.86zM5.41 20L4 18.59l7.72-7.72 1.47 1.35L5.41 20z\"/>\n",
              "  </svg>\n",
              "      </button>\n",
              "      \n",
              "  <style>\n",
              "    .colab-df-container {\n",
              "      display:flex;\n",
              "      flex-wrap:wrap;\n",
              "      gap: 12px;\n",
              "    }\n",
              "\n",
              "    .colab-df-convert {\n",
              "      background-color: #E8F0FE;\n",
              "      border: none;\n",
              "      border-radius: 50%;\n",
              "      cursor: pointer;\n",
              "      display: none;\n",
              "      fill: #1967D2;\n",
              "      height: 32px;\n",
              "      padding: 0 0 0 0;\n",
              "      width: 32px;\n",
              "    }\n",
              "\n",
              "    .colab-df-convert:hover {\n",
              "      background-color: #E2EBFA;\n",
              "      box-shadow: 0px 1px 2px rgba(60, 64, 67, 0.3), 0px 1px 3px 1px rgba(60, 64, 67, 0.15);\n",
              "      fill: #174EA6;\n",
              "    }\n",
              "\n",
              "    [theme=dark] .colab-df-convert {\n",
              "      background-color: #3B4455;\n",
              "      fill: #D2E3FC;\n",
              "    }\n",
              "\n",
              "    [theme=dark] .colab-df-convert:hover {\n",
              "      background-color: #434B5C;\n",
              "      box-shadow: 0px 1px 3px 1px rgba(0, 0, 0, 0.15);\n",
              "      filter: drop-shadow(0px 1px 2px rgba(0, 0, 0, 0.3));\n",
              "      fill: #FFFFFF;\n",
              "    }\n",
              "  </style>\n",
              "\n",
              "      <script>\n",
              "        const buttonEl =\n",
              "          document.querySelector('#df-38001e28-f144-49c8-b42b-7982fb5533ac button.colab-df-convert');\n",
              "        buttonEl.style.display =\n",
              "          google.colab.kernel.accessAllowed ? 'block' : 'none';\n",
              "\n",
              "        async function convertToInteractive(key) {\n",
              "          const element = document.querySelector('#df-38001e28-f144-49c8-b42b-7982fb5533ac');\n",
              "          const dataTable =\n",
              "            await google.colab.kernel.invokeFunction('convertToInteractive',\n",
              "                                                     [key], {});\n",
              "          if (!dataTable) return;\n",
              "\n",
              "          const docLinkHtml = 'Like what you see? Visit the ' +\n",
              "            '<a target=\"_blank\" href=https://colab.research.google.com/notebooks/data_table.ipynb>data table notebook</a>'\n",
              "            + ' to learn more about interactive tables.';\n",
              "          element.innerHTML = '';\n",
              "          dataTable['output_type'] = 'display_data';\n",
              "          await google.colab.output.renderOutput(dataTable, element);\n",
              "          const docLink = document.createElement('div');\n",
              "          docLink.innerHTML = docLinkHtml;\n",
              "          element.appendChild(docLink);\n",
              "        }\n",
              "      </script>\n",
              "    </div>\n",
              "  </div>\n",
              "  "
            ]
          },
          "metadata": {},
          "execution_count": 270
        }
      ]
    },
    {
      "cell_type": "code",
      "source": [
        "User_offer_completion_data.head(1)"
      ],
      "metadata": {
        "colab": {
          "base_uri": "https://localhost:8080/",
          "height": 81
        },
        "id": "BCgWindyqsEO",
        "outputId": "016dbbf1-d065-4887-aeb5-643891444fa3"
      },
      "execution_count": null,
      "outputs": [
        {
          "output_type": "execute_result",
          "data": {
            "text/plain": [
              "   Unnamed: 0  reward_id                               user_id       date  \\\n",
              "0           0       3712  4cb29e43-9f23-42fe-bab8-2422f42e7a91 2022-11-29   \n",
              "\n",
              "  app_id  \n",
              "0  sikka  "
            ],
            "text/html": [
              "\n",
              "  <div id=\"df-a57ba462-b9c6-4d6e-94ab-7a1b36b8410b\">\n",
              "    <div class=\"colab-df-container\">\n",
              "      <div>\n",
              "<style scoped>\n",
              "    .dataframe tbody tr th:only-of-type {\n",
              "        vertical-align: middle;\n",
              "    }\n",
              "\n",
              "    .dataframe tbody tr th {\n",
              "        vertical-align: top;\n",
              "    }\n",
              "\n",
              "    .dataframe thead th {\n",
              "        text-align: right;\n",
              "    }\n",
              "</style>\n",
              "<table border=\"1\" class=\"dataframe\">\n",
              "  <thead>\n",
              "    <tr style=\"text-align: right;\">\n",
              "      <th></th>\n",
              "      <th>Unnamed: 0</th>\n",
              "      <th>reward_id</th>\n",
              "      <th>user_id</th>\n",
              "      <th>date</th>\n",
              "      <th>app_id</th>\n",
              "    </tr>\n",
              "  </thead>\n",
              "  <tbody>\n",
              "    <tr>\n",
              "      <th>0</th>\n",
              "      <td>0</td>\n",
              "      <td>3712</td>\n",
              "      <td>4cb29e43-9f23-42fe-bab8-2422f42e7a91</td>\n",
              "      <td>2022-11-29</td>\n",
              "      <td>sikka</td>\n",
              "    </tr>\n",
              "  </tbody>\n",
              "</table>\n",
              "</div>\n",
              "      <button class=\"colab-df-convert\" onclick=\"convertToInteractive('df-a57ba462-b9c6-4d6e-94ab-7a1b36b8410b')\"\n",
              "              title=\"Convert this dataframe to an interactive table.\"\n",
              "              style=\"display:none;\">\n",
              "        \n",
              "  <svg xmlns=\"http://www.w3.org/2000/svg\" height=\"24px\"viewBox=\"0 0 24 24\"\n",
              "       width=\"24px\">\n",
              "    <path d=\"M0 0h24v24H0V0z\" fill=\"none\"/>\n",
              "    <path d=\"M18.56 5.44l.94 2.06.94-2.06 2.06-.94-2.06-.94-.94-2.06-.94 2.06-2.06.94zm-11 1L8.5 8.5l.94-2.06 2.06-.94-2.06-.94L8.5 2.5l-.94 2.06-2.06.94zm10 10l.94 2.06.94-2.06 2.06-.94-2.06-.94-.94-2.06-.94 2.06-2.06.94z\"/><path d=\"M17.41 7.96l-1.37-1.37c-.4-.4-.92-.59-1.43-.59-.52 0-1.04.2-1.43.59L10.3 9.45l-7.72 7.72c-.78.78-.78 2.05 0 2.83L4 21.41c.39.39.9.59 1.41.59.51 0 1.02-.2 1.41-.59l7.78-7.78 2.81-2.81c.8-.78.8-2.07 0-2.86zM5.41 20L4 18.59l7.72-7.72 1.47 1.35L5.41 20z\"/>\n",
              "  </svg>\n",
              "      </button>\n",
              "      \n",
              "  <style>\n",
              "    .colab-df-container {\n",
              "      display:flex;\n",
              "      flex-wrap:wrap;\n",
              "      gap: 12px;\n",
              "    }\n",
              "\n",
              "    .colab-df-convert {\n",
              "      background-color: #E8F0FE;\n",
              "      border: none;\n",
              "      border-radius: 50%;\n",
              "      cursor: pointer;\n",
              "      display: none;\n",
              "      fill: #1967D2;\n",
              "      height: 32px;\n",
              "      padding: 0 0 0 0;\n",
              "      width: 32px;\n",
              "    }\n",
              "\n",
              "    .colab-df-convert:hover {\n",
              "      background-color: #E2EBFA;\n",
              "      box-shadow: 0px 1px 2px rgba(60, 64, 67, 0.3), 0px 1px 3px 1px rgba(60, 64, 67, 0.15);\n",
              "      fill: #174EA6;\n",
              "    }\n",
              "\n",
              "    [theme=dark] .colab-df-convert {\n",
              "      background-color: #3B4455;\n",
              "      fill: #D2E3FC;\n",
              "    }\n",
              "\n",
              "    [theme=dark] .colab-df-convert:hover {\n",
              "      background-color: #434B5C;\n",
              "      box-shadow: 0px 1px 3px 1px rgba(0, 0, 0, 0.15);\n",
              "      filter: drop-shadow(0px 1px 2px rgba(0, 0, 0, 0.3));\n",
              "      fill: #FFFFFF;\n",
              "    }\n",
              "  </style>\n",
              "\n",
              "      <script>\n",
              "        const buttonEl =\n",
              "          document.querySelector('#df-a57ba462-b9c6-4d6e-94ab-7a1b36b8410b button.colab-df-convert');\n",
              "        buttonEl.style.display =\n",
              "          google.colab.kernel.accessAllowed ? 'block' : 'none';\n",
              "\n",
              "        async function convertToInteractive(key) {\n",
              "          const element = document.querySelector('#df-a57ba462-b9c6-4d6e-94ab-7a1b36b8410b');\n",
              "          const dataTable =\n",
              "            await google.colab.kernel.invokeFunction('convertToInteractive',\n",
              "                                                     [key], {});\n",
              "          if (!dataTable) return;\n",
              "\n",
              "          const docLinkHtml = 'Like what you see? Visit the ' +\n",
              "            '<a target=\"_blank\" href=https://colab.research.google.com/notebooks/data_table.ipynb>data table notebook</a>'\n",
              "            + ' to learn more about interactive tables.';\n",
              "          element.innerHTML = '';\n",
              "          dataTable['output_type'] = 'display_data';\n",
              "          await google.colab.output.renderOutput(dataTable, element);\n",
              "          const docLink = document.createElement('div');\n",
              "          docLink.innerHTML = docLinkHtml;\n",
              "          element.appendChild(docLink);\n",
              "        }\n",
              "      </script>\n",
              "    </div>\n",
              "  </div>\n",
              "  "
            ]
          },
          "metadata": {},
          "execution_count": 277
        }
      ]
    },
    {
      "cell_type": "code",
      "source": [
        "User_Signup_data.info()"
      ],
      "metadata": {
        "colab": {
          "base_uri": "https://localhost:8080/"
        },
        "id": "YTb_7-rzxAbm",
        "outputId": "920d0794-6fdd-4866-ebfd-305cdfd1e3e8"
      },
      "execution_count": null,
      "outputs": [
        {
          "output_type": "stream",
          "name": "stdout",
          "text": [
            "<class 'pandas.core.frame.DataFrame'>\n",
            "RangeIndex: 100 entries, 0 to 99\n",
            "Data columns (total 6 columns):\n",
            " #   Column           Non-Null Count  Dtype          \n",
            "---  ------           --------------  -----          \n",
            " 0   user_id          100 non-null    object         \n",
            " 1   app_id           100 non-null    object         \n",
            " 2   signed_up_on     100 non-null    datetime64[ns] \n",
            " 3   last_login_date  100 non-null    datetime64[ns] \n",
            " 4   days             100 non-null    timedelta64[ns]\n",
            " 5   num_days         100 non-null    int64          \n",
            "dtypes: datetime64[ns](2), int64(1), object(2), timedelta64[ns](1)\n",
            "memory usage: 4.8+ KB\n"
          ]
        }
      ]
    },
    {
      "cell_type": "code",
      "source": [
        "User_Signup_data['num_days'] = User_Signup_data['days'].dt.days.astype(int)"
      ],
      "metadata": {
        "id": "E9acK3LfyLSJ"
      },
      "execution_count": null,
      "outputs": []
    },
    {
      "cell_type": "code",
      "source": [
        "User_Signup_data.num_days.mean()"
      ],
      "metadata": {
        "colab": {
          "base_uri": "https://localhost:8080/"
        },
        "id": "qvVd5bS5qyjh",
        "outputId": "59176764-045c-468f-ba6e-39041ebd30e3"
      },
      "execution_count": null,
      "outputs": [
        {
          "output_type": "execute_result",
          "data": {
            "text/plain": [
              "1.18"
            ]
          },
          "metadata": {},
          "execution_count": 325
        }
      ]
    },
    {
      "cell_type": "code",
      "source": [
        "User_Signup_data['days'] = User_Signup_data['last_login_date'] - User_Signup_data['signed_up_on']"
      ],
      "metadata": {
        "id": "-afck7C0w0C2"
      },
      "execution_count": null,
      "outputs": []
    },
    {
      "cell_type": "code",
      "source": [
        "User_offer_completion_data.shape"
      ],
      "metadata": {
        "colab": {
          "base_uri": "https://localhost:8080/"
        },
        "id": "ML_OG21EpHPU",
        "outputId": "9adc0789-b4ad-4443-e9d5-f4e9693237ac"
      },
      "execution_count": null,
      "outputs": [
        {
          "output_type": "execute_result",
          "data": {
            "text/plain": [
              "(70, 5)"
            ]
          },
          "metadata": {},
          "execution_count": 274
        }
      ]
    },
    {
      "cell_type": "code",
      "source": [
        "User_Signup_data.head(1)"
      ],
      "metadata": {
        "id": "iunv7phvpDss",
        "colab": {
          "base_uri": "https://localhost:8080/",
          "height": 81
        },
        "outputId": "a035f05b-2c82-448b-fa04-73cf874dc4d2"
      },
      "execution_count": null,
      "outputs": [
        {
          "output_type": "execute_result",
          "data": {
            "text/plain": [
              "                                user_id app_id signed_up_on last_login_date\n",
              "0  c925ccad-98e7-4500-833e-a49aa066aeec  sikka   2022-11-26      2022-11-26"
            ],
            "text/html": [
              "\n",
              "  <div id=\"df-e4824e37-2919-4bae-9908-8f70bf2f5c64\">\n",
              "    <div class=\"colab-df-container\">\n",
              "      <div>\n",
              "<style scoped>\n",
              "    .dataframe tbody tr th:only-of-type {\n",
              "        vertical-align: middle;\n",
              "    }\n",
              "\n",
              "    .dataframe tbody tr th {\n",
              "        vertical-align: top;\n",
              "    }\n",
              "\n",
              "    .dataframe thead th {\n",
              "        text-align: right;\n",
              "    }\n",
              "</style>\n",
              "<table border=\"1\" class=\"dataframe\">\n",
              "  <thead>\n",
              "    <tr style=\"text-align: right;\">\n",
              "      <th></th>\n",
              "      <th>user_id</th>\n",
              "      <th>app_id</th>\n",
              "      <th>signed_up_on</th>\n",
              "      <th>last_login_date</th>\n",
              "    </tr>\n",
              "  </thead>\n",
              "  <tbody>\n",
              "    <tr>\n",
              "      <th>0</th>\n",
              "      <td>c925ccad-98e7-4500-833e-a49aa066aeec</td>\n",
              "      <td>sikka</td>\n",
              "      <td>2022-11-26</td>\n",
              "      <td>2022-11-26</td>\n",
              "    </tr>\n",
              "  </tbody>\n",
              "</table>\n",
              "</div>\n",
              "      <button class=\"colab-df-convert\" onclick=\"convertToInteractive('df-e4824e37-2919-4bae-9908-8f70bf2f5c64')\"\n",
              "              title=\"Convert this dataframe to an interactive table.\"\n",
              "              style=\"display:none;\">\n",
              "        \n",
              "  <svg xmlns=\"http://www.w3.org/2000/svg\" height=\"24px\"viewBox=\"0 0 24 24\"\n",
              "       width=\"24px\">\n",
              "    <path d=\"M0 0h24v24H0V0z\" fill=\"none\"/>\n",
              "    <path d=\"M18.56 5.44l.94 2.06.94-2.06 2.06-.94-2.06-.94-.94-2.06-.94 2.06-2.06.94zm-11 1L8.5 8.5l.94-2.06 2.06-.94-2.06-.94L8.5 2.5l-.94 2.06-2.06.94zm10 10l.94 2.06.94-2.06 2.06-.94-2.06-.94-.94-2.06-.94 2.06-2.06.94z\"/><path d=\"M17.41 7.96l-1.37-1.37c-.4-.4-.92-.59-1.43-.59-.52 0-1.04.2-1.43.59L10.3 9.45l-7.72 7.72c-.78.78-.78 2.05 0 2.83L4 21.41c.39.39.9.59 1.41.59.51 0 1.02-.2 1.41-.59l7.78-7.78 2.81-2.81c.8-.78.8-2.07 0-2.86zM5.41 20L4 18.59l7.72-7.72 1.47 1.35L5.41 20z\"/>\n",
              "  </svg>\n",
              "      </button>\n",
              "      \n",
              "  <style>\n",
              "    .colab-df-container {\n",
              "      display:flex;\n",
              "      flex-wrap:wrap;\n",
              "      gap: 12px;\n",
              "    }\n",
              "\n",
              "    .colab-df-convert {\n",
              "      background-color: #E8F0FE;\n",
              "      border: none;\n",
              "      border-radius: 50%;\n",
              "      cursor: pointer;\n",
              "      display: none;\n",
              "      fill: #1967D2;\n",
              "      height: 32px;\n",
              "      padding: 0 0 0 0;\n",
              "      width: 32px;\n",
              "    }\n",
              "\n",
              "    .colab-df-convert:hover {\n",
              "      background-color: #E2EBFA;\n",
              "      box-shadow: 0px 1px 2px rgba(60, 64, 67, 0.3), 0px 1px 3px 1px rgba(60, 64, 67, 0.15);\n",
              "      fill: #174EA6;\n",
              "    }\n",
              "\n",
              "    [theme=dark] .colab-df-convert {\n",
              "      background-color: #3B4455;\n",
              "      fill: #D2E3FC;\n",
              "    }\n",
              "\n",
              "    [theme=dark] .colab-df-convert:hover {\n",
              "      background-color: #434B5C;\n",
              "      box-shadow: 0px 1px 3px 1px rgba(0, 0, 0, 0.15);\n",
              "      filter: drop-shadow(0px 1px 2px rgba(0, 0, 0, 0.3));\n",
              "      fill: #FFFFFF;\n",
              "    }\n",
              "  </style>\n",
              "\n",
              "      <script>\n",
              "        const buttonEl =\n",
              "          document.querySelector('#df-e4824e37-2919-4bae-9908-8f70bf2f5c64 button.colab-df-convert');\n",
              "        buttonEl.style.display =\n",
              "          google.colab.kernel.accessAllowed ? 'block' : 'none';\n",
              "\n",
              "        async function convertToInteractive(key) {\n",
              "          const element = document.querySelector('#df-e4824e37-2919-4bae-9908-8f70bf2f5c64');\n",
              "          const dataTable =\n",
              "            await google.colab.kernel.invokeFunction('convertToInteractive',\n",
              "                                                     [key], {});\n",
              "          if (!dataTable) return;\n",
              "\n",
              "          const docLinkHtml = 'Like what you see? Visit the ' +\n",
              "            '<a target=\"_blank\" href=https://colab.research.google.com/notebooks/data_table.ipynb>data table notebook</a>'\n",
              "            + ' to learn more about interactive tables.';\n",
              "          element.innerHTML = '';\n",
              "          dataTable['output_type'] = 'display_data';\n",
              "          await google.colab.output.renderOutput(dataTable, element);\n",
              "          const docLink = document.createElement('div');\n",
              "          docLink.innerHTML = docLinkHtml;\n",
              "          element.appendChild(docLink);\n",
              "        }\n",
              "      </script>\n",
              "    </div>\n",
              "  </div>\n",
              "  "
            ]
          },
          "metadata": {},
          "execution_count": 271
        }
      ]
    },
    {
      "cell_type": "code",
      "source": [
        "A=[414,430,461,503,467,502,511,471,532,574,837,598,666,687,562]\n",
        "BSSG=[485,46,401,449,437,460,435,487,527,528,542,542,557,546,675]"
      ],
      "metadata": {
        "id": "FM89LG6P1SYW"
      },
      "execution_count": null,
      "outputs": []
    },
    {
      "cell_type": "code",
      "source": [
        "plt.plot(A)"
      ],
      "metadata": {
        "id": "FWk-vmuYpD30",
        "colab": {
          "base_uri": "https://localhost:8080/",
          "height": 447
        },
        "outputId": "f5c9aa4e-67b5-44a4-b963-24d2947ea7c7"
      },
      "execution_count": null,
      "outputs": [
        {
          "output_type": "execute_result",
          "data": {
            "text/plain": [
              "[<matplotlib.lines.Line2D at 0x7f0d0a1dd460>]"
            ]
          },
          "metadata": {},
          "execution_count": 328
        },
        {
          "output_type": "display_data",
          "data": {
            "text/plain": [
              "<Figure size 640x480 with 1 Axes>"
            ],
            "image/png": "[encoded data removed]"
          },
          "metadata": {}
        }
      ]
    },
    {
      "cell_type": "code",
      "source": [],
      "metadata": {
        "id": "yAI7m8RgpEAB"
      },
      "execution_count": null,
      "outputs": []
    },
    {
      "cell_type": "markdown",
      "metadata": {
        "id": "agiTfb7WLj_d"
      },
      "source": [
        "# 3.Predicting the number of referrals for the first 15 days of November"
      ]
    },
    {
      "cell_type": "code",
      "execution_count": 478,
      "metadata": {
        "id": "yalTmnTCzoXO"
      },
      "outputs": [],
      "source": [
        "#Read the dataset\n",
        "sikka_data = pd.read_csv(\"https://raw.githubusercontent.com/RAHULRAJ666DX/Gsm/main/Q3_Sikka%20data.csv\")"
      ]
    },
    {
      "cell_type": "code",
      "source": [
        "sikka_data.shape"
      ],
      "metadata": {
        "colab": {
          "base_uri": "https://localhost:8080/"
        },
        "id": "y_Be1TDDFcpl",
        "outputId": "43ea359a-75b3-4f0b-cbb5-a9034eebeec7"
      },
      "execution_count": 479,
      "outputs": [
        {
          "output_type": "execute_result",
          "data": {
            "text/plain": [
              "(46, 6)"
            ]
          },
          "metadata": {},
          "execution_count": 479
        }
      ]
    },
    {
      "cell_type": "code",
      "execution_count": 480,
      "metadata": {
        "colab": {
          "base_uri": "https://localhost:8080/",
          "height": 206
        },
        "outputId": "e260e0d3-cde1-444e-a63e-275f72839079",
        "id": "swZ-b13V8l57"
      },
      "outputs": [
        {
          "output_type": "execute_result",
          "data": {
            "text/plain": [
              "         Date    DAU  Installs  Uninstalls  Signups  Referrals\n",
              "0  2022-10-01  24071      6630        6994     3511      962.0\n",
              "1  2022-10-02  23548      6366        6669     3387      941.0\n",
              "2  2022-10-03  24572      6936        6899     3654      940.0\n",
              "3  2022-10-04  24212      6561        6766     3532      960.0\n",
              "4  2022-10-05  23247      6059        6402     3315      923.0"
            ],
            "text/html": [
              "\n",
              "  <div id=\"df-28c460b6-0a56-4333-8607-ff448fd72f8e\">\n",
              "    <div class=\"colab-df-container\">\n",
              "      <div>\n",
              "<style scoped>\n",
              "    .dataframe tbody tr th:only-of-type {\n",
              "        vertical-align: middle;\n",
              "    }\n",
              "\n",
              "    .dataframe tbody tr th {\n",
              "        vertical-align: top;\n",
              "    }\n",
              "\n",
              "    .dataframe thead th {\n",
              "        text-align: right;\n",
              "    }\n",
              "</style>\n",
              "<table border=\"1\" class=\"dataframe\">\n",
              "  <thead>\n",
              "    <tr style=\"text-align: right;\">\n",
              "      <th></th>\n",
              "      <th>Date</th>\n",
              "      <th>DAU</th>\n",
              "      <th>Installs</th>\n",
              "      <th>Uninstalls</th>\n",
              "      <th>Signups</th>\n",
              "      <th>Referrals</th>\n",
              "    </tr>\n",
              "  </thead>\n",
              "  <tbody>\n",
              "    <tr>\n",
              "      <th>0</th>\n",
              "      <td>2022-10-01</td>\n",
              "      <td>24071</td>\n",
              "      <td>6630</td>\n",
              "      <td>6994</td>\n",
              "      <td>3511</td>\n",
              "      <td>962.0</td>\n",
              "    </tr>\n",
              "    <tr>\n",
              "      <th>1</th>\n",
              "      <td>2022-10-02</td>\n",
              "      <td>23548</td>\n",
              "      <td>6366</td>\n",
              "      <td>6669</td>\n",
              "      <td>3387</td>\n",
              "      <td>941.0</td>\n",
              "    </tr>\n",
              "    <tr>\n",
              "      <th>2</th>\n",
              "      <td>2022-10-03</td>\n",
              "      <td>24572</td>\n",
              "      <td>6936</td>\n",
              "      <td>6899</td>\n",
              "      <td>3654</td>\n",
              "      <td>940.0</td>\n",
              "    </tr>\n",
              "    <tr>\n",
              "      <th>3</th>\n",
              "      <td>2022-10-04</td>\n",
              "      <td>24212</td>\n",
              "      <td>6561</td>\n",
              "      <td>6766</td>\n",
              "      <td>3532</td>\n",
              "      <td>960.0</td>\n",
              "    </tr>\n",
              "    <tr>\n",
              "      <th>4</th>\n",
              "      <td>2022-10-05</td>\n",
              "      <td>23247</td>\n",
              "      <td>6059</td>\n",
              "      <td>6402</td>\n",
              "      <td>3315</td>\n",
              "      <td>923.0</td>\n",
              "    </tr>\n",
              "  </tbody>\n",
              "</table>\n",
              "</div>\n",
              "      <button class=\"colab-df-convert\" onclick=\"convertToInteractive('df-28c460b6-0a56-4333-8607-ff448fd72f8e')\"\n",
              "              title=\"Convert this dataframe to an interactive table.\"\n",
              "              style=\"display:none;\">\n",
              "        \n",
              "  <svg xmlns=\"http://www.w3.org/2000/svg\" height=\"24px\"viewBox=\"0 0 24 24\"\n",
              "       width=\"24px\">\n",
              "    <path d=\"M0 0h24v24H0V0z\" fill=\"none\"/>\n",
              "    <path d=\"M18.56 5.44l.94 2.06.94-2.06 2.06-.94-2.06-.94-.94-2.06-.94 2.06-2.06.94zm-11 1L8.5 8.5l.94-2.06 2.06-.94-2.06-.94L8.5 2.5l-.94 2.06-2.06.94zm10 10l.94 2.06.94-2.06 2.06-.94-2.06-.94-.94-2.06-.94 2.06-2.06.94z\"/><path d=\"M17.41 7.96l-1.37-1.37c-.4-.4-.92-.59-1.43-.59-.52 0-1.04.2-1.43.59L10.3 9.45l-7.72 7.72c-.78.78-.78 2.05 0 2.83L4 21.41c.39.39.9.59 1.41.59.51 0 1.02-.2 1.41-.59l7.78-7.78 2.81-2.81c.8-.78.8-2.07 0-2.86zM5.41 20L4 18.59l7.72-7.72 1.47 1.35L5.41 20z\"/>\n",
              "  </svg>\n",
              "      </button>\n",
              "      \n",
              "  <style>\n",
              "    .colab-df-container {\n",
              "      display:flex;\n",
              "      flex-wrap:wrap;\n",
              "      gap: 12px;\n",
              "    }\n",
              "\n",
              "    .colab-df-convert {\n",
              "      background-color: #E8F0FE;\n",
              "      border: none;\n",
              "      border-radius: 50%;\n",
              "      cursor: pointer;\n",
              "      display: none;\n",
              "      fill: #1967D2;\n",
              "      height: 32px;\n",
              "      padding: 0 0 0 0;\n",
              "      width: 32px;\n",
              "    }\n",
              "\n",
              "    .colab-df-convert:hover {\n",
              "      background-color: #E2EBFA;\n",
              "      box-shadow: 0px 1px 2px rgba(60, 64, 67, 0.3), 0px 1px 3px 1px rgba(60, 64, 67, 0.15);\n",
              "      fill: #174EA6;\n",
              "    }\n",
              "\n",
              "    [theme=dark] .colab-df-convert {\n",
              "      background-color: #3B4455;\n",
              "      fill: #D2E3FC;\n",
              "    }\n",
              "\n",
              "    [theme=dark] .colab-df-convert:hover {\n",
              "      background-color: #434B5C;\n",
              "      box-shadow: 0px 1px 3px 1px rgba(0, 0, 0, 0.15);\n",
              "      filter: drop-shadow(0px 1px 2px rgba(0, 0, 0, 0.3));\n",
              "      fill: #FFFFFF;\n",
              "    }\n",
              "  </style>\n",
              "\n",
              "      <script>\n",
              "        const buttonEl =\n",
              "          document.querySelector('#df-28c460b6-0a56-4333-8607-ff448fd72f8e button.colab-df-convert');\n",
              "        buttonEl.style.display =\n",
              "          google.colab.kernel.accessAllowed ? 'block' : 'none';\n",
              "\n",
              "        async function convertToInteractive(key) {\n",
              "          const element = document.querySelector('#df-28c460b6-0a56-4333-8607-ff448fd72f8e');\n",
              "          const dataTable =\n",
              "            await google.colab.kernel.invokeFunction('convertToInteractive',\n",
              "                                                     [key], {});\n",
              "          if (!dataTable) return;\n",
              "\n",
              "          const docLinkHtml = 'Like what you see? Visit the ' +\n",
              "            '<a target=\"_blank\" href=https://colab.research.google.com/notebooks/data_table.ipynb>data table notebook</a>'\n",
              "            + ' to learn more about interactive tables.';\n",
              "          element.innerHTML = '';\n",
              "          dataTable['output_type'] = 'display_data';\n",
              "          await google.colab.output.renderOutput(dataTable, element);\n",
              "          const docLink = document.createElement('div');\n",
              "          docLink.innerHTML = docLinkHtml;\n",
              "          element.appendChild(docLink);\n",
              "        }\n",
              "      </script>\n",
              "    </div>\n",
              "  </div>\n",
              "  "
            ]
          },
          "metadata": {},
          "execution_count": 480
        }
      ],
      "source": [
        "#Top five rows\n",
        "sikka_data.head()"
      ]
    },
    {
      "cell_type": "code",
      "execution_count": 481,
      "metadata": {
        "id": "-OnaGeJLO6Sm"
      },
      "outputs": [],
      "source": [
        "#converting into datetime type\n",
        "sikka_data['Date'] = pd.to_datetime(sikka_data['Date']).dt.date"
      ]
    },
    {
      "cell_type": "code",
      "execution_count": 482,
      "metadata": {
        "id": "wA2AjoXS8l57"
      },
      "outputs": [],
      "source": [
        "# Create lagged variables for Referrals, Installs, Uninstalls, Signups, and DAU\n",
        "sikka_data['Referrals_lag1'] = sikka_data['Referrals'].shift(1)\n",
        "sikka_data['Referrals_lag2'] = sikka_data['Referrals'].shift(2)\n",
        "sikka_data['Referrals_lag3'] = sikka_data['Referrals'].shift(3)\n",
        "\n",
        "sikka_data['Installs_lag1'] = sikka_data['Installs'].shift(1)\n",
        "sikka_data['Installs_lag2'] = sikka_data['Installs'].shift(2)\n",
        "sikka_data['Installs_lag3'] = sikka_data['Installs'].shift(3)\n",
        "\n",
        "sikka_data['Uninstalls_lag1'] = sikka_data['Uninstalls'].shift(1)\n",
        "sikka_data['Uninstalls_lag2'] = sikka_data['Uninstalls'].shift(2)\n",
        "sikka_data['Uninstalls_lag3'] = sikka_data['Uninstalls'].shift(3)\n",
        "\n",
        "sikka_data['Signups_lag1'] = sikka_data['Signups'].shift(1)\n",
        "sikka_data['Signups_lag2'] = sikka_data['Signups'].shift(2)\n",
        "sikka_data['Signups_lag3'] = sikka_data['Signups'].shift(3)\n",
        "\n",
        "sikka_data['DAU_lag1'] = sikka_data['DAU'].shift(1)\n",
        "sikka_data['DAU_lag2'] = sikka_data['DAU'].shift(2)\n",
        "sikka_data['DAU_lag3'] = sikka_data['DAU'].shift(3)\n",
        "\n"
      ]
    },
    {
      "cell_type": "code",
      "execution_count": null,
      "metadata": {
        "colab": {
          "base_uri": "https://localhost:8080/",
          "height": 386
        },
        "outputId": "bec65a96-78a1-4933-ed7b-8368fb3caddb",
        "id": "InzpZ2le8l58"
      },
      "outputs": [
        {
          "output_type": "execute_result",
          "data": {
            "text/plain": [
              "         Date    DAU  Installs  Uninstalls  Signups  Referrals  \\\n",
              "0  2022-10-01  24071      6630        6994     3511      962.0   \n",
              "1  2022-10-02  23548      6366        6669     3387      941.0   \n",
              "2  2022-10-03  24572      6936        6899     3654      940.0   \n",
              "3  2022-10-04  24212      6561        6766     3532      960.0   \n",
              "4  2022-10-05  23247      6059        6402     3315      923.0   \n",
              "\n",
              "   Referrals_lag1  Referrals_lag2  Referrals_lag3  Installs_lag1  ...  \\\n",
              "0             NaN             NaN             NaN            NaN  ...   \n",
              "1           962.0             NaN             NaN         6630.0  ...   \n",
              "2           941.0           962.0             NaN         6366.0  ...   \n",
              "3           940.0           941.0           962.0         6936.0  ...   \n",
              "4           960.0           940.0           941.0         6561.0  ...   \n",
              "\n",
              "   Installs_lag3  Uninstalls_lag1  Uninstalls_lag2  Uninstalls_lag3  \\\n",
              "0            NaN              NaN              NaN              NaN   \n",
              "1            NaN           6994.0              NaN              NaN   \n",
              "2            NaN           6669.0           6994.0              NaN   \n",
              "3         6630.0           6899.0           6669.0           6994.0   \n",
              "4         6366.0           6766.0           6899.0           6669.0   \n",
              "\n",
              "   Signups_lag1  Signups_lag2  Signups_lag3  DAU_lag1  DAU_lag2  DAU_lag3  \n",
              "0           NaN           NaN           NaN       NaN       NaN       NaN  \n",
              "1        3511.0           NaN           NaN   24071.0       NaN       NaN  \n",
              "2        3387.0        3511.0           NaN   23548.0   24071.0       NaN  \n",
              "3        3654.0        3387.0        3511.0   24572.0   23548.0   24071.0  \n",
              "4        3532.0        3654.0        3387.0   24212.0   24572.0   23548.0  \n",
              "\n",
              "[5 rows x 21 columns]"
            ],
            "text/html": [
              "\n",
              "  <div id=\"df-f92ace2c-7faa-4bd7-81a6-fd6f24ccb346\">\n",
              "    <div class=\"colab-df-container\">\n",
              "      <div>\n",
              "<style scoped>\n",
              "    .dataframe tbody tr th:only-of-type {\n",
              "        vertical-align: middle;\n",
              "    }\n",
              "\n",
              "    .dataframe tbody tr th {\n",
              "        vertical-align: top;\n",
              "    }\n",
              "\n",
              "    .dataframe thead th {\n",
              "        text-align: right;\n",
              "    }\n",
              "</style>\n",
              "<table border=\"1\" class=\"dataframe\">\n",
              "  <thead>\n",
              "    <tr style=\"text-align: right;\">\n",
              "      <th></th>\n",
              "      <th>Date</th>\n",
              "      <th>DAU</th>\n",
              "      <th>Installs</th>\n",
              "      <th>Uninstalls</th>\n",
              "      <th>Signups</th>\n",
              "      <th>Referrals</th>\n",
              "      <th>Referrals_lag1</th>\n",
              "      <th>Referrals_lag2</th>\n",
              "      <th>Referrals_lag3</th>\n",
              "      <th>Installs_lag1</th>\n",
              "      <th>...</th>\n",
              "      <th>Installs_lag3</th>\n",
              "      <th>Uninstalls_lag1</th>\n",
              "      <th>Uninstalls_lag2</th>\n",
              "      <th>Uninstalls_lag3</th>\n",
              "      <th>Signups_lag1</th>\n",
              "      <th>Signups_lag2</th>\n",
              "      <th>Signups_lag3</th>\n",
              "      <th>DAU_lag1</th>\n",
              "      <th>DAU_lag2</th>\n",
              "      <th>DAU_lag3</th>\n",
              "    </tr>\n",
              "  </thead>\n",
              "  <tbody>\n",
              "    <tr>\n",
              "      <th>0</th>\n",
              "      <td>2022-10-01</td>\n",
              "      <td>24071</td>\n",
              "      <td>6630</td>\n",
              "      <td>6994</td>\n",
              "      <td>3511</td>\n",
              "      <td>962.0</td>\n",
              "      <td>NaN</td>\n",
              "      <td>NaN</td>\n",
              "      <td>NaN</td>\n",
              "      <td>NaN</td>\n",
              "      <td>...</td>\n",
              "      <td>NaN</td>\n",
              "      <td>NaN</td>\n",
              "      <td>NaN</td>\n",
              "      <td>NaN</td>\n",
              "      <td>NaN</td>\n",
              "      <td>NaN</td>\n",
              "      <td>NaN</td>\n",
              "      <td>NaN</td>\n",
              "      <td>NaN</td>\n",
              "      <td>NaN</td>\n",
              "    </tr>\n",
              "    <tr>\n",
              "      <th>1</th>\n",
              "      <td>2022-10-02</td>\n",
              "      <td>23548</td>\n",
              "      <td>6366</td>\n",
              "      <td>6669</td>\n",
              "      <td>3387</td>\n",
              "      <td>941.0</td>\n",
              "      <td>962.0</td>\n",
              "      <td>NaN</td>\n",
              "      <td>NaN</td>\n",
              "      <td>6630.0</td>\n",
              "      <td>...</td>\n",
              "      <td>NaN</td>\n",
              "      <td>6994.0</td>\n",
              "      <td>NaN</td>\n",
              "      <td>NaN</td>\n",
              "      <td>3511.0</td>\n",
              "      <td>NaN</td>\n",
              "      <td>NaN</td>\n",
              "      <td>24071.0</td>\n",
              "      <td>NaN</td>\n",
              "      <td>NaN</td>\n",
              "    </tr>\n",
              "    <tr>\n",
              "      <th>2</th>\n",
              "      <td>2022-10-03</td>\n",
              "      <td>24572</td>\n",
              "      <td>6936</td>\n",
              "      <td>6899</td>\n",
              "      <td>3654</td>\n",
              "      <td>940.0</td>\n",
              "      <td>941.0</td>\n",
              "      <td>962.0</td>\n",
              "      <td>NaN</td>\n",
              "      <td>6366.0</td>\n",
              "      <td>...</td>\n",
              "      <td>NaN</td>\n",
              "      <td>6669.0</td>\n",
              "      <td>6994.0</td>\n",
              "      <td>NaN</td>\n",
              "      <td>3387.0</td>\n",
              "      <td>3511.0</td>\n",
              "      <td>NaN</td>\n",
              "      <td>23548.0</td>\n",
              "      <td>24071.0</td>\n",
              "      <td>NaN</td>\n",
              "    </tr>\n",
              "    <tr>\n",
              "      <th>3</th>\n",
              "      <td>2022-10-04</td>\n",
              "      <td>24212</td>\n",
              "      <td>6561</td>\n",
              "      <td>6766</td>\n",
              "      <td>3532</td>\n",
              "      <td>960.0</td>\n",
              "      <td>940.0</td>\n",
              "      <td>941.0</td>\n",
              "      <td>962.0</td>\n",
              "      <td>6936.0</td>\n",
              "      <td>...</td>\n",
              "      <td>6630.0</td>\n",
              "      <td>6899.0</td>\n",
              "      <td>6669.0</td>\n",
              "      <td>6994.0</td>\n",
              "      <td>3654.0</td>\n",
              "      <td>3387.0</td>\n",
              "      <td>3511.0</td>\n",
              "      <td>24572.0</td>\n",
              "      <td>23548.0</td>\n",
              "      <td>24071.0</td>\n",
              "    </tr>\n",
              "    <tr>\n",
              "      <th>4</th>\n",
              "      <td>2022-10-05</td>\n",
              "      <td>23247</td>\n",
              "      <td>6059</td>\n",
              "      <td>6402</td>\n",
              "      <td>3315</td>\n",
              "      <td>923.0</td>\n",
              "      <td>960.0</td>\n",
              "      <td>940.0</td>\n",
              "      <td>941.0</td>\n",
              "      <td>6561.0</td>\n",
              "      <td>...</td>\n",
              "      <td>6366.0</td>\n",
              "      <td>6766.0</td>\n",
              "      <td>6899.0</td>\n",
              "      <td>6669.0</td>\n",
              "      <td>3532.0</td>\n",
              "      <td>3654.0</td>\n",
              "      <td>3387.0</td>\n",
              "      <td>24212.0</td>\n",
              "      <td>24572.0</td>\n",
              "      <td>23548.0</td>\n",
              "    </tr>\n",
              "  </tbody>\n",
              "</table>\n",
              "<p>5 rows × 21 columns</p>\n",
              "</div>\n",
              "      <button class=\"colab-df-convert\" onclick=\"convertToInteractive('df-f92ace2c-7faa-4bd7-81a6-fd6f24ccb346')\"\n",
              "              title=\"Convert this dataframe to an interactive table.\"\n",
              "              style=\"display:none;\">\n",
              "        \n",
              "  <svg xmlns=\"http://www.w3.org/2000/svg\" height=\"24px\"viewBox=\"0 0 24 24\"\n",
              "       width=\"24px\">\n",
              "    <path d=\"M0 0h24v24H0V0z\" fill=\"none\"/>\n",
              "    <path d=\"M18.56 5.44l.94 2.06.94-2.06 2.06-.94-2.06-.94-.94-2.06-.94 2.06-2.06.94zm-11 1L8.5 8.5l.94-2.06 2.06-.94-2.06-.94L8.5 2.5l-.94 2.06-2.06.94zm10 10l.94 2.06.94-2.06 2.06-.94-2.06-.94-.94-2.06-.94 2.06-2.06.94z\"/><path d=\"M17.41 7.96l-1.37-1.37c-.4-.4-.92-.59-1.43-.59-.52 0-1.04.2-1.43.59L10.3 9.45l-7.72 7.72c-.78.78-.78 2.05 0 2.83L4 21.41c.39.39.9.59 1.41.59.51 0 1.02-.2 1.41-.59l7.78-7.78 2.81-2.81c.8-.78.8-2.07 0-2.86zM5.41 20L4 18.59l7.72-7.72 1.47 1.35L5.41 20z\"/>\n",
              "  </svg>\n",
              "      </button>\n",
              "      \n",
              "  <style>\n",
              "    .colab-df-container {\n",
              "      display:flex;\n",
              "      flex-wrap:wrap;\n",
              "      gap: 12px;\n",
              "    }\n",
              "\n",
              "    .colab-df-convert {\n",
              "      background-color: #E8F0FE;\n",
              "      border: none;\n",
              "      border-radius: 50%;\n",
              "      cursor: pointer;\n",
              "      display: none;\n",
              "      fill: #1967D2;\n",
              "      height: 32px;\n",
              "      padding: 0 0 0 0;\n",
              "      width: 32px;\n",
              "    }\n",
              "\n",
              "    .colab-df-convert:hover {\n",
              "      background-color: #E2EBFA;\n",
              "      box-shadow: 0px 1px 2px rgba(60, 64, 67, 0.3), 0px 1px 3px 1px rgba(60, 64, 67, 0.15);\n",
              "      fill: #174EA6;\n",
              "    }\n",
              "\n",
              "    [theme=dark] .colab-df-convert {\n",
              "      background-color: #3B4455;\n",
              "      fill: #D2E3FC;\n",
              "    }\n",
              "\n",
              "    [theme=dark] .colab-df-convert:hover {\n",
              "      background-color: #434B5C;\n",
              "      box-shadow: 0px 1px 3px 1px rgba(0, 0, 0, 0.15);\n",
              "      filter: drop-shadow(0px 1px 2px rgba(0, 0, 0, 0.3));\n",
              "      fill: #FFFFFF;\n",
              "    }\n",
              "  </style>\n",
              "\n",
              "      <script>\n",
              "        const buttonEl =\n",
              "          document.querySelector('#df-f92ace2c-7faa-4bd7-81a6-fd6f24ccb346 button.colab-df-convert');\n",
              "        buttonEl.style.display =\n",
              "          google.colab.kernel.accessAllowed ? 'block' : 'none';\n",
              "\n",
              "        async function convertToInteractive(key) {\n",
              "          const element = document.querySelector('#df-f92ace2c-7faa-4bd7-81a6-fd6f24ccb346');\n",
              "          const dataTable =\n",
              "            await google.colab.kernel.invokeFunction('convertToInteractive',\n",
              "                                                     [key], {});\n",
              "          if (!dataTable) return;\n",
              "\n",
              "          const docLinkHtml = 'Like what you see? Visit the ' +\n",
              "            '<a target=\"_blank\" href=https://colab.research.google.com/notebooks/data_table.ipynb>data table notebook</a>'\n",
              "            + ' to learn more about interactive tables.';\n",
              "          element.innerHTML = '';\n",
              "          dataTable['output_type'] = 'display_data';\n",
              "          await google.colab.output.renderOutput(dataTable, element);\n",
              "          const docLink = document.createElement('div');\n",
              "          docLink.innerHTML = docLinkHtml;\n",
              "          element.appendChild(docLink);\n",
              "        }\n",
              "      </script>\n",
              "    </div>\n",
              "  </div>\n",
              "  "
            ]
          },
          "metadata": {},
          "execution_count": 410
        }
      ],
      "source": [
        "#Top five rows\n",
        "sikka_data.head()"
      ]
    },
    {
      "cell_type": "code",
      "execution_count": null,
      "metadata": {
        "id": "_TgEpc1P8l58"
      },
      "outputs": [],
      "source": [
        "#Dropping rows with null values\n",
        "sikka_data.drop(sikka_data.index[:3], inplace=True)"
      ]
    },
    {
      "cell_type": "code",
      "source": [
        "sikka_data.shape"
      ],
      "metadata": {
        "colab": {
          "base_uri": "https://localhost:8080/"
        },
        "id": "xTRyke7yFXxH",
        "outputId": "d8594ff3-a39f-4857-8e69-2531b8668ba1"
      },
      "execution_count": 477,
      "outputs": [
        {
          "output_type": "execute_result",
          "data": {
            "text/plain": [
              "(43, 21)"
            ]
          },
          "metadata": {},
          "execution_count": 477
        }
      ]
    },
    {
      "cell_type": "code",
      "execution_count": 474,
      "metadata": {
        "id": "n4PaXGcF8l58"
      },
      "outputs": [],
      "source": [
        "# separate the input features (lagged data) and the output (referrals)\n",
        "X = sikka_data[['DAU_lag1', 'DAU_lag2', 'DAU_lag3', 'Installs_lag1', 'Installs_lag2', 'Installs_lag3',\n",
        "        'Uninstalls_lag1', 'Uninstalls_lag2', 'Uninstalls_lag3', 'Signups_lag1', 'Signups_lag2',\n",
        "        'Signups_lag3']]\n",
        "y = sikka_data['Referrals']"
      ]
    },
    {
      "cell_type": "code",
      "execution_count": 447,
      "metadata": {
        "id": "wMNlVlqVTVzu"
      },
      "outputs": [],
      "source": [
        "#Train-test split\n",
        "X_train = X.iloc[:-15, 1:-1]\n",
        "y_train = y.iloc[:-15]\n",
        "X_test = X.iloc[-15:, 1:-1]\n",
        "y_test = y.iloc[-15:]"
      ]
    },
    {
      "cell_type": "code",
      "execution_count": 484,
      "metadata": {
        "id": "Cxu9agu9_kJY",
        "outputId": "08534b44-ec96-412d-9122-39c4ea30573f",
        "colab": {
          "base_uri": "https://localhost:8080/",
          "height": 248
        }
      },
      "outputs": [
        {
          "output_type": "execute_result",
          "data": {
            "text/plain": [
              "XGBRegressor(base_score=None, booster=None, callbacks=None,\n",
              "             colsample_bylevel=None, colsample_bynode=None,\n",
              "             colsample_bytree=None, early_stopping_rounds=None,\n",
              "             enable_categorical=False, eval_metric=None, feature_types=None,\n",
              "             gamma=None, gpu_id=None, grow_policy=None, importance_type=None,\n",
              "             interaction_constraints=None, learning_rate=None, max_bin=None,\n",
              "             max_cat_threshold=None, max_cat_to_onehot=None,\n",
              "             max_delta_step=None, max_depth=None, max_leaves=None,\n",
              "             min_child_weight=None, missing=nan, monotone_constraints=None,\n",
              "             n_estimators=100, n_jobs=None, num_parallel_tree=None,\n",
              "             predictor=None, random_state=None, ...)"
            ],
            "text/html": [
              "<style>#sk-container-id-9 {color: black;background-color: white;}#sk-container-id-9 pre{padding: 0;}#sk-container-id-9 div.sk-toggleable {background-color: white;}#sk-container-id-9 label.sk-toggleable__label {cursor: pointer;display: block;width: 100%;margin-bottom: 0;padding: 0.3em;box-sizing: border-box;text-align: center;}#sk-container-id-9 label.sk-toggleable__label-arrow:before {content: \"▸\";float: left;margin-right: 0.25em;color: #696969;}#sk-container-id-9 label.sk-toggleable__label-arrow:hover:before {color: black;}#sk-container-id-9 div.sk-estimator:hover label.sk-toggleable__label-arrow:before {color: black;}#sk-container-id-9 div.sk-toggleable__content {max-height: 0;max-width: 0;overflow: hidden;text-align: left;background-color: #f0f8ff;}#sk-container-id-9 div.sk-toggleable__content pre {margin: 0.2em;color: black;border-radius: 0.25em;background-color: #f0f8ff;}#sk-container-id-9 input.sk-toggleable__control:checked~div.sk-toggleable__content {max-height: 200px;max-width: 100%;overflow: auto;}#sk-container-id-9 input.sk-toggleable__control:checked~label.sk-toggleable__label-arrow:before {content: \"▾\";}#sk-container-id-9 div.sk-estimator input.sk-toggleable__control:checked~label.sk-toggleable__label {background-color: #d4ebff;}#sk-container-id-9 div.sk-label input.sk-toggleable__control:checked~label.sk-toggleable__label {background-color: #d4ebff;}#sk-container-id-9 input.sk-hidden--visually {border: 0;clip: rect(1px 1px 1px 1px);clip: rect(1px, 1px, 1px, 1px);height: 1px;margin: -1px;overflow: hidden;padding: 0;position: absolute;width: 1px;}#sk-container-id-9 div.sk-estimator {font-family: monospace;background-color: #f0f8ff;border: 1px dotted black;border-radius: 0.25em;box-sizing: border-box;margin-bottom: 0.5em;}#sk-container-id-9 div.sk-estimator:hover {background-color: #d4ebff;}#sk-container-id-9 div.sk-parallel-item::after {content: \"\";width: 100%;border-bottom: 1px solid gray;flex-grow: 1;}#sk-container-id-9 div.sk-label:hover label.sk-toggleable__label {background-color: #d4ebff;}#sk-container-id-9 div.sk-serial::before {content: \"\";position: absolute;border-left: 1px solid gray;box-sizing: border-box;top: 0;bottom: 0;left: 50%;z-index: 0;}#sk-container-id-9 div.sk-serial {display: flex;flex-direction: column;align-items: center;background-color: white;padding-right: 0.2em;padding-left: 0.2em;position: relative;}#sk-container-id-9 div.sk-item {position: relative;z-index: 1;}#sk-container-id-9 div.sk-parallel {display: flex;align-items: stretch;justify-content: center;background-color: white;position: relative;}#sk-container-id-9 div.sk-item::before, #sk-container-id-9 div.sk-parallel-item::before {content: \"\";position: absolute;border-left: 1px solid gray;box-sizing: border-box;top: 0;bottom: 0;left: 50%;z-index: -1;}#sk-container-id-9 div.sk-parallel-item {display: flex;flex-direction: column;z-index: 1;position: relative;background-color: white;}#sk-container-id-9 div.sk-parallel-item:first-child::after {align-self: flex-end;width: 50%;}#sk-container-id-9 div.sk-parallel-item:last-child::after {align-self: flex-start;width: 50%;}#sk-container-id-9 div.sk-parallel-item:only-child::after {width: 0;}#sk-container-id-9 div.sk-dashed-wrapped {border: 1px dashed gray;margin: 0 0.4em 0.5em 0.4em;box-sizing: border-box;padding-bottom: 0.4em;background-color: white;}#sk-container-id-9 div.sk-label label {font-family: monospace;font-weight: bold;display: inline-block;line-height: 1.2em;}#sk-container-id-9 div.sk-label-container {text-align: center;}#sk-container-id-9 div.sk-container {/* jupyter's `normalize.less` sets `[hidden] { display: none; }` but bootstrap.min.css set `[hidden] { display: none !important; }` so we also need the `!important` here to be able to override the default hidden behavior on the sphinx rendered scikit-learn.org. See: https://github.com/scikit-learn/scikit-learn/issues/21755 */display: inline-block !important;position: relative;}#sk-container-id-9 div.sk-text-repr-fallback {display: none;}</style><div id=\"sk-container-id-9\" class=\"sk-top-container\"><div class=\"sk-text-repr-fallback\"><pre>XGBRegressor(base_score=None, booster=None, callbacks=None,\n",
              "             colsample_bylevel=None, colsample_bynode=None,\n",
              "             colsample_bytree=None, early_stopping_rounds=None,\n",
              "             enable_categorical=False, eval_metric=None, feature_types=None,\n",
              "             gamma=None, gpu_id=None, grow_policy=None, importance_type=None,\n",
              "             interaction_constraints=None, learning_rate=None, max_bin=None,\n",
              "             max_cat_threshold=None, max_cat_to_onehot=None,\n",
              "             max_delta_step=None, max_depth=None, max_leaves=None,\n",
              "             min_child_weight=None, missing=nan, monotone_constraints=None,\n",
              "             n_estimators=100, n_jobs=None, num_parallel_tree=None,\n",
              "             predictor=None, random_state=None, ...)</pre><b>In a Jupyter environment, please rerun this cell to show the HTML representation or trust the notebook. <br />On GitHub, the HTML representation is unable to render, please try loading this page with nbviewer.org.</b></div><div class=\"sk-container\" hidden><div class=\"sk-item\"><div class=\"sk-estimator sk-toggleable\"><input class=\"sk-toggleable__control sk-hidden--visually\" id=\"sk-estimator-id-9\" type=\"checkbox\" checked><label for=\"sk-estimator-id-9\" class=\"sk-toggleable__label sk-toggleable__label-arrow\">XGBRegressor</label><div class=\"sk-toggleable__content\"><pre>XGBRegressor(base_score=None, booster=None, callbacks=None,\n",
              "             colsample_bylevel=None, colsample_bynode=None,\n",
              "             colsample_bytree=None, early_stopping_rounds=None,\n",
              "             enable_categorical=False, eval_metric=None, feature_types=None,\n",
              "             gamma=None, gpu_id=None, grow_policy=None, importance_type=None,\n",
              "             interaction_constraints=None, learning_rate=None, max_bin=None,\n",
              "             max_cat_threshold=None, max_cat_to_onehot=None,\n",
              "             max_delta_step=None, max_depth=None, max_leaves=None,\n",
              "             min_child_weight=None, missing=nan, monotone_constraints=None,\n",
              "             n_estimators=100, n_jobs=None, num_parallel_tree=None,\n",
              "             predictor=None, random_state=None, ...)</pre></div></div></div></div></div>"
            ]
          },
          "metadata": {},
          "execution_count": 484
        }
      ],
      "source": [
        "import xgboost as xgb\n",
        "from sklearn.model_selection import train_test_split\n",
        "\n",
        "# Convert the data into an XGBoost-compatible format\n",
        "dtrain = xgb.DMatrix(X_train, label=y_train)\n",
        "dtest = xgb.DMatrix(X_test)\n",
        "\n",
        "# Define the parameters for the XGBoost model\n",
        "param_grid = {\n",
        "    'objective': ['multi:softmax'],  # Specify the learning task and the corresponding learning objective\n",
        "    'num_class': [3],  # Number of classes in the dataset\n",
        "    'tree_method': ['auto'],  # Use the efficient tree building algorithm\n",
        "    'nthread': [-1],  # Use all available CPU threads\n",
        "    'learning_rate': [0.1],\n",
        "    'max_depth': [5],\n",
        "    'subsample': [0.5, 0.6, 0.7, 0.8, 0.9],\n",
        "    'colsample_bytree': [0.5, 0.6, 0.7, 0.8, 0.9],\n",
        "    'n_estimators': [100]\n",
        "}\n",
        "\n",
        "# Define the model\n",
        "model = xgb.XGBRegressor()\n",
        "model.fit(X_train, y_train)\n"
      ]
    },
    {
      "cell_type": "code",
      "execution_count": 485,
      "metadata": {
        "id": "MiDOvsnz8l59"
      },
      "outputs": [],
      "source": [
        "#Predicting using the X_test\n",
        "y_pred = model.predict(X_test)"
      ]
    },
    {
      "cell_type": "code",
      "execution_count": 486,
      "metadata": {
        "colab": {
          "base_uri": "https://localhost:8080/"
        },
        "outputId": "531b3f57-e6c4-4dc2-a331-ca246e24d908",
        "id": "0CQNfhAP8l59"
      },
      "outputs": [
        {
          "output_type": "stream",
          "name": "stdout",
          "text": [
            "Predicted number of referrals for the first 15 days of November:\n",
            "[426.94995 505.20935 431.41055 428.65396 431.3941  429.69006 429.69006\n",
            " 429.69006 512.7612  524.88165 501.31607 501.31882 513.4204  513.4203\n",
            " 500.0565 ]\n"
          ]
        }
      ],
      "source": [
        "#Predicted values\n",
        "print(\"Predicted number of referrals for the first 15 days of November:\")\n",
        "print(y_pred)"
      ]
    },
    {
      "cell_type": "code",
      "execution_count": 487,
      "metadata": {
        "id": "jEEWywjK8l5-"
      },
      "outputs": [],
      "source": [
        "#Taking first 15 dates of sikka data\n",
        "df = sikka_data['Date'][-15:] "
      ]
    },
    {
      "cell_type": "code",
      "execution_count": 488,
      "metadata": {
        "id": "PJmwU4HU8l5-"
      },
      "outputs": [],
      "source": [
        "#Converting into a DataFrame\n",
        "df = pd.DataFrame(df)"
      ]
    },
    {
      "cell_type": "code",
      "execution_count": 489,
      "metadata": {
        "id": "cyUwKNYf8l5-"
      },
      "outputs": [],
      "source": [
        "#Adding Predicted values to existing df dataframe\n",
        "df['Predicted_Referrals'] = y_pred"
      ]
    },
    {
      "cell_type": "code",
      "execution_count": 490,
      "metadata": {
        "colab": {
          "base_uri": "https://localhost:8080/",
          "height": 143
        },
        "outputId": "d86ac74c-8b5b-4563-83df-2291af3a715e",
        "id": "tLCxXAV-8l5_"
      },
      "outputs": [
        {
          "output_type": "execute_result",
          "data": {
            "text/plain": [
              "          Date  Predicted_Referrals\n",
              "41  2022-11-11           501.316071\n",
              "34  2022-11-04           428.653961\n",
              "43  2022-11-13           513.420410"
            ],
            "text/html": [
              "\n",
              "  <div id=\"df-a5384f82-c4b4-4af4-8873-0cdee0c50640\">\n",
              "    <div class=\"colab-df-container\">\n",
              "      <div>\n",
              "<style scoped>\n",
              "    .dataframe tbody tr th:only-of-type {\n",
              "        vertical-align: middle;\n",
              "    }\n",
              "\n",
              "    .dataframe tbody tr th {\n",
              "        vertical-align: top;\n",
              "    }\n",
              "\n",
              "    .dataframe thead th {\n",
              "        text-align: right;\n",
              "    }\n",
              "</style>\n",
              "<table border=\"1\" class=\"dataframe\">\n",
              "  <thead>\n",
              "    <tr style=\"text-align: right;\">\n",
              "      <th></th>\n",
              "      <th>Date</th>\n",
              "      <th>Predicted_Referrals</th>\n",
              "    </tr>\n",
              "  </thead>\n",
              "  <tbody>\n",
              "    <tr>\n",
              "      <th>41</th>\n",
              "      <td>2022-11-11</td>\n",
              "      <td>501.316071</td>\n",
              "    </tr>\n",
              "    <tr>\n",
              "      <th>34</th>\n",
              "      <td>2022-11-04</td>\n",
              "      <td>428.653961</td>\n",
              "    </tr>\n",
              "    <tr>\n",
              "      <th>43</th>\n",
              "      <td>2022-11-13</td>\n",
              "      <td>513.420410</td>\n",
              "    </tr>\n",
              "  </tbody>\n",
              "</table>\n",
              "</div>\n",
              "      <button class=\"colab-df-convert\" onclick=\"convertToInteractive('df-a5384f82-c4b4-4af4-8873-0cdee0c50640')\"\n",
              "              title=\"Convert this dataframe to an interactive table.\"\n",
              "              style=\"display:none;\">\n",
              "        \n",
              "  <svg xmlns=\"http://www.w3.org/2000/svg\" height=\"24px\"viewBox=\"0 0 24 24\"\n",
              "       width=\"24px\">\n",
              "    <path d=\"M0 0h24v24H0V0z\" fill=\"none\"/>\n",
              "    <path d=\"M18.56 5.44l.94 2.06.94-2.06 2.06-.94-2.06-.94-.94-2.06-.94 2.06-2.06.94zm-11 1L8.5 8.5l.94-2.06 2.06-.94-2.06-.94L8.5 2.5l-.94 2.06-2.06.94zm10 10l.94 2.06.94-2.06 2.06-.94-2.06-.94-.94-2.06-.94 2.06-2.06.94z\"/><path d=\"M17.41 7.96l-1.37-1.37c-.4-.4-.92-.59-1.43-.59-.52 0-1.04.2-1.43.59L10.3 9.45l-7.72 7.72c-.78.78-.78 2.05 0 2.83L4 21.41c.39.39.9.59 1.41.59.51 0 1.02-.2 1.41-.59l7.78-7.78 2.81-2.81c.8-.78.8-2.07 0-2.86zM5.41 20L4 18.59l7.72-7.72 1.47 1.35L5.41 20z\"/>\n",
              "  </svg>\n",
              "      </button>\n",
              "      \n",
              "  <style>\n",
              "    .colab-df-container {\n",
              "      display:flex;\n",
              "      flex-wrap:wrap;\n",
              "      gap: 12px;\n",
              "    }\n",
              "\n",
              "    .colab-df-convert {\n",
              "      background-color: #E8F0FE;\n",
              "      border: none;\n",
              "      border-radius: 50%;\n",
              "      cursor: pointer;\n",
              "      display: none;\n",
              "      fill: #1967D2;\n",
              "      height: 32px;\n",
              "      padding: 0 0 0 0;\n",
              "      width: 32px;\n",
              "    }\n",
              "\n",
              "    .colab-df-convert:hover {\n",
              "      background-color: #E2EBFA;\n",
              "      box-shadow: 0px 1px 2px rgba(60, 64, 67, 0.3), 0px 1px 3px 1px rgba(60, 64, 67, 0.15);\n",
              "      fill: #174EA6;\n",
              "    }\n",
              "\n",
              "    [theme=dark] .colab-df-convert {\n",
              "      background-color: #3B4455;\n",
              "      fill: #D2E3FC;\n",
              "    }\n",
              "\n",
              "    [theme=dark] .colab-df-convert:hover {\n",
              "      background-color: #434B5C;\n",
              "      box-shadow: 0px 1px 3px 1px rgba(0, 0, 0, 0.15);\n",
              "      filter: drop-shadow(0px 1px 2px rgba(0, 0, 0, 0.3));\n",
              "      fill: #FFFFFF;\n",
              "    }\n",
              "  </style>\n",
              "\n",
              "      <script>\n",
              "        const buttonEl =\n",
              "          document.querySelector('#df-a5384f82-c4b4-4af4-8873-0cdee0c50640 button.colab-df-convert');\n",
              "        buttonEl.style.display =\n",
              "          google.colab.kernel.accessAllowed ? 'block' : 'none';\n",
              "\n",
              "        async function convertToInteractive(key) {\n",
              "          const element = document.querySelector('#df-a5384f82-c4b4-4af4-8873-0cdee0c50640');\n",
              "          const dataTable =\n",
              "            await google.colab.kernel.invokeFunction('convertToInteractive',\n",
              "                                                     [key], {});\n",
              "          if (!dataTable) return;\n",
              "\n",
              "          const docLinkHtml = 'Like what you see? Visit the ' +\n",
              "            '<a target=\"_blank\" href=https://colab.research.google.com/notebooks/data_table.ipynb>data table notebook</a>'\n",
              "            + ' to learn more about interactive tables.';\n",
              "          element.innerHTML = '';\n",
              "          dataTable['output_type'] = 'display_data';\n",
              "          await google.colab.output.renderOutput(dataTable, element);\n",
              "          const docLink = document.createElement('div');\n",
              "          docLink.innerHTML = docLinkHtml;\n",
              "          element.appendChild(docLink);\n",
              "        }\n",
              "      </script>\n",
              "    </div>\n",
              "  </div>\n",
              "  "
            ]
          },
          "metadata": {},
          "execution_count": 490
        }
      ],
      "source": [
        "#Looking at the dataframe\n",
        "df.sample(3)"
      ]
    },
    {
      "cell_type": "code",
      "source": [
        "#Comparing the actual referrals to predicted referrals\n",
        "df['Predicted_Referrals'].plot(legend=True)\n",
        "sikka_data['Referrals'][:-15].plot(legend=True)"
      ],
      "metadata": {
        "colab": {
          "base_uri": "https://localhost:8080/",
          "height": 447
        },
        "id": "XNQwoSIHBMqc",
        "outputId": "a08c0365-f4aa-4cb0-9225-90c4a6c75362"
      },
      "execution_count": 491,
      "outputs": [
        {
          "output_type": "execute_result",
          "data": {
            "text/plain": [
              "<Axes: >"
            ]
          },
          "metadata": {},
          "execution_count": 491
        },
        {
          "output_type": "display_data",
          "data": {
            "text/plain": [
              "<Figure size 640x480 with 1 Axes>"
            ],
            "image/png": "[encoded data removed]"
          },
          "metadata": {}
        }
      ]
    },
    {
      "cell_type": "code",
      "source": [],
      "metadata": {
        "id": "GmppXzohDZ_s"
      },
      "execution_count": null,
      "outputs": []
    },
    {
      "cell_type": "markdown",
      "metadata": {
        "id": "4Qo7Vx_aelvZ"
      },
      "source": [
        "# ADX is an ad exchange platform for large publishers with significant sales. It supports both Web\n",
        "and mobile apps & game inventories. Through ADX, publishers can sell their ad inventory to\n",
        "advertisers and agencies using real-time bidding technology. AdX provides more efficient usage of\n",
        "ad spaces using real-time auctions.\n",
        "\n",
        "P4. A sample dataset with data for a few apps which uses ADX is given from the month of October.\n",
        "You need to find out if there is any anomaly present in the data for any of the apps present\n",
        "in the sample dataset. The metrics you can look into are the requests, impressions, clicks,\n",
        "revenue, show-rate( impressions/responses ), click-rate (clicks/impressions) or any other feature\n",
        "which you think will be helpful to gain more insight about any anomaly."
      ]
    },
    {
      "cell_type": "markdown",
      "metadata": {
        "id": "zq_p53G5elvZ"
      },
      "source": [
        "The aim of this analysis will be identify the anomaly present in the dataset.\n",
        "Procedure that we will be following are:\n",
        "1. Getting know about the data like about its shape, how does the data look like, what are the column present, identifying the null values if there are any and more.\n",
        "\n",
        "2. After that we will be adding some column to have better picture of the data.\n",
        "\n",
        "3. Next we will be plotting graph on the basis of apps to see which app's data is having the outlier.\n",
        "\n",
        "4. Then, we will be focusing on the app that are having outliers and will generate z score for every feature and get the exact outliers,"
      ]
    },
    {
      "cell_type": "code",
      "execution_count": null,
      "metadata": {
        "id": "YIQ0jSWHelva",
        "outputId": "d78004ac-68a2-40d5-867b-fa033e635b9e"
      },
      "outputs": [
        {
          "data": {
            "text/html": [
              "<div>\n",
              "<style scoped>\n",
              "    .dataframe tbody tr th:only-of-type {\n",
              "        vertical-align: middle;\n",
              "    }\n",
              "\n",
              "    .dataframe tbody tr th {\n",
              "        vertical-align: top;\n",
              "    }\n",
              "\n",
              "    .dataframe thead th {\n",
              "        text-align: right;\n",
              "    }\n",
              "</style>\n",
              "<table border=\"1\" class=\"dataframe\">\n",
              "  <thead>\n",
              "    <tr style=\"text-align: right;\">\n",
              "      <th></th>\n",
              "      <th>date</th>\n",
              "      <th>pub_id</th>\n",
              "      <th>app_id</th>\n",
              "      <th>ad_unit_code</th>\n",
              "      <th>country</th>\n",
              "      <th>requests</th>\n",
              "      <th>ae_responses</th>\n",
              "      <th>ae_impressions</th>\n",
              "      <th>ae_clicks</th>\n",
              "      <th>ae_revenue</th>\n",
              "    </tr>\n",
              "  </thead>\n",
              "  <tbody>\n",
              "    <tr>\n",
              "      <th>0</th>\n",
              "      <td>2022-10-20</td>\n",
              "      <td>1987</td>\n",
              "      <td>16243270</td>\n",
              "      <td>22832846443</td>\n",
              "      <td>Tanzania</td>\n",
              "      <td>36</td>\n",
              "      <td>36</td>\n",
              "      <td>34</td>\n",
              "      <td>0</td>\n",
              "      <td>0.035738</td>\n",
              "    </tr>\n",
              "    <tr>\n",
              "      <th>1</th>\n",
              "      <td>2022-10-20</td>\n",
              "      <td>1987</td>\n",
              "      <td>16243270</td>\n",
              "      <td>22832846593</td>\n",
              "      <td>Tanzania</td>\n",
              "      <td>24</td>\n",
              "      <td>24</td>\n",
              "      <td>23</td>\n",
              "      <td>0</td>\n",
              "      <td>0.064384</td>\n",
              "    </tr>\n",
              "    <tr>\n",
              "      <th>2</th>\n",
              "      <td>2022-10-20</td>\n",
              "      <td>1987</td>\n",
              "      <td>16243270</td>\n",
              "      <td>22832846443</td>\n",
              "      <td>Thailand</td>\n",
              "      <td>949</td>\n",
              "      <td>949</td>\n",
              "      <td>876</td>\n",
              "      <td>20</td>\n",
              "      <td>4.943878</td>\n",
              "    </tr>\n",
              "    <tr>\n",
              "      <th>3</th>\n",
              "      <td>2022-10-20</td>\n",
              "      <td>1987</td>\n",
              "      <td>16243270</td>\n",
              "      <td>22832846593</td>\n",
              "      <td>Thailand</td>\n",
              "      <td>1006</td>\n",
              "      <td>907</td>\n",
              "      <td>688</td>\n",
              "      <td>134</td>\n",
              "      <td>24.226836</td>\n",
              "    </tr>\n",
              "    <tr>\n",
              "      <th>4</th>\n",
              "      <td>2022-10-20</td>\n",
              "      <td>1987</td>\n",
              "      <td>16243270</td>\n",
              "      <td>22832827729</td>\n",
              "      <td>Thailand</td>\n",
              "      <td>373</td>\n",
              "      <td>287</td>\n",
              "      <td>156</td>\n",
              "      <td>20</td>\n",
              "      <td>2.759392</td>\n",
              "    </tr>\n",
              "  </tbody>\n",
              "</table>\n",
              "</div>"
            ],
            "text/plain": [
              "         date  pub_id    app_id  ad_unit_code   country  requests  \\\n",
              "0  2022-10-20    1987  16243270   22832846443  Tanzania        36   \n",
              "1  2022-10-20    1987  16243270   22832846593  Tanzania        24   \n",
              "2  2022-10-20    1987  16243270   22832846443  Thailand       949   \n",
              "3  2022-10-20    1987  16243270   22832846593  Thailand      1006   \n",
              "4  2022-10-20    1987  16243270   22832827729  Thailand       373   \n",
              "\n",
              "   ae_responses  ae_impressions  ae_clicks  ae_revenue  \n",
              "0            36              34          0    0.035738  \n",
              "1            24              23          0    0.064384  \n",
              "2           949             876         20    4.943878  \n",
              "3           907             688        134   24.226836  \n",
              "4           287             156         20    2.759392  "
            ]
          },
          "execution_count": 908,
          "metadata": {},
          "output_type": "execute_result"
        }
      ],
      "source": [
        "#getting a brief about the data\n",
        "ADX.head()"
      ]
    },
    {
      "cell_type": "code",
      "execution_count": null,
      "metadata": {
        "id": "T0NqOB5Relva",
        "outputId": "fac8424a-b2b2-4520-e241-ad4d00e3e97e"
      },
      "outputs": [
        {
          "data": {
            "text/plain": [
              "(47935, 10)"
            ]
          },
          "execution_count": 909,
          "metadata": {},
          "output_type": "execute_result"
        }
      ],
      "source": [
        "#finding out the shape of the data\n",
        "ADX.shape"
      ]
    },
    {
      "cell_type": "code",
      "execution_count": null,
      "metadata": {
        "id": "7PuK-DFFelva",
        "outputId": "7f17d20f-1b97-4294-ecd4-cd71282d0e78"
      },
      "outputs": [
        {
          "data": {
            "text/html": [
              "<div>\n",
              "<style scoped>\n",
              "    .dataframe tbody tr th:only-of-type {\n",
              "        vertical-align: middle;\n",
              "    }\n",
              "\n",
              "    .dataframe tbody tr th {\n",
              "        vertical-align: top;\n",
              "    }\n",
              "\n",
              "    .dataframe thead th {\n",
              "        text-align: right;\n",
              "    }\n",
              "</style>\n",
              "<table border=\"1\" class=\"dataframe\">\n",
              "  <thead>\n",
              "    <tr style=\"text-align: right;\">\n",
              "      <th></th>\n",
              "      <th>pub_id</th>\n",
              "      <th>app_id</th>\n",
              "      <th>ad_unit_code</th>\n",
              "      <th>requests</th>\n",
              "      <th>ae_responses</th>\n",
              "      <th>ae_impressions</th>\n",
              "      <th>ae_clicks</th>\n",
              "      <th>ae_revenue</th>\n",
              "    </tr>\n",
              "  </thead>\n",
              "  <tbody>\n",
              "    <tr>\n",
              "      <th>count</th>\n",
              "      <td>47935.000000</td>\n",
              "      <td>4.793500e+04</td>\n",
              "      <td>4.793500e+04</td>\n",
              "      <td>47935.000000</td>\n",
              "      <td>47935.000000</td>\n",
              "      <td>47935.000000</td>\n",
              "      <td>47935.000000</td>\n",
              "      <td>47935.000000</td>\n",
              "    </tr>\n",
              "    <tr>\n",
              "      <th>mean</th>\n",
              "      <td>413.188213</td>\n",
              "      <td>5.015577e+07</td>\n",
              "      <td>2.268402e+10</td>\n",
              "      <td>585.827808</td>\n",
              "      <td>516.918202</td>\n",
              "      <td>257.055137</td>\n",
              "      <td>13.502514</td>\n",
              "      <td>2.098320</td>\n",
              "    </tr>\n",
              "    <tr>\n",
              "      <th>std</th>\n",
              "      <td>893.645657</td>\n",
              "      <td>2.465772e+07</td>\n",
              "      <td>1.215869e+08</td>\n",
              "      <td>3024.686475</td>\n",
              "      <td>2579.695718</td>\n",
              "      <td>1294.313552</td>\n",
              "      <td>73.922916</td>\n",
              "      <td>27.784254</td>\n",
              "    </tr>\n",
              "    <tr>\n",
              "      <th>min</th>\n",
              "      <td>14.000000</td>\n",
              "      <td>1.624327e+07</td>\n",
              "      <td>2.247747e+10</td>\n",
              "      <td>16.000000</td>\n",
              "      <td>16.000000</td>\n",
              "      <td>16.000000</td>\n",
              "      <td>0.000000</td>\n",
              "      <td>0.000111</td>\n",
              "    </tr>\n",
              "    <tr>\n",
              "      <th>25%</th>\n",
              "      <td>14.000000</td>\n",
              "      <td>2.559680e+07</td>\n",
              "      <td>2.252151e+10</td>\n",
              "      <td>50.000000</td>\n",
              "      <td>47.000000</td>\n",
              "      <td>27.000000</td>\n",
              "      <td>0.000000</td>\n",
              "      <td>0.026047</td>\n",
              "    </tr>\n",
              "    <tr>\n",
              "      <th>50%</th>\n",
              "      <td>51.000000</td>\n",
              "      <td>4.786228e+07</td>\n",
              "      <td>2.275208e+10</td>\n",
              "      <td>109.000000</td>\n",
              "      <td>100.000000</td>\n",
              "      <td>52.000000</td>\n",
              "      <td>2.000000</td>\n",
              "      <td>0.112968</td>\n",
              "    </tr>\n",
              "    <tr>\n",
              "      <th>75%</th>\n",
              "      <td>72.000000</td>\n",
              "      <td>4.786228e+07</td>\n",
              "      <td>2.277034e+10</td>\n",
              "      <td>300.000000</td>\n",
              "      <td>275.000000</td>\n",
              "      <td>140.000000</td>\n",
              "      <td>7.000000</td>\n",
              "      <td>0.537878</td>\n",
              "    </tr>\n",
              "    <tr>\n",
              "      <th>max</th>\n",
              "      <td>2808.000000</td>\n",
              "      <td>9.567477e+07</td>\n",
              "      <td>2.283576e+10</td>\n",
              "      <td>156435.000000</td>\n",
              "      <td>156296.000000</td>\n",
              "      <td>69448.000000</td>\n",
              "      <td>6853.000000</td>\n",
              "      <td>2137.181915</td>\n",
              "    </tr>\n",
              "  </tbody>\n",
              "</table>\n",
              "</div>"
            ],
            "text/plain": [
              "             pub_id        app_id  ad_unit_code       requests   ae_responses  \\\n",
              "count  47935.000000  4.793500e+04  4.793500e+04   47935.000000   47935.000000   \n",
              "mean     413.188213  5.015577e+07  2.268402e+10     585.827808     516.918202   \n",
              "std      893.645657  2.465772e+07  1.215869e+08    3024.686475    2579.695718   \n",
              "min       14.000000  1.624327e+07  2.247747e+10      16.000000      16.000000   \n",
              "25%       14.000000  2.559680e+07  2.252151e+10      50.000000      47.000000   \n",
              "50%       51.000000  4.786228e+07  2.275208e+10     109.000000     100.000000   \n",
              "75%       72.000000  4.786228e+07  2.277034e+10     300.000000     275.000000   \n",
              "max     2808.000000  9.567477e+07  2.283576e+10  156435.000000  156296.000000   \n",
              "\n",
              "       ae_impressions     ae_clicks    ae_revenue  \n",
              "count    47935.000000  47935.000000  47935.000000  \n",
              "mean       257.055137     13.502514      2.098320  \n",
              "std       1294.313552     73.922916     27.784254  \n",
              "min         16.000000      0.000000      0.000111  \n",
              "25%         27.000000      0.000000      0.026047  \n",
              "50%         52.000000      2.000000      0.112968  \n",
              "75%        140.000000      7.000000      0.537878  \n",
              "max      69448.000000   6853.000000   2137.181915  "
            ]
          },
          "execution_count": 910,
          "metadata": {},
          "output_type": "execute_result"
        }
      ],
      "source": [
        "#Checking if there are any null values and presence of any outlier.\n",
        "ADX.describe()"
      ]
    },
    {
      "cell_type": "markdown",
      "metadata": {
        "id": "aWvLqBuJelva"
      },
      "source": [
        "From the above statistical report we can clearly see that that standard deviation of 'requests',\t'ae_responses',\t'ae_impressions', 'ae_clicks' and 'ae_revenue' column are very high as comapred to the mean of these columns. This signifies two cases either most of the data present in these columns are very far from the mean or there are some extreme outliers that are responsilble for this. Let's dig deeper into this and see what is the case."
      ]
    },
    {
      "cell_type": "code",
      "execution_count": null,
      "metadata": {
        "id": "WESYcTVOelva"
      },
      "outputs": [],
      "source": [
        "#adding columns for Show and click rate in the data\n",
        "ADX['show_rate'] = ADX['ae_impressions']/ADX['ae_responses']\n",
        "ADX['click_rate'] = ADX['ae_clicks']/ADX['ae_impressions']"
      ]
    },
    {
      "cell_type": "code",
      "execution_count": null,
      "metadata": {
        "id": "Hlnu2CZDelvb"
      },
      "outputs": [],
      "source": [
        "# Creating a new data frame and Grouping by the app id to further plot the whole dataset for infering the highest revenue generation app\n",
        "df = ADX[['app_id','ae_revenue']].groupby('app_id').sum('ae_revenue').sort_values(by='ae_revenue',ascending=False)"
      ]
    },
    {
      "cell_type": "code",
      "execution_count": null,
      "metadata": {
        "id": "_4c1IIr_elvb",
        "outputId": "00de0bea-c4f8-4f3f-cde3-1466f59441e4"
      },
      "outputs": [
        {
          "name": "stdout",
          "output_type": "stream",
          "text": [
            "            ae_revenue\n",
            "app_id                \n",
            "22693095  51191.627809\n",
            "40931528  21900.482256\n",
            "43840611   5373.715967\n",
            "16243270   4245.317619\n",
            "25596802   4077.663850\n",
            "63338696   3269.125146\n",
            "47862278   3191.668051\n",
            "95674771   2868.401602\n",
            "84650721   2387.244188\n",
            "66981243   2077.719197\n"
          ]
        },
        {
          "data": {
            "image/png": "[encoded data removed]",
            "text/plain": [
              "<Figure size 1000x400 with 1 Axes>"
            ]
          },
          "metadata": {},
          "output_type": "display_data"
        }
      ],
      "source": [
        "#Now that we have added columns and grouped the data, let's understand which app is contributing how much to the revenue by plotting it\n",
        "plt.figure(figsize=(10,4))\n",
        "sns.barplot(x=df.index, y='ae_revenue', data= df)\n",
        "plt.title(\"Revenue generated by different apps\", fontsize = 12)\n",
        "plt.xlabel(\"App\",fontsize = 10)\n",
        "plt.ylabel(\"Revenue\",fontsize = 10)\n",
        "print(df)"
      ]
    },
    {
      "cell_type": "markdown",
      "metadata": {
        "id": "2RnC3Ij_elvb"
      },
      "source": [
        "What we can infer from this graph is that for the app id '22693095' and '40931528' the revenue is abnormally high.\n",
        "Now we will be creating specific dataframe for these app ids and we will be detecting the anomalies thatare causing this."
      ]
    },
    {
      "cell_type": "code",
      "execution_count": null,
      "metadata": {
        "id": "Wf9CIWsvelvb"
      },
      "outputs": [],
      "source": [
        "#creating dataframes for the abnormally high revenue generating apps\n",
        "app_1 = ADX[(ADX.app_id == 22693095)]\n",
        "app_2 = ADX[(ADX.app_id == 40931528)]"
      ]
    },
    {
      "cell_type": "code",
      "execution_count": null,
      "metadata": {
        "id": "dwzn1JjCelvb"
      },
      "outputs": [],
      "source": [
        "#droping the unnecessary columns\n",
        "app_1 = app_1.drop(['date', 'pub_id', 'ad_unit_code'],axis = 1)\n",
        "app_2 = app_2.drop(['date', 'pub_id', 'ad_unit_code'],axis = 1)"
      ]
    },
    {
      "cell_type": "code",
      "execution_count": null,
      "metadata": {
        "id": "0LFCr12Pelvb"
      },
      "outputs": [],
      "source": [
        "#grouping by both of the data by country that will help us undertand in which country the revenue got abnormally high \n",
        "app_1 = app_1.groupby(['app_id', 'country']).sum('ae_revenue')\n",
        "app_2 = app_2.groupby(['app_id', 'country']).sum('ae_revenue')"
      ]
    },
    {
      "cell_type": "markdown",
      "metadata": {
        "id": "5zB3ydlEelvc"
      },
      "source": [
        "Now, let's just the plot these metrics on the scatter plot and observe the ouliers in the data. \n",
        "Plots for the app_1 data:"
      ]
    },
    {
      "cell_type": "code",
      "execution_count": null,
      "metadata": {
        "id": "FSXC5UIuelvc",
        "outputId": "add4f9c3-216d-42bd-fe9f-132511b4b354"
      },
      "outputs": [
        {
          "data": {
            "text/plain": [
              "<AxesSubplot:xlabel='ae_revenue', ylabel='ae_impressions'>"
            ]
          },
          "execution_count": 917,
          "metadata": {},
          "output_type": "execute_result"
        },
        {
          "data": {
            "image/png": "[encoded data removed]",
            "text/plain": [
              "<Figure size 640x480 with 1 Axes>"
            ]
          },
          "metadata": {},
          "output_type": "display_data"
        }
      ],
      "source": [
        "#Using seaborn to plot for the app_1 data\n",
        "sns.scatterplot(x='ae_revenue', y='ae_impressions', data=app_1)"
      ]
    },
    {
      "cell_type": "code",
      "execution_count": null,
      "metadata": {
        "id": "s8TLBWutelvc",
        "outputId": "b036910f-04db-45aa-8257-6c58c1c3962b"
      },
      "outputs": [
        {
          "data": {
            "text/plain": [
              "<AxesSubplot:xlabel='ae_revenue', ylabel='requests'>"
            ]
          },
          "execution_count": 918,
          "metadata": {},
          "output_type": "execute_result"
        },
        {
          "data": {
            "image/png": "[encoded data removed]",
            "text/plain": [
              "<Figure size 640x480 with 1 Axes>"
            ]
          },
          "metadata": {},
          "output_type": "display_data"
        }
      ],
      "source": [
        "sns.scatterplot(x='ae_revenue', y='requests', data=app_1)"
      ]
    },
    {
      "cell_type": "code",
      "execution_count": null,
      "metadata": {
        "id": "4mTsn_lyelvc",
        "outputId": "1bff37f5-7437-4de3-812b-406612dfb8e9"
      },
      "outputs": [
        {
          "data": {
            "text/plain": [
              "<AxesSubplot:xlabel='ae_revenue', ylabel='ae_responses'>"
            ]
          },
          "execution_count": 919,
          "metadata": {},
          "output_type": "execute_result"
        },
        {
          "data": {
            "image/png": "[encoded data removed]",
            "text/plain": [
              "<Figure size 640x480 with 1 Axes>"
            ]
          },
          "metadata": {},
          "output_type": "display_data"
        }
      ],
      "source": [
        "sns.scatterplot(x='ae_revenue', y='ae_responses', data=app_1)"
      ]
    },
    {
      "cell_type": "code",
      "execution_count": null,
      "metadata": {
        "id": "KLE4R6qEelvc",
        "outputId": "69ee023a-fae0-4a51-c156-1868347ceb9d"
      },
      "outputs": [
        {
          "data": {
            "text/plain": [
              "<AxesSubplot:xlabel='ae_revenue', ylabel='ae_clicks'>"
            ]
          },
          "execution_count": 920,
          "metadata": {},
          "output_type": "execute_result"
        },
        {
          "data": {
            "image/png": "[encoded data removed]",
            "text/plain": [
              "<Figure size 640x480 with 1 Axes>"
            ]
          },
          "metadata": {},
          "output_type": "display_data"
        }
      ],
      "source": [
        "sns.scatterplot(x='ae_revenue', y='ae_clicks', data=app_1)"
      ]
    },
    {
      "cell_type": "markdown",
      "metadata": {
        "id": "Ul6HLWX0elvd"
      },
      "source": [
        "Plots for the app_2 data:"
      ]
    },
    {
      "cell_type": "code",
      "execution_count": null,
      "metadata": {
        "id": "UU5WzIuCelvd",
        "outputId": "682cae51-48cc-4058-a797-45d6f4696781"
      },
      "outputs": [
        {
          "data": {
            "text/plain": [
              "<AxesSubplot:xlabel='ae_revenue', ylabel='requests'>"
            ]
          },
          "execution_count": 921,
          "metadata": {},
          "output_type": "execute_result"
        },
        {
          "data": {
            "image/png": "[encoded data removed]",
            "text/plain": [
              "<Figure size 640x480 with 1 Axes>"
            ]
          },
          "metadata": {},
          "output_type": "display_data"
        }
      ],
      "source": [
        "#Using seaborn to plot for the app_2 data\n",
        "sns.scatterplot(x='ae_revenue', y='requests', data=app_2)"
      ]
    },
    {
      "cell_type": "code",
      "execution_count": null,
      "metadata": {
        "id": "fcXiNwmcelvd",
        "outputId": "faab99e0-ffa4-45d0-8a23-6fb57d5177f9"
      },
      "outputs": [
        {
          "data": {
            "text/plain": [
              "<AxesSubplot:xlabel='ae_revenue', ylabel='ae_responses'>"
            ]
          },
          "execution_count": 922,
          "metadata": {},
          "output_type": "execute_result"
        },
        {
          "data": {
            "image/png": "[encoded data removed]",
            "text/plain": [
              "<Figure size 640x480 with 1 Axes>"
            ]
          },
          "metadata": {},
          "output_type": "display_data"
        }
      ],
      "source": [
        "sns.scatterplot(x='ae_revenue', y='ae_responses', data=app_2)"
      ]
    },
    {
      "cell_type": "code",
      "execution_count": null,
      "metadata": {
        "id": "MpHux65Oelvd",
        "outputId": "fa5b19ac-0ae3-469e-b495-3aa836a86f96"
      },
      "outputs": [
        {
          "data": {
            "text/plain": [
              "<AxesSubplot:xlabel='ae_revenue', ylabel='ae_impressions'>"
            ]
          },
          "execution_count": 923,
          "metadata": {},
          "output_type": "execute_result"
        },
        {
          "data": {
            "image/png": "[encoded data removed]",
            "text/plain": [
              "<Figure size 640x480 with 1 Axes>"
            ]
          },
          "metadata": {},
          "output_type": "display_data"
        }
      ],
      "source": [
        "sns.scatterplot(x='ae_revenue', y='ae_impressions', data=app_2)"
      ]
    },
    {
      "cell_type": "code",
      "execution_count": null,
      "metadata": {
        "id": "SiZKHVrhelvd",
        "outputId": "b9a72167-f63c-4205-f4c7-d24979eb5111"
      },
      "outputs": [
        {
          "data": {
            "text/plain": [
              "<AxesSubplot:xlabel='ae_revenue', ylabel='ae_clicks'>"
            ]
          },
          "execution_count": 924,
          "metadata": {},
          "output_type": "execute_result"
        },
        {
          "data": {
            "image/png": "[encoded data removed]",
            "text/plain": [
              "<Figure size 640x480 with 1 Axes>"
            ]
          },
          "metadata": {},
          "output_type": "display_data"
        }
      ],
      "source": [
        "sns.scatterplot(x='ae_revenue', y='ae_clicks', data=app_2)"
      ]
    },
    {
      "cell_type": "markdown",
      "metadata": {
        "id": "ywGTihaXelvd"
      },
      "source": [
        "After plotting all the graphs we clearly see that in every of the metrics of both app there is an outllier that is far from the distribution.\n",
        "The revenue is abnoramlly high with respect to the requests, impressions, clicks and responses."
      ]
    },
    {
      "cell_type": "markdown",
      "metadata": {
        "id": "6201-94Telve"
      },
      "source": [
        "Now, our next step involves finding the exact anomalies in the data.\n",
        "And for that we are going to calculate the z_score. \n",
        "1. Let's first know what is z_score with an example: Lets say there is an array of number till 10, for these 10 numbers z score will be calculated by \n",
        "Substracting calculated mean of the data from the items in array then dividing the whole by the standard deviation of the data and then the z score is generated.\n",
        "Through the Z score we can judge the values if it is away from the mean(Positively or negatively) or not. Generally if the z score is greater than 3 or less then -3. that value is considered as an outlier. \n",
        "\n",
        "2. We will be creating a for loop that generates the z_score for all the columns present in the data set of both apps.\n",
        "\n",
        "3. Then we will creating dataframes for the outliers."
      ]
    },
    {
      "cell_type": "code",
      "execution_count": null,
      "metadata": {
        "id": "79hgxyF_elve"
      },
      "outputs": [],
      "source": [
        "#for loop to generate the zscore for app1\n",
        "for col in app_1.columns:\n",
        "    col_zscore = col + '_zscore'\n",
        "    app_1[col_zscore] = (app_1[col]-app_1[col].mean())/app_1[col].std(ddof=0)"
      ]
    },
    {
      "cell_type": "code",
      "execution_count": null,
      "metadata": {
        "id": "DjWO_yUHelve",
        "outputId": "a11387d7-a5d3-4710-9632-8fcdab62fdea"
      },
      "outputs": [
        {
          "data": {
            "text/html": [
              "<div>\n",
              "<style scoped>\n",
              "    .dataframe tbody tr th:only-of-type {\n",
              "        vertical-align: middle;\n",
              "    }\n",
              "\n",
              "    .dataframe tbody tr th {\n",
              "        vertical-align: top;\n",
              "    }\n",
              "\n",
              "    .dataframe thead th {\n",
              "        text-align: right;\n",
              "    }\n",
              "</style>\n",
              "<table border=\"1\" class=\"dataframe\">\n",
              "  <thead>\n",
              "    <tr style=\"text-align: right;\">\n",
              "      <th></th>\n",
              "      <th></th>\n",
              "      <th>requests</th>\n",
              "      <th>ae_responses</th>\n",
              "      <th>ae_impressions</th>\n",
              "      <th>ae_clicks</th>\n",
              "      <th>ae_revenue</th>\n",
              "      <th>show_rate</th>\n",
              "      <th>click_rate</th>\n",
              "      <th>requests_zscore</th>\n",
              "      <th>ae_responses_zscore</th>\n",
              "      <th>ae_impressions_zscore</th>\n",
              "      <th>ae_clicks_zscore</th>\n",
              "      <th>ae_revenue_zscore</th>\n",
              "      <th>show_rate_zscore</th>\n",
              "      <th>click_rate_zscore</th>\n",
              "    </tr>\n",
              "    <tr>\n",
              "      <th>app_id</th>\n",
              "      <th>country</th>\n",
              "      <th></th>\n",
              "      <th></th>\n",
              "      <th></th>\n",
              "      <th></th>\n",
              "      <th></th>\n",
              "      <th></th>\n",
              "      <th></th>\n",
              "      <th></th>\n",
              "      <th></th>\n",
              "      <th></th>\n",
              "      <th></th>\n",
              "      <th></th>\n",
              "      <th></th>\n",
              "      <th></th>\n",
              "    </tr>\n",
              "  </thead>\n",
              "  <tbody>\n",
              "    <tr>\n",
              "      <th rowspan=\"11\" valign=\"top\">22693095</th>\n",
              "      <th>Afghanistan</th>\n",
              "      <td>571</td>\n",
              "      <td>495</td>\n",
              "      <td>196</td>\n",
              "      <td>17</td>\n",
              "      <td>0.345175</td>\n",
              "      <td>4.172300</td>\n",
              "      <td>0.856984</td>\n",
              "      <td>-0.396519</td>\n",
              "      <td>-0.401922</td>\n",
              "      <td>-0.441164</td>\n",
              "      <td>-0.447700</td>\n",
              "      <td>-0.152346</td>\n",
              "      <td>-1.321816</td>\n",
              "      <td>-1.293707</td>\n",
              "    </tr>\n",
              "    <tr>\n",
              "      <th>Albania</th>\n",
              "      <td>36969</td>\n",
              "      <td>35439</td>\n",
              "      <td>12951</td>\n",
              "      <td>1460</td>\n",
              "      <td>52.230963</td>\n",
              "      <td>31.644676</td>\n",
              "      <td>7.785241</td>\n",
              "      <td>-0.113079</td>\n",
              "      <td>-0.100558</td>\n",
              "      <td>-0.116804</td>\n",
              "      <td>-0.083284</td>\n",
              "      <td>-0.121403</td>\n",
              "      <td>0.271724</td>\n",
              "      <td>0.321008</td>\n",
              "    </tr>\n",
              "    <tr>\n",
              "      <th>Algeria</th>\n",
              "      <td>40754</td>\n",
              "      <td>35030</td>\n",
              "      <td>14247</td>\n",
              "      <td>973</td>\n",
              "      <td>17.112385</td>\n",
              "      <td>43.477553</td>\n",
              "      <td>6.497883</td>\n",
              "      <td>-0.083604</td>\n",
              "      <td>-0.104085</td>\n",
              "      <td>-0.083847</td>\n",
              "      <td>-0.206271</td>\n",
              "      <td>-0.142346</td>\n",
              "      <td>0.958092</td>\n",
              "      <td>0.020974</td>\n",
              "    </tr>\n",
              "    <tr>\n",
              "      <th>Andorra</th>\n",
              "      <td>78</td>\n",
              "      <td>78</td>\n",
              "      <td>40</td>\n",
              "      <td>13</td>\n",
              "      <td>1.351628</td>\n",
              "      <td>1.040761</td>\n",
              "      <td>0.681818</td>\n",
              "      <td>-0.400359</td>\n",
              "      <td>-0.405519</td>\n",
              "      <td>-0.445131</td>\n",
              "      <td>-0.448710</td>\n",
              "      <td>-0.151745</td>\n",
              "      <td>-1.503462</td>\n",
              "      <td>-1.334532</td>\n",
              "    </tr>\n",
              "    <tr>\n",
              "      <th>Angola</th>\n",
              "      <td>37392</td>\n",
              "      <td>33461</td>\n",
              "      <td>11820</td>\n",
              "      <td>1516</td>\n",
              "      <td>47.706650</td>\n",
              "      <td>33.276280</td>\n",
              "      <td>10.249056</td>\n",
              "      <td>-0.109785</td>\n",
              "      <td>-0.117617</td>\n",
              "      <td>-0.145565</td>\n",
              "      <td>-0.069142</td>\n",
              "      <td>-0.124101</td>\n",
              "      <td>0.366365</td>\n",
              "      <td>0.895230</td>\n",
              "    </tr>\n",
              "    <tr>\n",
              "      <th>...</th>\n",
              "      <td>...</td>\n",
              "      <td>...</td>\n",
              "      <td>...</td>\n",
              "      <td>...</td>\n",
              "      <td>...</td>\n",
              "      <td>...</td>\n",
              "      <td>...</td>\n",
              "      <td>...</td>\n",
              "      <td>...</td>\n",
              "      <td>...</td>\n",
              "      <td>...</td>\n",
              "      <td>...</td>\n",
              "      <td>...</td>\n",
              "      <td>...</td>\n",
              "    </tr>\n",
              "    <tr>\n",
              "      <th>Vietnam</th>\n",
              "      <td>59608</td>\n",
              "      <td>56879</td>\n",
              "      <td>22940</td>\n",
              "      <td>1836</td>\n",
              "      <td>153.861943</td>\n",
              "      <td>43.499355</td>\n",
              "      <td>7.168897</td>\n",
              "      <td>0.063217</td>\n",
              "      <td>0.084345</td>\n",
              "      <td>0.137217</td>\n",
              "      <td>0.011671</td>\n",
              "      <td>-0.060795</td>\n",
              "      <td>0.959356</td>\n",
              "      <td>0.177361</td>\n",
              "    </tr>\n",
              "    <tr>\n",
              "      <th>Western Sahara</th>\n",
              "      <td>906</td>\n",
              "      <td>893</td>\n",
              "      <td>410</td>\n",
              "      <td>33</td>\n",
              "      <td>0.736768</td>\n",
              "      <td>7.885361</td>\n",
              "      <td>1.410989</td>\n",
              "      <td>-0.393911</td>\n",
              "      <td>-0.398490</td>\n",
              "      <td>-0.435722</td>\n",
              "      <td>-0.443659</td>\n",
              "      <td>-0.152112</td>\n",
              "      <td>-1.106439</td>\n",
              "      <td>-1.164590</td>\n",
              "    </tr>\n",
              "    <tr>\n",
              "      <th>Yemen</th>\n",
              "      <td>237</td>\n",
              "      <td>235</td>\n",
              "      <td>153</td>\n",
              "      <td>10</td>\n",
              "      <td>0.072625</td>\n",
              "      <td>3.882742</td>\n",
              "      <td>0.499272</td>\n",
              "      <td>-0.399120</td>\n",
              "      <td>-0.404165</td>\n",
              "      <td>-0.442257</td>\n",
              "      <td>-0.449468</td>\n",
              "      <td>-0.152508</td>\n",
              "      <td>-1.338612</td>\n",
              "      <td>-1.377076</td>\n",
              "    </tr>\n",
              "    <tr>\n",
              "      <th>Zambia</th>\n",
              "      <td>51554</td>\n",
              "      <td>42933</td>\n",
              "      <td>16425</td>\n",
              "      <td>1196</td>\n",
              "      <td>92.289406</td>\n",
              "      <td>48.255017</td>\n",
              "      <td>7.614875</td>\n",
              "      <td>0.000498</td>\n",
              "      <td>-0.035928</td>\n",
              "      <td>-0.028460</td>\n",
              "      <td>-0.149955</td>\n",
              "      <td>-0.097514</td>\n",
              "      <td>1.235209</td>\n",
              "      <td>0.281302</td>\n",
              "    </tr>\n",
              "    <tr>\n",
              "      <th>Zimbabwe</th>\n",
              "      <td>14017</td>\n",
              "      <td>13101</td>\n",
              "      <td>4861</td>\n",
              "      <td>299</td>\n",
              "      <td>8.533728</td>\n",
              "      <td>25.144683</td>\n",
              "      <td>4.103592</td>\n",
              "      <td>-0.291812</td>\n",
              "      <td>-0.293206</td>\n",
              "      <td>-0.322533</td>\n",
              "      <td>-0.376484</td>\n",
              "      <td>-0.147462</td>\n",
              "      <td>-0.105310</td>\n",
              "      <td>-0.537045</td>\n",
              "    </tr>\n",
              "  </tbody>\n",
              "</table>\n",
              "<p>200 rows × 14 columns</p>\n",
              "</div>"
            ],
            "text/plain": [
              "                         requests  ae_responses  ae_impressions  ae_clicks  \\\n",
              "app_id   country                                                             \n",
              "22693095 Afghanistan          571           495             196         17   \n",
              "         Albania            36969         35439           12951       1460   \n",
              "         Algeria            40754         35030           14247        973   \n",
              "         Andorra               78            78              40         13   \n",
              "         Angola             37392         33461           11820       1516   \n",
              "...                           ...           ...             ...        ...   \n",
              "         Vietnam            59608         56879           22940       1836   \n",
              "         Western Sahara       906           893             410         33   \n",
              "         Yemen                237           235             153         10   \n",
              "         Zambia             51554         42933           16425       1196   \n",
              "         Zimbabwe           14017         13101            4861        299   \n",
              "\n",
              "                         ae_revenue  show_rate  click_rate  requests_zscore  \\\n",
              "app_id   country                                                              \n",
              "22693095 Afghanistan       0.345175   4.172300    0.856984        -0.396519   \n",
              "         Albania          52.230963  31.644676    7.785241        -0.113079   \n",
              "         Algeria          17.112385  43.477553    6.497883        -0.083604   \n",
              "         Andorra           1.351628   1.040761    0.681818        -0.400359   \n",
              "         Angola           47.706650  33.276280   10.249056        -0.109785   \n",
              "...                             ...        ...         ...              ...   \n",
              "         Vietnam         153.861943  43.499355    7.168897         0.063217   \n",
              "         Western Sahara    0.736768   7.885361    1.410989        -0.393911   \n",
              "         Yemen             0.072625   3.882742    0.499272        -0.399120   \n",
              "         Zambia           92.289406  48.255017    7.614875         0.000498   \n",
              "         Zimbabwe          8.533728  25.144683    4.103592        -0.291812   \n",
              "\n",
              "                         ae_responses_zscore  ae_impressions_zscore  \\\n",
              "app_id   country                                                      \n",
              "22693095 Afghanistan               -0.401922              -0.441164   \n",
              "         Albania                   -0.100558              -0.116804   \n",
              "         Algeria                   -0.104085              -0.083847   \n",
              "         Andorra                   -0.405519              -0.445131   \n",
              "         Angola                    -0.117617              -0.145565   \n",
              "...                                      ...                    ...   \n",
              "         Vietnam                    0.084345               0.137217   \n",
              "         Western Sahara            -0.398490              -0.435722   \n",
              "         Yemen                     -0.404165              -0.442257   \n",
              "         Zambia                    -0.035928              -0.028460   \n",
              "         Zimbabwe                  -0.293206              -0.322533   \n",
              "\n",
              "                         ae_clicks_zscore  ae_revenue_zscore  \\\n",
              "app_id   country                                               \n",
              "22693095 Afghanistan            -0.447700          -0.152346   \n",
              "         Albania                -0.083284          -0.121403   \n",
              "         Algeria                -0.206271          -0.142346   \n",
              "         Andorra                -0.448710          -0.151745   \n",
              "         Angola                 -0.069142          -0.124101   \n",
              "...                                   ...                ...   \n",
              "         Vietnam                 0.011671          -0.060795   \n",
              "         Western Sahara         -0.443659          -0.152112   \n",
              "         Yemen                  -0.449468          -0.152508   \n",
              "         Zambia                 -0.149955          -0.097514   \n",
              "         Zimbabwe               -0.376484          -0.147462   \n",
              "\n",
              "                         show_rate_zscore  click_rate_zscore  \n",
              "app_id   country                                              \n",
              "22693095 Afghanistan            -1.321816          -1.293707  \n",
              "         Albania                 0.271724           0.321008  \n",
              "         Algeria                 0.958092           0.020974  \n",
              "         Andorra                -1.503462          -1.334532  \n",
              "         Angola                  0.366365           0.895230  \n",
              "...                                   ...                ...  \n",
              "         Vietnam                 0.959356           0.177361  \n",
              "         Western Sahara         -1.106439          -1.164590  \n",
              "         Yemen                  -1.338612          -1.377076  \n",
              "         Zambia                  1.235209           0.281302  \n",
              "         Zimbabwe               -0.105310          -0.537045  \n",
              "\n",
              "[200 rows x 14 columns]"
            ]
          },
          "execution_count": 926,
          "metadata": {},
          "output_type": "execute_result"
        }
      ],
      "source": [
        "app_1"
      ]
    },
    {
      "cell_type": "code",
      "execution_count": null,
      "metadata": {
        "id": "PC8_r0wOelve"
      },
      "outputs": [],
      "source": [
        "#for loop to generate the zscore for app2\n",
        "for col in app_2.columns:\n",
        "    col_zscore = col + '_zscore'\n",
        "    app_2[col_zscore] = (app_2[col]-app_2[col].mean())/app_2[col].std(ddof=0)"
      ]
    },
    {
      "cell_type": "code",
      "execution_count": null,
      "metadata": {
        "id": "GRWSEpPVelve"
      },
      "outputs": [],
      "source": [
        "#creating dataframes for the outliers for the app1\n",
        "req_outliers1 = app_1[['requests','requests_zscore']]\n",
        "req_outliers1 =  req_outliers1[(req_outliers1.requests_zscore>3) | (req_outliers1.requests_zscore<-3)]\n",
        "\n",
        "click_outliers1 = app_1[['ae_clicks','ae_clicks_zscore']]\n",
        "click_outliers1 =  click_outliers1[(click_outliers1.ae_clicks_zscore>3) | (click_outliers1.ae_clicks_zscore<-3)]\n",
        "\n",
        "res_outliers1 = app_1[['ae_responses','ae_responses_zscore']]\n",
        "res_outliers1 =  res_outliers1[(res_outliers1.ae_responses_zscore>3) | (res_outliers1.ae_responses_zscore<-3)]\n",
        "\n",
        "imp_outliers1 = app_1[['ae_impressions','ae_impressions_zscore']]\n",
        "imp_outliers1 =  imp_outliers1[(imp_outliers1.ae_impressions_zscore>3) | (imp_outliers1.ae_impressions_zscore<-3)]\n",
        "\n",
        "rev_outliers1 = app_1[['ae_revenue','ae_revenue_zscore']]\n",
        "rev_outliers1 =  rev_outliers1[(rev_outliers1.ae_revenue_zscore>3) | (rev_outliers1.ae_revenue_zscore<-3)]\n",
        "\n",
        "click_rate1 = app_1[['click_rate','click_rate_zscore']]\n",
        "click_rate1 =  click_rate1[(click_rate1.click_rate_zscore>3) | (click_rate1.click_rate_zscore<-3)]\n",
        "\n",
        "show_rate1 = app_1[['show_rate','show_rate_zscore']]\n",
        "show_rate1 =  show_rate1[(show_rate1.show_rate_zscore>3) | (show_rate1.show_rate_zscore<-3)]"
      ]
    },
    {
      "cell_type": "code",
      "execution_count": null,
      "metadata": {
        "id": "3nlHP8rdelvf",
        "outputId": "ddf842c3-f04d-4a93-ef86-b931d21a7e8a"
      },
      "outputs": [
        {
          "name": "stderr",
          "output_type": "stream",
          "text": [
            "C:\\Users\\amank\\AppData\\Local\\Temp\\ipykernel_18492\\683349592.py:9: UserWarning:\n",
            "\n",
            "Boolean Series key will be reindexed to match DataFrame index.\n",
            "\n"
          ]
        }
      ],
      "source": [
        "#creating dataframes for the outliers for the app1\n",
        "req_outliers2 = app_2[['requests','requests_zscore']]\n",
        "req_outliers2 =  req_outliers2[(req_outliers2.requests_zscore>3) | (req_outliers2.requests_zscore<-3)]\n",
        "\n",
        "click_outliers2 = app_2[['ae_clicks','ae_clicks_zscore']]\n",
        "click_outliers2 =  click_outliers2[(click_outliers2.ae_clicks_zscore>3) | (click_outliers2.ae_clicks_zscore<-3)]\n",
        "\n",
        "res_outliers2 = app_2[['ae_responses','ae_responses_zscore']]\n",
        "res_outliers2 =  res_outliers2[(res_outliers1.ae_responses_zscore>3) | (res_outliers2.ae_responses_zscore<-3)]\n",
        "\n",
        "imp_outliers2 = app_2[['ae_impressions','ae_impressions_zscore']]\n",
        "imp_outliers2 =  imp_outliers2[(imp_outliers2.ae_impressions_zscore>3) | (imp_outliers2.ae_impressions_zscore<-3)]\n",
        "\n",
        "rev_outliers2 = app_2[['ae_revenue','ae_revenue_zscore']]\n",
        "rev_outliers2 =  rev_outliers2[(rev_outliers2.ae_revenue_zscore>3) | (rev_outliers2.ae_revenue_zscore<-3)]\n",
        "\n",
        "click_rate2 = app_2[['click_rate','click_rate_zscore']]\n",
        "click_rate2 =  click_rate2[(click_rate2.click_rate_zscore>3) | (click_rate2.click_rate_zscore<-3)]\n",
        "\n",
        "show_rate2 = app_2[['show_rate','show_rate_zscore']]\n",
        "show_rate2 =  show_rate2[(show_rate2.show_rate_zscore>3) | (show_rate2.show_rate_zscore<-3)]"
      ]
    },
    {
      "cell_type": "code",
      "execution_count": null,
      "metadata": {
        "id": "hPbFk2Ucelvf",
        "outputId": "7eebd843-94a4-4fb5-d593-fdb8b9ce79fd"
      },
      "outputs": [
        {
          "name": "stdout",
          "output_type": "stream",
          "text": [
            "                        requests  requests_zscore\n",
            "app_id   country                                 \n",
            "22693095 Brazil           527526         3.707015\n",
            "         India            757732         5.499688\n",
            "         Mexico           444929         3.063811\n",
            "         United States   1357911        10.173437\n",
            "                        ae_clicks  ae_clicks_zscore\n",
            "app_id   country                                   \n",
            "22693095 Brazil             20530          4.732662\n",
            "         Mexico             14383          3.180296\n",
            "         Morocco            17497          3.966707\n",
            "         United States      39018          9.401630\n",
            "                        ae_responses  ae_responses_zscore\n",
            "app_id   country                                         \n",
            "22693095 Brazil               516644             4.049456\n",
            "         India                579550             4.591970\n",
            "         Mexico               428159             3.286342\n",
            "         United States       1236261            10.255585\n",
            "                        ae_impressions  ae_impressions_zscore\n",
            "app_id   country                                             \n",
            "22693095 Brazil                 154985               3.495124\n",
            "         India                  200374               4.649367\n",
            "         Mexico                 141076               3.141418\n",
            "         Turkey                 139227               3.094398\n",
            "         United States          396618               9.639857\n",
            "                          ae_revenue  ae_revenue_zscore\n",
            "app_id   country                                       \n",
            "22693095 United States  23515.821145          13.871255\n",
            "Empty DataFrame\n",
            "Columns: [show_rate, show_rate_zscore]\n",
            "Index: []\n",
            "Empty DataFrame\n",
            "Columns: [click_rate, click_rate_zscore]\n",
            "Index: []\n"
          ]
        }
      ],
      "source": [
        "#Printing all the outliers for the app1\n",
        "print(req_outliers1)\n",
        "print(click_outliers1) \n",
        "print(res_outliers1) \n",
        "print(imp_outliers1)\n",
        "print(rev_outliers1)\n",
        "print(show_rate1)\n",
        "print(click_rate1)"
      ]
    },
    {
      "cell_type": "code",
      "execution_count": null,
      "metadata": {
        "id": "IGWn_z-welvf",
        "outputId": "5adc3e37-c2f5-4c46-ffc0-0d573bbfdb62"
      },
      "outputs": [
        {
          "name": "stdout",
          "output_type": "stream",
          "text": [
            "                    requests  requests_zscore\n",
            "app_id   country                             \n",
            "40931528 Australia   1580002         9.518265\n",
            "                    ae_clicks  ae_clicks_zscore\n",
            "app_id   country                               \n",
            "40931528 Australia       8005           9.67392\n",
            "Empty DataFrame\n",
            "Columns: [ae_responses, ae_responses_zscore]\n",
            "Index: []\n",
            "                    ae_impressions  ae_impressions_zscore\n",
            "app_id   country                                         \n",
            "40931528 Australia          676946                9.55193\n",
            "                      ae_revenue  ae_revenue_zscore\n",
            "app_id   country                                   \n",
            "40931528 Australia  20766.244446           9.898315\n",
            "Empty DataFrame\n",
            "Columns: [show_rate, show_rate_zscore]\n",
            "Index: []\n",
            "                       click_rate  click_rate_zscore\n",
            "app_id   country                                    \n",
            "40931528 Senegal         3.329090            3.04885\n",
            "         Sierra Leone    3.868298            3.70478\n"
          ]
        }
      ],
      "source": [
        "#Printing all the outliers for the app2\n",
        "print(req_outliers2)\n",
        "print(click_outliers2) \n",
        "print(res_outliers2) \n",
        "print(imp_outliers2)\n",
        "print(rev_outliers2)\n",
        "print(show_rate2)\n",
        "print(click_rate2)"
      ]
    },
    {
      "cell_type": "markdown",
      "metadata": {
        "id": "TWUcQ_uselvf"
      },
      "source": [
        "Now what we can infer form the list of outliers for both the apps, let's see:\n",
        "\n",
        "For the App 1(App id - 22693095)\n",
        "\n",
        "1. In the country Brazil, India, Mexico and United States considering the revenue, impressions, clicks and requests, there are some abnormally high values especially in United states.\n",
        "\n",
        "2. For the metric click rate and show rate it looks like there are no outliers.\n",
        "\n",
        "For the App 2(App id - 40931528)\n",
        "\n",
        "1. In the country Australia considering the revenue, impressions, clicks and requests, there are some abnormally high values.\n",
        "\n",
        "2. Considering the metric show rate for country Senegal and Sierra Leone there are a bit high values."
      ]
    },
    {
      "cell_type": "markdown",
      "metadata": {
        "id": "66m02OK_elvg"
      },
      "source": []
    },
    {
      "cell_type": "code",
      "source": [],
      "metadata": {
        "id": "v-R_stkTDZ7V"
      },
      "execution_count": null,
      "outputs": []
    },
    {
      "cell_type": "code",
      "source": [],
      "metadata": {
        "id": "ImXD8LnCDZ3d"
      },
      "execution_count": null,
      "outputs": []
    }
  ]
}