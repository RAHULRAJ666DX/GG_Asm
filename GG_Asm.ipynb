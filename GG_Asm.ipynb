{
  "nbformat": 4,
  "nbformat_minor": 0,
  "metadata": {
    "colab": {
      "provenance": [],
      "authorship_tag": "ABX9TyNsHGWl7pgAwL+WV6wQHNqn",
      "include_colab_link": true
    },
    "kernelspec": {
      "name": "python3",
      "display_name": "Python 3"
    },
    "language_info": {
      "name": "python"
    }
  },
  "cells": [
    {
      "cell_type": "markdown",
      "metadata": {
        "id": "view-in-github",
        "colab_type": "text"
      },
      "source": [
        "<a href=\"https://colab.research.google.com/github/RAHULRAJ666DX/GG_asm/blob/main/GG_Asm.ipynb\" target=\"_parent\"><img src=\"https://colab.research.google.com/assets/colab-badge.svg\" alt=\"Open In Colab\"/></a>"
      ]
    },
    {
      "cell_type": "code",
      "execution_count": null,
      "metadata": {
        "id": "hfkhE0VKJvh1"
      },
      "outputs": [],
      "source": [
        "import numpy as np\n",
        "import pandas as pd "
      ]
    },
    {
      "cell_type": "code",
      "source": [],
      "metadata": {
        "id": "Hyyr-Be2OGdZ"
      },
      "execution_count": null,
      "outputs": []
    }
  ]
}